{
  "nbformat": 4,
  "nbformat_minor": 0,
  "metadata": {
    "colab": {
      "name": "Bank Marketing case study ",
      "provenance": [],
      "collapsed_sections": [],
      "mount_file_id": "1gisItDDIQsKbXK9n64ILCsyvaTOoBfLT",
      "authorship_tag": "ABX9TyOfweJvdg2iJGyXfaN5Oidk",
      "include_colab_link": true
    },
    "kernelspec": {
      "name": "python3",
      "display_name": "Python 3"
    }
  },
  "cells": [
    {
      "cell_type": "markdown",
      "metadata": {
        "id": "view-in-github",
        "colab_type": "text"
      },
      "source": [
        "<a href=\"https://colab.research.google.com/github/GoldstonDias/BeerRecommendationEngine/blob/master/Bank_Marketing_case_study.ipynb\" target=\"_parent\"><img src=\"https://colab.research.google.com/assets/colab-badge.svg\" alt=\"Open In Colab\"/></a>"
      ]
    },
    {
      "cell_type": "markdown",
      "metadata": {
        "id": "C4UcmL1eYnEE",
        "colab_type": "text"
      },
      "source": [
        "##Customer Subscription model"
      ]
    },
    {
      "cell_type": "markdown",
      "metadata": {
        "id": "wv_oSYKRZDfX",
        "colab_type": "text"
      },
      "source": [
        "The aforementioned data set includes direct marketing campaigns (i.e. phone calls) of a Portuguese banking institution. The goal is to predict if the client will subscribe a term deposit (indicated in the y variable). Your task is to create a model that will help this banking institution determine, in advance, clients who will be receptive to such marketing campaigns. Clearly state the metric used for this problem"
      ]
    },
    {
      "cell_type": "markdown",
      "metadata": {
        "id": "C0AU2fqh01cz",
        "colab_type": "text"
      },
      "source": [
        "1. Thorugh understanding of the problem \n",
        "2. Thorough exploration of the data\n",
        "3. Thorough cleaning and data prep\n",
        "4. Logical model selection\n",
        "5. Model optimization (hyperparameter tuning)\n",
        "6. Clear easy to follow code\n",
        "7. Accurate model + logical evaluation criteria\n",
        "8. Presentable write up\n"
      ]
    },
    {
      "cell_type": "code",
      "metadata": {
        "id": "EUIckIOIEhrw",
        "colab_type": "code",
        "colab": {
          "base_uri": "https://localhost:8080/",
          "height": 51
        },
        "outputId": "2e488b89-3251-4cd3-ac5e-081c3d9841e6"
      },
      "source": [
        "import numpy as np\n",
        "import pandas as pd\n",
        "import matplotlib.pyplot as plt\n",
        "import seaborn as sns\n",
        "import statsmodels as sm\n",
        "sns.set(style='whitegrid')\n",
        "%matplotlib inline "
      ],
      "execution_count": 3,
      "outputs": [
        {
          "output_type": "stream",
          "text": [
            "/usr/local/lib/python3.6/dist-packages/statsmodels/tools/_testing.py:19: FutureWarning: pandas.util.testing is deprecated. Use the functions in the public API at pandas.testing instead.\n",
            "  import pandas.util.testing as tm\n"
          ],
          "name": "stderr"
        }
      ]
    },
    {
      "cell_type": "markdown",
      "metadata": {
        "id": "J5RKzAlli8Wr",
        "colab_type": "text"
      },
      "source": [
        "Load the Data from google collab"
      ]
    },
    {
      "cell_type": "code",
      "metadata": {
        "id": "O6gh5i9wZDIw",
        "colab_type": "code",
        "colab": {}
      },
      "source": [
        "Bankadditional = pd.read_csv('../content/drive/My Drive/QuickenLoansCaseStudy/bank-additional-full.csv',sep=';')\n",
        "BankFull = pd.read_csv('../content/drive/My Drive/QuickenLoansCaseStudy/bank-full.csv',sep=';')"
      ],
      "execution_count": 6,
      "outputs": []
    },
    {
      "cell_type": "markdown",
      "metadata": {
        "id": "IpKhHOTTiiwX",
        "colab_type": "text"
      },
      "source": [
        "## Examine the Data"
      ]
    },
    {
      "cell_type": "markdown",
      "metadata": {
        "id": "QaW0UnT4B9cY",
        "colab_type": "text"
      },
      "source": [
        "Variables present in the data:\n",
        "\n",
        "Age (numeric)\n",
        "\n",
        "Job : type of job (categorical: 'admin.','blue-collar','entrepreneur','housemaid','management','retired','self-employed','services','student','technician','unemployed','unknown')\n",
        "\n",
        "Marital : marital status (categorical: 'divorced','married','single','unknown'; note: 'divorced' means divorced or widowed)\n",
        "\n",
        "Education (categorical: 'basic.4y','basic.6y','basic.9y','high.school','illiterate','professional.course','university.degree','unknown')\n",
        "\n",
        "Default: has credit in default? (categorical: 'no','yes','unknown')\n",
        "\n",
        "Housing: has housing loan? (categorical: 'no','yes','unknown')\n",
        "\n",
        "Loan: has personal loan? (categorical: 'no','yes','unknown')\n",
        "### Variables related with the last contact of the current campaign:\n",
        "\n",
        "Contact: contact communication type (categorical: 'cellular','telephone')\n",
        "\n",
        "Month: last contact month of year (categorical: 'jan', 'feb', 'mar', ..., 'nov', 'dec')\n",
        "\n",
        "Day_of_week: last contact day of the week (categorical: 'mon','tue','wed','thu','fri')\n",
        "\n",
        "Duration: last contact duration, in seconds (numeric). Important note: this attribute highly affects the output target (e.g., if duration=0 then y='no'). Yet, the duration is not known before a call is performed. Also, after the end of the call y is obviously known. Thus, this input should only be included for benchmark purposes and should be discarded if the intention is to have a realistic predictive model.\n",
        "\n",
        "### other attributes:\n",
        "\n",
        "Campaign: number of contacts performed during this campaign and for this client (numeric, includes last contact)\n",
        "\n",
        "Pdays: number of days that passed by after the client was last contacted from a previous campaign (numeric; 999 means client was not previously contacted)\n",
        "\n",
        "Previous: number of contacts performed before this campaign and for this client (numeric)\n",
        "15 - poutcome: outcome of the previous marketing campaign (categorical: 'failure','nonexistent','success')\n",
        "### social and economic context attributes\n",
        "Emp.var.rate: employment variation rate - quarterly indicator (numeric)\n",
        "\n",
        "Cons.price.idx: consumer price index - monthly indicator (numeric)\n",
        "\n",
        "Cons.conf.idx: consumer confidence index - monthly indicator (numeric)\n",
        "\n",
        "Euribor3m: euribor 3 month rate - daily indicator (numeric)\n",
        "\n",
        "Nr.employed: number of employees - quarterly indicator (numeric)\n"
      ]
    },
    {
      "cell_type": "code",
      "metadata": {
        "id": "snwIZL73HLpN",
        "colab_type": "code",
        "colab": {
          "base_uri": "https://localhost:8080/",
          "height": 297
        },
        "outputId": "070c6121-e532-4dfa-9e26-18e54bd7e0f3"
      },
      "source": [
        "Bankadditional.describe()"
      ],
      "execution_count": 7,
      "outputs": [
        {
          "output_type": "execute_result",
          "data": {
            "text/html": [
              "<div>\n",
              "<style scoped>\n",
              "    .dataframe tbody tr th:only-of-type {\n",
              "        vertical-align: middle;\n",
              "    }\n",
              "\n",
              "    .dataframe tbody tr th {\n",
              "        vertical-align: top;\n",
              "    }\n",
              "\n",
              "    .dataframe thead th {\n",
              "        text-align: right;\n",
              "    }\n",
              "</style>\n",
              "<table border=\"1\" class=\"dataframe\">\n",
              "  <thead>\n",
              "    <tr style=\"text-align: right;\">\n",
              "      <th></th>\n",
              "      <th>age</th>\n",
              "      <th>duration</th>\n",
              "      <th>campaign</th>\n",
              "      <th>pdays</th>\n",
              "      <th>previous</th>\n",
              "      <th>emp.var.rate</th>\n",
              "      <th>cons.price.idx</th>\n",
              "      <th>cons.conf.idx</th>\n",
              "      <th>euribor3m</th>\n",
              "      <th>nr.employed</th>\n",
              "    </tr>\n",
              "  </thead>\n",
              "  <tbody>\n",
              "    <tr>\n",
              "      <th>count</th>\n",
              "      <td>41188.00000</td>\n",
              "      <td>41188.000000</td>\n",
              "      <td>41188.000000</td>\n",
              "      <td>41188.000000</td>\n",
              "      <td>41188.000000</td>\n",
              "      <td>41188.000000</td>\n",
              "      <td>41188.000000</td>\n",
              "      <td>41188.000000</td>\n",
              "      <td>41188.000000</td>\n",
              "      <td>41188.000000</td>\n",
              "    </tr>\n",
              "    <tr>\n",
              "      <th>mean</th>\n",
              "      <td>40.02406</td>\n",
              "      <td>258.285010</td>\n",
              "      <td>2.567593</td>\n",
              "      <td>962.475454</td>\n",
              "      <td>0.172963</td>\n",
              "      <td>0.081886</td>\n",
              "      <td>93.575664</td>\n",
              "      <td>-40.502600</td>\n",
              "      <td>3.621291</td>\n",
              "      <td>5167.035911</td>\n",
              "    </tr>\n",
              "    <tr>\n",
              "      <th>std</th>\n",
              "      <td>10.42125</td>\n",
              "      <td>259.279249</td>\n",
              "      <td>2.770014</td>\n",
              "      <td>186.910907</td>\n",
              "      <td>0.494901</td>\n",
              "      <td>1.570960</td>\n",
              "      <td>0.578840</td>\n",
              "      <td>4.628198</td>\n",
              "      <td>1.734447</td>\n",
              "      <td>72.251528</td>\n",
              "    </tr>\n",
              "    <tr>\n",
              "      <th>min</th>\n",
              "      <td>17.00000</td>\n",
              "      <td>0.000000</td>\n",
              "      <td>1.000000</td>\n",
              "      <td>0.000000</td>\n",
              "      <td>0.000000</td>\n",
              "      <td>-3.400000</td>\n",
              "      <td>92.201000</td>\n",
              "      <td>-50.800000</td>\n",
              "      <td>0.634000</td>\n",
              "      <td>4963.600000</td>\n",
              "    </tr>\n",
              "    <tr>\n",
              "      <th>25%</th>\n",
              "      <td>32.00000</td>\n",
              "      <td>102.000000</td>\n",
              "      <td>1.000000</td>\n",
              "      <td>999.000000</td>\n",
              "      <td>0.000000</td>\n",
              "      <td>-1.800000</td>\n",
              "      <td>93.075000</td>\n",
              "      <td>-42.700000</td>\n",
              "      <td>1.344000</td>\n",
              "      <td>5099.100000</td>\n",
              "    </tr>\n",
              "    <tr>\n",
              "      <th>50%</th>\n",
              "      <td>38.00000</td>\n",
              "      <td>180.000000</td>\n",
              "      <td>2.000000</td>\n",
              "      <td>999.000000</td>\n",
              "      <td>0.000000</td>\n",
              "      <td>1.100000</td>\n",
              "      <td>93.749000</td>\n",
              "      <td>-41.800000</td>\n",
              "      <td>4.857000</td>\n",
              "      <td>5191.000000</td>\n",
              "    </tr>\n",
              "    <tr>\n",
              "      <th>75%</th>\n",
              "      <td>47.00000</td>\n",
              "      <td>319.000000</td>\n",
              "      <td>3.000000</td>\n",
              "      <td>999.000000</td>\n",
              "      <td>0.000000</td>\n",
              "      <td>1.400000</td>\n",
              "      <td>93.994000</td>\n",
              "      <td>-36.400000</td>\n",
              "      <td>4.961000</td>\n",
              "      <td>5228.100000</td>\n",
              "    </tr>\n",
              "    <tr>\n",
              "      <th>max</th>\n",
              "      <td>98.00000</td>\n",
              "      <td>4918.000000</td>\n",
              "      <td>56.000000</td>\n",
              "      <td>999.000000</td>\n",
              "      <td>7.000000</td>\n",
              "      <td>1.400000</td>\n",
              "      <td>94.767000</td>\n",
              "      <td>-26.900000</td>\n",
              "      <td>5.045000</td>\n",
              "      <td>5228.100000</td>\n",
              "    </tr>\n",
              "  </tbody>\n",
              "</table>\n",
              "</div>"
            ],
            "text/plain": [
              "               age      duration  ...     euribor3m   nr.employed\n",
              "count  41188.00000  41188.000000  ...  41188.000000  41188.000000\n",
              "mean      40.02406    258.285010  ...      3.621291   5167.035911\n",
              "std       10.42125    259.279249  ...      1.734447     72.251528\n",
              "min       17.00000      0.000000  ...      0.634000   4963.600000\n",
              "25%       32.00000    102.000000  ...      1.344000   5099.100000\n",
              "50%       38.00000    180.000000  ...      4.857000   5191.000000\n",
              "75%       47.00000    319.000000  ...      4.961000   5228.100000\n",
              "max       98.00000   4918.000000  ...      5.045000   5228.100000\n",
              "\n",
              "[8 rows x 10 columns]"
            ]
          },
          "metadata": {
            "tags": []
          },
          "execution_count": 7
        }
      ]
    },
    {
      "cell_type": "code",
      "metadata": {
        "id": "BA7hhWFQgFa1",
        "colab_type": "code",
        "colab": {
          "base_uri": "https://localhost:8080/",
          "height": 359
        },
        "outputId": "6fe860ae-fd36-41af-9366-2a839d115574"
      },
      "source": [
        "Bankadditional.head(10)"
      ],
      "execution_count": 8,
      "outputs": [
        {
          "output_type": "execute_result",
          "data": {
            "text/html": [
              "<div>\n",
              "<style scoped>\n",
              "    .dataframe tbody tr th:only-of-type {\n",
              "        vertical-align: middle;\n",
              "    }\n",
              "\n",
              "    .dataframe tbody tr th {\n",
              "        vertical-align: top;\n",
              "    }\n",
              "\n",
              "    .dataframe thead th {\n",
              "        text-align: right;\n",
              "    }\n",
              "</style>\n",
              "<table border=\"1\" class=\"dataframe\">\n",
              "  <thead>\n",
              "    <tr style=\"text-align: right;\">\n",
              "      <th></th>\n",
              "      <th>age</th>\n",
              "      <th>job</th>\n",
              "      <th>marital</th>\n",
              "      <th>education</th>\n",
              "      <th>default</th>\n",
              "      <th>housing</th>\n",
              "      <th>loan</th>\n",
              "      <th>contact</th>\n",
              "      <th>month</th>\n",
              "      <th>day_of_week</th>\n",
              "      <th>duration</th>\n",
              "      <th>campaign</th>\n",
              "      <th>pdays</th>\n",
              "      <th>previous</th>\n",
              "      <th>poutcome</th>\n",
              "      <th>emp.var.rate</th>\n",
              "      <th>cons.price.idx</th>\n",
              "      <th>cons.conf.idx</th>\n",
              "      <th>euribor3m</th>\n",
              "      <th>nr.employed</th>\n",
              "      <th>y</th>\n",
              "    </tr>\n",
              "  </thead>\n",
              "  <tbody>\n",
              "    <tr>\n",
              "      <th>0</th>\n",
              "      <td>56</td>\n",
              "      <td>housemaid</td>\n",
              "      <td>married</td>\n",
              "      <td>basic.4y</td>\n",
              "      <td>no</td>\n",
              "      <td>no</td>\n",
              "      <td>no</td>\n",
              "      <td>telephone</td>\n",
              "      <td>may</td>\n",
              "      <td>mon</td>\n",
              "      <td>261</td>\n",
              "      <td>1</td>\n",
              "      <td>999</td>\n",
              "      <td>0</td>\n",
              "      <td>nonexistent</td>\n",
              "      <td>1.1</td>\n",
              "      <td>93.994</td>\n",
              "      <td>-36.4</td>\n",
              "      <td>4.857</td>\n",
              "      <td>5191.0</td>\n",
              "      <td>no</td>\n",
              "    </tr>\n",
              "    <tr>\n",
              "      <th>1</th>\n",
              "      <td>57</td>\n",
              "      <td>services</td>\n",
              "      <td>married</td>\n",
              "      <td>high.school</td>\n",
              "      <td>unknown</td>\n",
              "      <td>no</td>\n",
              "      <td>no</td>\n",
              "      <td>telephone</td>\n",
              "      <td>may</td>\n",
              "      <td>mon</td>\n",
              "      <td>149</td>\n",
              "      <td>1</td>\n",
              "      <td>999</td>\n",
              "      <td>0</td>\n",
              "      <td>nonexistent</td>\n",
              "      <td>1.1</td>\n",
              "      <td>93.994</td>\n",
              "      <td>-36.4</td>\n",
              "      <td>4.857</td>\n",
              "      <td>5191.0</td>\n",
              "      <td>no</td>\n",
              "    </tr>\n",
              "    <tr>\n",
              "      <th>2</th>\n",
              "      <td>37</td>\n",
              "      <td>services</td>\n",
              "      <td>married</td>\n",
              "      <td>high.school</td>\n",
              "      <td>no</td>\n",
              "      <td>yes</td>\n",
              "      <td>no</td>\n",
              "      <td>telephone</td>\n",
              "      <td>may</td>\n",
              "      <td>mon</td>\n",
              "      <td>226</td>\n",
              "      <td>1</td>\n",
              "      <td>999</td>\n",
              "      <td>0</td>\n",
              "      <td>nonexistent</td>\n",
              "      <td>1.1</td>\n",
              "      <td>93.994</td>\n",
              "      <td>-36.4</td>\n",
              "      <td>4.857</td>\n",
              "      <td>5191.0</td>\n",
              "      <td>no</td>\n",
              "    </tr>\n",
              "    <tr>\n",
              "      <th>3</th>\n",
              "      <td>40</td>\n",
              "      <td>admin.</td>\n",
              "      <td>married</td>\n",
              "      <td>basic.6y</td>\n",
              "      <td>no</td>\n",
              "      <td>no</td>\n",
              "      <td>no</td>\n",
              "      <td>telephone</td>\n",
              "      <td>may</td>\n",
              "      <td>mon</td>\n",
              "      <td>151</td>\n",
              "      <td>1</td>\n",
              "      <td>999</td>\n",
              "      <td>0</td>\n",
              "      <td>nonexistent</td>\n",
              "      <td>1.1</td>\n",
              "      <td>93.994</td>\n",
              "      <td>-36.4</td>\n",
              "      <td>4.857</td>\n",
              "      <td>5191.0</td>\n",
              "      <td>no</td>\n",
              "    </tr>\n",
              "    <tr>\n",
              "      <th>4</th>\n",
              "      <td>56</td>\n",
              "      <td>services</td>\n",
              "      <td>married</td>\n",
              "      <td>high.school</td>\n",
              "      <td>no</td>\n",
              "      <td>no</td>\n",
              "      <td>yes</td>\n",
              "      <td>telephone</td>\n",
              "      <td>may</td>\n",
              "      <td>mon</td>\n",
              "      <td>307</td>\n",
              "      <td>1</td>\n",
              "      <td>999</td>\n",
              "      <td>0</td>\n",
              "      <td>nonexistent</td>\n",
              "      <td>1.1</td>\n",
              "      <td>93.994</td>\n",
              "      <td>-36.4</td>\n",
              "      <td>4.857</td>\n",
              "      <td>5191.0</td>\n",
              "      <td>no</td>\n",
              "    </tr>\n",
              "    <tr>\n",
              "      <th>5</th>\n",
              "      <td>45</td>\n",
              "      <td>services</td>\n",
              "      <td>married</td>\n",
              "      <td>basic.9y</td>\n",
              "      <td>unknown</td>\n",
              "      <td>no</td>\n",
              "      <td>no</td>\n",
              "      <td>telephone</td>\n",
              "      <td>may</td>\n",
              "      <td>mon</td>\n",
              "      <td>198</td>\n",
              "      <td>1</td>\n",
              "      <td>999</td>\n",
              "      <td>0</td>\n",
              "      <td>nonexistent</td>\n",
              "      <td>1.1</td>\n",
              "      <td>93.994</td>\n",
              "      <td>-36.4</td>\n",
              "      <td>4.857</td>\n",
              "      <td>5191.0</td>\n",
              "      <td>no</td>\n",
              "    </tr>\n",
              "    <tr>\n",
              "      <th>6</th>\n",
              "      <td>59</td>\n",
              "      <td>admin.</td>\n",
              "      <td>married</td>\n",
              "      <td>professional.course</td>\n",
              "      <td>no</td>\n",
              "      <td>no</td>\n",
              "      <td>no</td>\n",
              "      <td>telephone</td>\n",
              "      <td>may</td>\n",
              "      <td>mon</td>\n",
              "      <td>139</td>\n",
              "      <td>1</td>\n",
              "      <td>999</td>\n",
              "      <td>0</td>\n",
              "      <td>nonexistent</td>\n",
              "      <td>1.1</td>\n",
              "      <td>93.994</td>\n",
              "      <td>-36.4</td>\n",
              "      <td>4.857</td>\n",
              "      <td>5191.0</td>\n",
              "      <td>no</td>\n",
              "    </tr>\n",
              "    <tr>\n",
              "      <th>7</th>\n",
              "      <td>41</td>\n",
              "      <td>blue-collar</td>\n",
              "      <td>married</td>\n",
              "      <td>unknown</td>\n",
              "      <td>unknown</td>\n",
              "      <td>no</td>\n",
              "      <td>no</td>\n",
              "      <td>telephone</td>\n",
              "      <td>may</td>\n",
              "      <td>mon</td>\n",
              "      <td>217</td>\n",
              "      <td>1</td>\n",
              "      <td>999</td>\n",
              "      <td>0</td>\n",
              "      <td>nonexistent</td>\n",
              "      <td>1.1</td>\n",
              "      <td>93.994</td>\n",
              "      <td>-36.4</td>\n",
              "      <td>4.857</td>\n",
              "      <td>5191.0</td>\n",
              "      <td>no</td>\n",
              "    </tr>\n",
              "    <tr>\n",
              "      <th>8</th>\n",
              "      <td>24</td>\n",
              "      <td>technician</td>\n",
              "      <td>single</td>\n",
              "      <td>professional.course</td>\n",
              "      <td>no</td>\n",
              "      <td>yes</td>\n",
              "      <td>no</td>\n",
              "      <td>telephone</td>\n",
              "      <td>may</td>\n",
              "      <td>mon</td>\n",
              "      <td>380</td>\n",
              "      <td>1</td>\n",
              "      <td>999</td>\n",
              "      <td>0</td>\n",
              "      <td>nonexistent</td>\n",
              "      <td>1.1</td>\n",
              "      <td>93.994</td>\n",
              "      <td>-36.4</td>\n",
              "      <td>4.857</td>\n",
              "      <td>5191.0</td>\n",
              "      <td>no</td>\n",
              "    </tr>\n",
              "    <tr>\n",
              "      <th>9</th>\n",
              "      <td>25</td>\n",
              "      <td>services</td>\n",
              "      <td>single</td>\n",
              "      <td>high.school</td>\n",
              "      <td>no</td>\n",
              "      <td>yes</td>\n",
              "      <td>no</td>\n",
              "      <td>telephone</td>\n",
              "      <td>may</td>\n",
              "      <td>mon</td>\n",
              "      <td>50</td>\n",
              "      <td>1</td>\n",
              "      <td>999</td>\n",
              "      <td>0</td>\n",
              "      <td>nonexistent</td>\n",
              "      <td>1.1</td>\n",
              "      <td>93.994</td>\n",
              "      <td>-36.4</td>\n",
              "      <td>4.857</td>\n",
              "      <td>5191.0</td>\n",
              "      <td>no</td>\n",
              "    </tr>\n",
              "  </tbody>\n",
              "</table>\n",
              "</div>"
            ],
            "text/plain": [
              "   age          job  marital  ... euribor3m nr.employed   y\n",
              "0   56    housemaid  married  ...     4.857      5191.0  no\n",
              "1   57     services  married  ...     4.857      5191.0  no\n",
              "2   37     services  married  ...     4.857      5191.0  no\n",
              "3   40       admin.  married  ...     4.857      5191.0  no\n",
              "4   56     services  married  ...     4.857      5191.0  no\n",
              "5   45     services  married  ...     4.857      5191.0  no\n",
              "6   59       admin.  married  ...     4.857      5191.0  no\n",
              "7   41  blue-collar  married  ...     4.857      5191.0  no\n",
              "8   24   technician   single  ...     4.857      5191.0  no\n",
              "9   25     services   single  ...     4.857      5191.0  no\n",
              "\n",
              "[10 rows x 21 columns]"
            ]
          },
          "metadata": {
            "tags": []
          },
          "execution_count": 8
        }
      ]
    },
    {
      "cell_type": "code",
      "metadata": {
        "id": "Xr_lZBqbir-f",
        "colab_type": "code",
        "colab": {
          "base_uri": "https://localhost:8080/",
          "height": 493
        },
        "outputId": "df8f83ca-1a6c-4ada-8fa1-6f71c1c7a0ba"
      },
      "source": [
        "Bankadditional.info()"
      ],
      "execution_count": 9,
      "outputs": [
        {
          "output_type": "stream",
          "text": [
            "<class 'pandas.core.frame.DataFrame'>\n",
            "RangeIndex: 41188 entries, 0 to 41187\n",
            "Data columns (total 21 columns):\n",
            " #   Column          Non-Null Count  Dtype  \n",
            "---  ------          --------------  -----  \n",
            " 0   age             41188 non-null  int64  \n",
            " 1   job             41188 non-null  object \n",
            " 2   marital         41188 non-null  object \n",
            " 3   education       41188 non-null  object \n",
            " 4   default         41188 non-null  object \n",
            " 5   housing         41188 non-null  object \n",
            " 6   loan            41188 non-null  object \n",
            " 7   contact         41188 non-null  object \n",
            " 8   month           41188 non-null  object \n",
            " 9   day_of_week     41188 non-null  object \n",
            " 10  duration        41188 non-null  int64  \n",
            " 11  campaign        41188 non-null  int64  \n",
            " 12  pdays           41188 non-null  int64  \n",
            " 13  previous        41188 non-null  int64  \n",
            " 14  poutcome        41188 non-null  object \n",
            " 15  emp.var.rate    41188 non-null  float64\n",
            " 16  cons.price.idx  41188 non-null  float64\n",
            " 17  cons.conf.idx   41188 non-null  float64\n",
            " 18  euribor3m       41188 non-null  float64\n",
            " 19  nr.employed     41188 non-null  float64\n",
            " 20  y               41188 non-null  object \n",
            "dtypes: float64(5), int64(5), object(11)\n",
            "memory usage: 6.6+ MB\n"
          ],
          "name": "stdout"
        }
      ]
    },
    {
      "cell_type": "markdown",
      "metadata": {
        "id": "B5KfpkMaXwz0",
        "colab_type": "text"
      },
      "source": [
        "###Identify numerical,categorical variables and missing values analysis"
      ]
    },
    {
      "cell_type": "code",
      "metadata": {
        "id": "M3XRMj02X1Ah",
        "colab_type": "code",
        "colab": {
          "base_uri": "https://localhost:8080/",
          "height": 102
        },
        "outputId": "b498289c-481b-4f02-9026-1806f2fd0bae"
      },
      "source": [
        "Bankadditional.columns"
      ],
      "execution_count": 10,
      "outputs": [
        {
          "output_type": "execute_result",
          "data": {
            "text/plain": [
              "Index(['age', 'job', 'marital', 'education', 'default', 'housing', 'loan',\n",
              "       'contact', 'month', 'day_of_week', 'duration', 'campaign', 'pdays',\n",
              "       'previous', 'poutcome', 'emp.var.rate', 'cons.price.idx',\n",
              "       'cons.conf.idx', 'euribor3m', 'nr.employed', 'y'],\n",
              "      dtype='object')"
            ]
          },
          "metadata": {
            "tags": []
          },
          "execution_count": 10
        }
      ]
    },
    {
      "cell_type": "code",
      "metadata": {
        "id": "YRlhyAEhYQi8",
        "colab_type": "code",
        "colab": {}
      },
      "source": [
        "numeric_cols = ['age','duration','campaign','pdays', 'emp.var.rate', 'cons.price.idx',\n",
        "       'cons.conf.idx', 'euribor3m', 'nr.employed']\n",
        "\n",
        "categorical_cols = ['job', 'marital', 'education', 'default', 'housing', 'loan',\n",
        "       'contact', 'month', 'day_of_week','previous', 'poutcome' ]"
      ],
      "execution_count": 11,
      "outputs": []
    },
    {
      "cell_type": "code",
      "metadata": {
        "id": "kcM_8766cTne",
        "colab_type": "code",
        "colab": {
          "base_uri": "https://localhost:8080/",
          "height": 297
        },
        "outputId": "eee8f829-4e83-41cb-9350-7a8d61173529"
      },
      "source": [
        "Bankadditional.describe(include = [np.number])"
      ],
      "execution_count": 12,
      "outputs": [
        {
          "output_type": "execute_result",
          "data": {
            "text/html": [
              "<div>\n",
              "<style scoped>\n",
              "    .dataframe tbody tr th:only-of-type {\n",
              "        vertical-align: middle;\n",
              "    }\n",
              "\n",
              "    .dataframe tbody tr th {\n",
              "        vertical-align: top;\n",
              "    }\n",
              "\n",
              "    .dataframe thead th {\n",
              "        text-align: right;\n",
              "    }\n",
              "</style>\n",
              "<table border=\"1\" class=\"dataframe\">\n",
              "  <thead>\n",
              "    <tr style=\"text-align: right;\">\n",
              "      <th></th>\n",
              "      <th>age</th>\n",
              "      <th>duration</th>\n",
              "      <th>campaign</th>\n",
              "      <th>pdays</th>\n",
              "      <th>previous</th>\n",
              "      <th>emp.var.rate</th>\n",
              "      <th>cons.price.idx</th>\n",
              "      <th>cons.conf.idx</th>\n",
              "      <th>euribor3m</th>\n",
              "      <th>nr.employed</th>\n",
              "    </tr>\n",
              "  </thead>\n",
              "  <tbody>\n",
              "    <tr>\n",
              "      <th>count</th>\n",
              "      <td>41188.00000</td>\n",
              "      <td>41188.000000</td>\n",
              "      <td>41188.000000</td>\n",
              "      <td>41188.000000</td>\n",
              "      <td>41188.000000</td>\n",
              "      <td>41188.000000</td>\n",
              "      <td>41188.000000</td>\n",
              "      <td>41188.000000</td>\n",
              "      <td>41188.000000</td>\n",
              "      <td>41188.000000</td>\n",
              "    </tr>\n",
              "    <tr>\n",
              "      <th>mean</th>\n",
              "      <td>40.02406</td>\n",
              "      <td>258.285010</td>\n",
              "      <td>2.567593</td>\n",
              "      <td>962.475454</td>\n",
              "      <td>0.172963</td>\n",
              "      <td>0.081886</td>\n",
              "      <td>93.575664</td>\n",
              "      <td>-40.502600</td>\n",
              "      <td>3.621291</td>\n",
              "      <td>5167.035911</td>\n",
              "    </tr>\n",
              "    <tr>\n",
              "      <th>std</th>\n",
              "      <td>10.42125</td>\n",
              "      <td>259.279249</td>\n",
              "      <td>2.770014</td>\n",
              "      <td>186.910907</td>\n",
              "      <td>0.494901</td>\n",
              "      <td>1.570960</td>\n",
              "      <td>0.578840</td>\n",
              "      <td>4.628198</td>\n",
              "      <td>1.734447</td>\n",
              "      <td>72.251528</td>\n",
              "    </tr>\n",
              "    <tr>\n",
              "      <th>min</th>\n",
              "      <td>17.00000</td>\n",
              "      <td>0.000000</td>\n",
              "      <td>1.000000</td>\n",
              "      <td>0.000000</td>\n",
              "      <td>0.000000</td>\n",
              "      <td>-3.400000</td>\n",
              "      <td>92.201000</td>\n",
              "      <td>-50.800000</td>\n",
              "      <td>0.634000</td>\n",
              "      <td>4963.600000</td>\n",
              "    </tr>\n",
              "    <tr>\n",
              "      <th>25%</th>\n",
              "      <td>32.00000</td>\n",
              "      <td>102.000000</td>\n",
              "      <td>1.000000</td>\n",
              "      <td>999.000000</td>\n",
              "      <td>0.000000</td>\n",
              "      <td>-1.800000</td>\n",
              "      <td>93.075000</td>\n",
              "      <td>-42.700000</td>\n",
              "      <td>1.344000</td>\n",
              "      <td>5099.100000</td>\n",
              "    </tr>\n",
              "    <tr>\n",
              "      <th>50%</th>\n",
              "      <td>38.00000</td>\n",
              "      <td>180.000000</td>\n",
              "      <td>2.000000</td>\n",
              "      <td>999.000000</td>\n",
              "      <td>0.000000</td>\n",
              "      <td>1.100000</td>\n",
              "      <td>93.749000</td>\n",
              "      <td>-41.800000</td>\n",
              "      <td>4.857000</td>\n",
              "      <td>5191.000000</td>\n",
              "    </tr>\n",
              "    <tr>\n",
              "      <th>75%</th>\n",
              "      <td>47.00000</td>\n",
              "      <td>319.000000</td>\n",
              "      <td>3.000000</td>\n",
              "      <td>999.000000</td>\n",
              "      <td>0.000000</td>\n",
              "      <td>1.400000</td>\n",
              "      <td>93.994000</td>\n",
              "      <td>-36.400000</td>\n",
              "      <td>4.961000</td>\n",
              "      <td>5228.100000</td>\n",
              "    </tr>\n",
              "    <tr>\n",
              "      <th>max</th>\n",
              "      <td>98.00000</td>\n",
              "      <td>4918.000000</td>\n",
              "      <td>56.000000</td>\n",
              "      <td>999.000000</td>\n",
              "      <td>7.000000</td>\n",
              "      <td>1.400000</td>\n",
              "      <td>94.767000</td>\n",
              "      <td>-26.900000</td>\n",
              "      <td>5.045000</td>\n",
              "      <td>5228.100000</td>\n",
              "    </tr>\n",
              "  </tbody>\n",
              "</table>\n",
              "</div>"
            ],
            "text/plain": [
              "               age      duration  ...     euribor3m   nr.employed\n",
              "count  41188.00000  41188.000000  ...  41188.000000  41188.000000\n",
              "mean      40.02406    258.285010  ...      3.621291   5167.035911\n",
              "std       10.42125    259.279249  ...      1.734447     72.251528\n",
              "min       17.00000      0.000000  ...      0.634000   4963.600000\n",
              "25%       32.00000    102.000000  ...      1.344000   5099.100000\n",
              "50%       38.00000    180.000000  ...      4.857000   5191.000000\n",
              "75%       47.00000    319.000000  ...      4.961000   5228.100000\n",
              "max       98.00000   4918.000000  ...      5.045000   5228.100000\n",
              "\n",
              "[8 rows x 10 columns]"
            ]
          },
          "metadata": {
            "tags": []
          },
          "execution_count": 12
        }
      ]
    },
    {
      "cell_type": "code",
      "metadata": {
        "id": "8jBUx5Q4cheQ",
        "colab_type": "code",
        "colab": {
          "base_uri": "https://localhost:8080/",
          "height": 173
        },
        "outputId": "1abc9f26-aa62-450c-c7fd-f4b3a9dc6765"
      },
      "source": [
        "Bankadditional.describe(include = ['O'])"
      ],
      "execution_count": 13,
      "outputs": [
        {
          "output_type": "execute_result",
          "data": {
            "text/html": [
              "<div>\n",
              "<style scoped>\n",
              "    .dataframe tbody tr th:only-of-type {\n",
              "        vertical-align: middle;\n",
              "    }\n",
              "\n",
              "    .dataframe tbody tr th {\n",
              "        vertical-align: top;\n",
              "    }\n",
              "\n",
              "    .dataframe thead th {\n",
              "        text-align: right;\n",
              "    }\n",
              "</style>\n",
              "<table border=\"1\" class=\"dataframe\">\n",
              "  <thead>\n",
              "    <tr style=\"text-align: right;\">\n",
              "      <th></th>\n",
              "      <th>job</th>\n",
              "      <th>marital</th>\n",
              "      <th>education</th>\n",
              "      <th>default</th>\n",
              "      <th>housing</th>\n",
              "      <th>loan</th>\n",
              "      <th>contact</th>\n",
              "      <th>month</th>\n",
              "      <th>day_of_week</th>\n",
              "      <th>poutcome</th>\n",
              "      <th>y</th>\n",
              "    </tr>\n",
              "  </thead>\n",
              "  <tbody>\n",
              "    <tr>\n",
              "      <th>count</th>\n",
              "      <td>41188</td>\n",
              "      <td>41188</td>\n",
              "      <td>41188</td>\n",
              "      <td>41188</td>\n",
              "      <td>41188</td>\n",
              "      <td>41188</td>\n",
              "      <td>41188</td>\n",
              "      <td>41188</td>\n",
              "      <td>41188</td>\n",
              "      <td>41188</td>\n",
              "      <td>41188</td>\n",
              "    </tr>\n",
              "    <tr>\n",
              "      <th>unique</th>\n",
              "      <td>12</td>\n",
              "      <td>4</td>\n",
              "      <td>8</td>\n",
              "      <td>3</td>\n",
              "      <td>3</td>\n",
              "      <td>3</td>\n",
              "      <td>2</td>\n",
              "      <td>10</td>\n",
              "      <td>5</td>\n",
              "      <td>3</td>\n",
              "      <td>2</td>\n",
              "    </tr>\n",
              "    <tr>\n",
              "      <th>top</th>\n",
              "      <td>admin.</td>\n",
              "      <td>married</td>\n",
              "      <td>university.degree</td>\n",
              "      <td>no</td>\n",
              "      <td>yes</td>\n",
              "      <td>no</td>\n",
              "      <td>cellular</td>\n",
              "      <td>may</td>\n",
              "      <td>thu</td>\n",
              "      <td>nonexistent</td>\n",
              "      <td>no</td>\n",
              "    </tr>\n",
              "    <tr>\n",
              "      <th>freq</th>\n",
              "      <td>10422</td>\n",
              "      <td>24928</td>\n",
              "      <td>12168</td>\n",
              "      <td>32588</td>\n",
              "      <td>21576</td>\n",
              "      <td>33950</td>\n",
              "      <td>26144</td>\n",
              "      <td>13769</td>\n",
              "      <td>8623</td>\n",
              "      <td>35563</td>\n",
              "      <td>36548</td>\n",
              "    </tr>\n",
              "  </tbody>\n",
              "</table>\n",
              "</div>"
            ],
            "text/plain": [
              "           job  marital          education  ... day_of_week     poutcome      y\n",
              "count    41188    41188              41188  ...       41188        41188  41188\n",
              "unique      12        4                  8  ...           5            3      2\n",
              "top     admin.  married  university.degree  ...         thu  nonexistent     no\n",
              "freq     10422    24928              12168  ...        8623        35563  36548\n",
              "\n",
              "[4 rows x 11 columns]"
            ]
          },
          "metadata": {
            "tags": []
          },
          "execution_count": 13
        }
      ]
    },
    {
      "cell_type": "code",
      "metadata": {
        "id": "IYGHYMIjc2wY",
        "colab_type": "code",
        "colab": {
          "base_uri": "https://localhost:8080/",
          "height": 238
        },
        "outputId": "83ada173-9048-46b2-b343-96a4d5b499e4"
      },
      "source": [
        "print(Bankadditional[\"job\"].value_counts())"
      ],
      "execution_count": 11,
      "outputs": [
        {
          "output_type": "stream",
          "text": [
            "admin.           10422\n",
            "blue-collar       9254\n",
            "technician        6743\n",
            "services          3969\n",
            "management        2924\n",
            "retired           1720\n",
            "entrepreneur      1456\n",
            "self-employed     1421\n",
            "housemaid         1060\n",
            "unemployed        1014\n",
            "student            875\n",
            "unknown            330\n",
            "Name: job, dtype: int64\n"
          ],
          "name": "stdout"
        }
      ]
    },
    {
      "cell_type": "code",
      "metadata": {
        "id": "MaVEq6uGoxiw",
        "colab_type": "code",
        "colab": {
          "base_uri": "https://localhost:8080/",
          "height": 419
        },
        "outputId": "1024c890-8bf3-4cdb-f5ce-08cbdc829f5f"
      },
      "source": [
        "Bankadditional"
      ],
      "execution_count": 14,
      "outputs": [
        {
          "output_type": "execute_result",
          "data": {
            "text/html": [
              "<div>\n",
              "<style scoped>\n",
              "    .dataframe tbody tr th:only-of-type {\n",
              "        vertical-align: middle;\n",
              "    }\n",
              "\n",
              "    .dataframe tbody tr th {\n",
              "        vertical-align: top;\n",
              "    }\n",
              "\n",
              "    .dataframe thead th {\n",
              "        text-align: right;\n",
              "    }\n",
              "</style>\n",
              "<table border=\"1\" class=\"dataframe\">\n",
              "  <thead>\n",
              "    <tr style=\"text-align: right;\">\n",
              "      <th></th>\n",
              "      <th>age</th>\n",
              "      <th>job</th>\n",
              "      <th>marital</th>\n",
              "      <th>education</th>\n",
              "      <th>default</th>\n",
              "      <th>housing</th>\n",
              "      <th>loan</th>\n",
              "      <th>contact</th>\n",
              "      <th>month</th>\n",
              "      <th>day_of_week</th>\n",
              "      <th>duration</th>\n",
              "      <th>campaign</th>\n",
              "      <th>pdays</th>\n",
              "      <th>previous</th>\n",
              "      <th>poutcome</th>\n",
              "      <th>emp.var.rate</th>\n",
              "      <th>cons.price.idx</th>\n",
              "      <th>cons.conf.idx</th>\n",
              "      <th>euribor3m</th>\n",
              "      <th>nr.employed</th>\n",
              "      <th>y</th>\n",
              "    </tr>\n",
              "  </thead>\n",
              "  <tbody>\n",
              "    <tr>\n",
              "      <th>0</th>\n",
              "      <td>56</td>\n",
              "      <td>housemaid</td>\n",
              "      <td>married</td>\n",
              "      <td>basic.4y</td>\n",
              "      <td>no</td>\n",
              "      <td>no</td>\n",
              "      <td>no</td>\n",
              "      <td>telephone</td>\n",
              "      <td>may</td>\n",
              "      <td>mon</td>\n",
              "      <td>261</td>\n",
              "      <td>1</td>\n",
              "      <td>999</td>\n",
              "      <td>0</td>\n",
              "      <td>nonexistent</td>\n",
              "      <td>1.1</td>\n",
              "      <td>93.994</td>\n",
              "      <td>-36.4</td>\n",
              "      <td>4.857</td>\n",
              "      <td>5191.0</td>\n",
              "      <td>no</td>\n",
              "    </tr>\n",
              "    <tr>\n",
              "      <th>1</th>\n",
              "      <td>57</td>\n",
              "      <td>services</td>\n",
              "      <td>married</td>\n",
              "      <td>high.school</td>\n",
              "      <td>unknown</td>\n",
              "      <td>no</td>\n",
              "      <td>no</td>\n",
              "      <td>telephone</td>\n",
              "      <td>may</td>\n",
              "      <td>mon</td>\n",
              "      <td>149</td>\n",
              "      <td>1</td>\n",
              "      <td>999</td>\n",
              "      <td>0</td>\n",
              "      <td>nonexistent</td>\n",
              "      <td>1.1</td>\n",
              "      <td>93.994</td>\n",
              "      <td>-36.4</td>\n",
              "      <td>4.857</td>\n",
              "      <td>5191.0</td>\n",
              "      <td>no</td>\n",
              "    </tr>\n",
              "    <tr>\n",
              "      <th>2</th>\n",
              "      <td>37</td>\n",
              "      <td>services</td>\n",
              "      <td>married</td>\n",
              "      <td>high.school</td>\n",
              "      <td>no</td>\n",
              "      <td>yes</td>\n",
              "      <td>no</td>\n",
              "      <td>telephone</td>\n",
              "      <td>may</td>\n",
              "      <td>mon</td>\n",
              "      <td>226</td>\n",
              "      <td>1</td>\n",
              "      <td>999</td>\n",
              "      <td>0</td>\n",
              "      <td>nonexistent</td>\n",
              "      <td>1.1</td>\n",
              "      <td>93.994</td>\n",
              "      <td>-36.4</td>\n",
              "      <td>4.857</td>\n",
              "      <td>5191.0</td>\n",
              "      <td>no</td>\n",
              "    </tr>\n",
              "    <tr>\n",
              "      <th>3</th>\n",
              "      <td>40</td>\n",
              "      <td>admin.</td>\n",
              "      <td>married</td>\n",
              "      <td>basic.6y</td>\n",
              "      <td>no</td>\n",
              "      <td>no</td>\n",
              "      <td>no</td>\n",
              "      <td>telephone</td>\n",
              "      <td>may</td>\n",
              "      <td>mon</td>\n",
              "      <td>151</td>\n",
              "      <td>1</td>\n",
              "      <td>999</td>\n",
              "      <td>0</td>\n",
              "      <td>nonexistent</td>\n",
              "      <td>1.1</td>\n",
              "      <td>93.994</td>\n",
              "      <td>-36.4</td>\n",
              "      <td>4.857</td>\n",
              "      <td>5191.0</td>\n",
              "      <td>no</td>\n",
              "    </tr>\n",
              "    <tr>\n",
              "      <th>4</th>\n",
              "      <td>56</td>\n",
              "      <td>services</td>\n",
              "      <td>married</td>\n",
              "      <td>high.school</td>\n",
              "      <td>no</td>\n",
              "      <td>no</td>\n",
              "      <td>yes</td>\n",
              "      <td>telephone</td>\n",
              "      <td>may</td>\n",
              "      <td>mon</td>\n",
              "      <td>307</td>\n",
              "      <td>1</td>\n",
              "      <td>999</td>\n",
              "      <td>0</td>\n",
              "      <td>nonexistent</td>\n",
              "      <td>1.1</td>\n",
              "      <td>93.994</td>\n",
              "      <td>-36.4</td>\n",
              "      <td>4.857</td>\n",
              "      <td>5191.0</td>\n",
              "      <td>no</td>\n",
              "    </tr>\n",
              "    <tr>\n",
              "      <th>...</th>\n",
              "      <td>...</td>\n",
              "      <td>...</td>\n",
              "      <td>...</td>\n",
              "      <td>...</td>\n",
              "      <td>...</td>\n",
              "      <td>...</td>\n",
              "      <td>...</td>\n",
              "      <td>...</td>\n",
              "      <td>...</td>\n",
              "      <td>...</td>\n",
              "      <td>...</td>\n",
              "      <td>...</td>\n",
              "      <td>...</td>\n",
              "      <td>...</td>\n",
              "      <td>...</td>\n",
              "      <td>...</td>\n",
              "      <td>...</td>\n",
              "      <td>...</td>\n",
              "      <td>...</td>\n",
              "      <td>...</td>\n",
              "      <td>...</td>\n",
              "    </tr>\n",
              "    <tr>\n",
              "      <th>41183</th>\n",
              "      <td>73</td>\n",
              "      <td>retired</td>\n",
              "      <td>married</td>\n",
              "      <td>professional.course</td>\n",
              "      <td>no</td>\n",
              "      <td>yes</td>\n",
              "      <td>no</td>\n",
              "      <td>cellular</td>\n",
              "      <td>nov</td>\n",
              "      <td>fri</td>\n",
              "      <td>334</td>\n",
              "      <td>1</td>\n",
              "      <td>999</td>\n",
              "      <td>0</td>\n",
              "      <td>nonexistent</td>\n",
              "      <td>-1.1</td>\n",
              "      <td>94.767</td>\n",
              "      <td>-50.8</td>\n",
              "      <td>1.028</td>\n",
              "      <td>4963.6</td>\n",
              "      <td>yes</td>\n",
              "    </tr>\n",
              "    <tr>\n",
              "      <th>41184</th>\n",
              "      <td>46</td>\n",
              "      <td>blue-collar</td>\n",
              "      <td>married</td>\n",
              "      <td>professional.course</td>\n",
              "      <td>no</td>\n",
              "      <td>no</td>\n",
              "      <td>no</td>\n",
              "      <td>cellular</td>\n",
              "      <td>nov</td>\n",
              "      <td>fri</td>\n",
              "      <td>383</td>\n",
              "      <td>1</td>\n",
              "      <td>999</td>\n",
              "      <td>0</td>\n",
              "      <td>nonexistent</td>\n",
              "      <td>-1.1</td>\n",
              "      <td>94.767</td>\n",
              "      <td>-50.8</td>\n",
              "      <td>1.028</td>\n",
              "      <td>4963.6</td>\n",
              "      <td>no</td>\n",
              "    </tr>\n",
              "    <tr>\n",
              "      <th>41185</th>\n",
              "      <td>56</td>\n",
              "      <td>retired</td>\n",
              "      <td>married</td>\n",
              "      <td>university.degree</td>\n",
              "      <td>no</td>\n",
              "      <td>yes</td>\n",
              "      <td>no</td>\n",
              "      <td>cellular</td>\n",
              "      <td>nov</td>\n",
              "      <td>fri</td>\n",
              "      <td>189</td>\n",
              "      <td>2</td>\n",
              "      <td>999</td>\n",
              "      <td>0</td>\n",
              "      <td>nonexistent</td>\n",
              "      <td>-1.1</td>\n",
              "      <td>94.767</td>\n",
              "      <td>-50.8</td>\n",
              "      <td>1.028</td>\n",
              "      <td>4963.6</td>\n",
              "      <td>no</td>\n",
              "    </tr>\n",
              "    <tr>\n",
              "      <th>41186</th>\n",
              "      <td>44</td>\n",
              "      <td>technician</td>\n",
              "      <td>married</td>\n",
              "      <td>professional.course</td>\n",
              "      <td>no</td>\n",
              "      <td>no</td>\n",
              "      <td>no</td>\n",
              "      <td>cellular</td>\n",
              "      <td>nov</td>\n",
              "      <td>fri</td>\n",
              "      <td>442</td>\n",
              "      <td>1</td>\n",
              "      <td>999</td>\n",
              "      <td>0</td>\n",
              "      <td>nonexistent</td>\n",
              "      <td>-1.1</td>\n",
              "      <td>94.767</td>\n",
              "      <td>-50.8</td>\n",
              "      <td>1.028</td>\n",
              "      <td>4963.6</td>\n",
              "      <td>yes</td>\n",
              "    </tr>\n",
              "    <tr>\n",
              "      <th>41187</th>\n",
              "      <td>74</td>\n",
              "      <td>retired</td>\n",
              "      <td>married</td>\n",
              "      <td>professional.course</td>\n",
              "      <td>no</td>\n",
              "      <td>yes</td>\n",
              "      <td>no</td>\n",
              "      <td>cellular</td>\n",
              "      <td>nov</td>\n",
              "      <td>fri</td>\n",
              "      <td>239</td>\n",
              "      <td>3</td>\n",
              "      <td>999</td>\n",
              "      <td>1</td>\n",
              "      <td>failure</td>\n",
              "      <td>-1.1</td>\n",
              "      <td>94.767</td>\n",
              "      <td>-50.8</td>\n",
              "      <td>1.028</td>\n",
              "      <td>4963.6</td>\n",
              "      <td>no</td>\n",
              "    </tr>\n",
              "  </tbody>\n",
              "</table>\n",
              "<p>41188 rows × 21 columns</p>\n",
              "</div>"
            ],
            "text/plain": [
              "       age          job  marital  ... euribor3m nr.employed    y\n",
              "0       56    housemaid  married  ...     4.857      5191.0   no\n",
              "1       57     services  married  ...     4.857      5191.0   no\n",
              "2       37     services  married  ...     4.857      5191.0   no\n",
              "3       40       admin.  married  ...     4.857      5191.0   no\n",
              "4       56     services  married  ...     4.857      5191.0   no\n",
              "...    ...          ...      ...  ...       ...         ...  ...\n",
              "41183   73      retired  married  ...     1.028      4963.6  yes\n",
              "41184   46  blue-collar  married  ...     1.028      4963.6   no\n",
              "41185   56      retired  married  ...     1.028      4963.6   no\n",
              "41186   44   technician  married  ...     1.028      4963.6  yes\n",
              "41187   74      retired  married  ...     1.028      4963.6   no\n",
              "\n",
              "[41188 rows x 21 columns]"
            ]
          },
          "metadata": {
            "tags": []
          },
          "execution_count": 14
        }
      ]
    },
    {
      "cell_type": "code",
      "metadata": {
        "id": "9rCWIvbWBXag",
        "colab_type": "code",
        "colab": {
          "base_uri": "https://localhost:8080/",
          "height": 391
        },
        "outputId": "f7a149b0-cf56-4b0a-9896-2426dccf6212"
      },
      "source": [
        "Bankadditional.isnull().sum()"
      ],
      "execution_count": 15,
      "outputs": [
        {
          "output_type": "execute_result",
          "data": {
            "text/plain": [
              "age               0\n",
              "job               0\n",
              "marital           0\n",
              "education         0\n",
              "default           0\n",
              "housing           0\n",
              "loan              0\n",
              "contact           0\n",
              "month             0\n",
              "day_of_week       0\n",
              "duration          0\n",
              "campaign          0\n",
              "pdays             0\n",
              "previous          0\n",
              "poutcome          0\n",
              "emp.var.rate      0\n",
              "cons.price.idx    0\n",
              "cons.conf.idx     0\n",
              "euribor3m         0\n",
              "nr.employed       0\n",
              "y                 0\n",
              "dtype: int64"
            ]
          },
          "metadata": {
            "tags": []
          },
          "execution_count": 15
        }
      ]
    },
    {
      "cell_type": "code",
      "metadata": {
        "id": "Gr7OgZzvBKA1",
        "colab_type": "code",
        "colab": {
          "base_uri": "https://localhost:8080/",
          "height": 68
        },
        "outputId": "d69bb475-e652-4235-a5bc-5e5e03903625"
      },
      "source": [
        "print(Bankadditional['y'].value_counts())"
      ],
      "execution_count": 14,
      "outputs": [
        {
          "output_type": "stream",
          "text": [
            "no     36548\n",
            "yes     4640\n",
            "Name: y, dtype: int64\n"
          ],
          "name": "stdout"
        }
      ]
    },
    {
      "cell_type": "markdown",
      "metadata": {
        "id": "QeKw8zisgGDA",
        "colab_type": "text"
      },
      "source": [
        "The dataset has no missing values, hence we can skip the treatment for missing values.There seems to be a class imbalance observed here and we are going to use techniques to balances the target variables classes later in the analysis .\n",
        "Lets get into the dataset using the CRISP DM framework for solving the problem.The outline would be following \n",
        "\n",
        "1.Univariate analysis\n",
        "\n",
        "2.Multivariate analysis\n",
        "\n",
        "3.Other EDA analysis\n",
        "\n",
        "4.Feature engineering and methodoogy\n",
        "\n",
        "5.Model creation and evaluation \n",
        "\n",
        "\n"
      ]
    },
    {
      "cell_type": "markdown",
      "metadata": {
        "id": "GX8HvAuHXH8m",
        "colab_type": "text"
      },
      "source": [
        "##Univariate and multivariate analysis"
      ]
    },
    {
      "cell_type": "code",
      "metadata": {
        "id": "DUHYqT5yASoQ",
        "colab_type": "code",
        "colab": {}
      },
      "source": [
        "def categorical_summarized(dataframe, x=None, y=None, hue=None, palette='Set1', verbose=True):\n",
        "    '''\n",
        "    Helper function that gives a quick summary of a given column of categorical data\n",
        "    Arguments\n",
        "    =========\n",
        "    dataframe: pandas dataframe\n",
        "    x: str. horizontal axis to plot the labels of categorical data, y would be the count\n",
        "    y: str. vertical axis to plot the labels of categorical data, x would be the count\n",
        "    hue: str. if you want to compare it another variable (usually the target variable)\n",
        "    palette: array-like. Colour of the plot\n",
        "    Returns\n",
        "    =======\n",
        "    Quick Stats of the data and also the count plot\n",
        "    '''\n",
        "    if x == None:\n",
        "        column_interested = y\n",
        "    else:\n",
        "        column_interested = x\n",
        "    series = dataframe[column_interested]\n",
        "    print(series.describe())\n",
        "    print('mode: ', series.mode())\n",
        "    if verbose:\n",
        "        print('='*80)\n",
        "        print(series.value_counts())\n",
        "\n",
        "    sns.countplot(x=x, y=y, hue=hue, data=dataframe, palette=palette)\n",
        "    plt.show()\n",
        "\n",
        "def countplotTarget(label, dataset):\n",
        "  plt.figure(figsize=(20,10))\n",
        "  Y = Bankadditional[label]\n",
        "  total = len(Y)*1.\n",
        "  ax=sns.countplot(x=label, data=dataset, hue=\"y\")\n",
        "  for p in ax.patches:\n",
        "    ax.annotate('{:.1f}%'.format(100*p.get_height()/total), (p.get_x()+0.1, p.get_height()+5))\n",
        "\n",
        "  #put 11 ticks (therefore 10 steps), from 0 to the total number of rows in the dataframe\n",
        "  ax.yaxis.set_ticks(np.linspace(0, total, 11))\n",
        "  #adjust the ticklabel to the desired format, without changing the position of the ticks.\n",
        "  ax.set_yticklabels(map('{:.1f}%'.format, 100*ax.yaxis.get_majorticklocs()/total))\n",
        "  ax.set_xticklabels(ax.get_xticklabels(), rotation=40, ha=\"right\")\n",
        "  # ax.legend(labels=[\"no\",\"yes\"])\n",
        "  plt.show()\n",
        "\n",
        "def quantitative_summarized(dataframe, x=None, y=None, hue=None, palette='Set1', ax=None, verbose=True):\n",
        "    '''\n",
        "    Helper function that gives a quick summary of quantative data\n",
        "    Arguments\n",
        "    =========\n",
        "    dataframe: pandas dataframe\n",
        "    x: str. horizontal axis to plot the labels of categorical data (usually the target variable)\n",
        "    y: str. vertical axis to plot the quantitative data\n",
        "    hue: str. if you want to compare it another categorical variable (usually the target variable if x is another variable)\n",
        "    palette: array-like. Colour of the plot\n",
        "    swarm: if swarm is set to True, a swarm plot would be overlayed\n",
        "    Returns\n",
        "    =======\n",
        "    Quick Stats of the data and also the box plot of the distribution\n",
        "    '''\n",
        "    series = dataframe[y]\n",
        "    print(series.describe())\n",
        "    print('mode: ', series.mode())\n",
        "    if verbose:\n",
        "        print('='*80)\n",
        "        print(series.value_counts())\n",
        "\n",
        "    sns.boxplot(x=x, y=y, hue=hue, data=dataframe, palette=palette, ax=ax)\n",
        "    plt.show()\n",
        "    sns.distplot(Bankadditional[y])\n",
        "\n",
        "    plt.show()\n"
      ],
      "execution_count": 27,
      "outputs": []
    },
    {
      "cell_type": "markdown",
      "metadata": {
        "id": "Zs2qQlTDcMhU",
        "colab_type": "text"
      },
      "source": [
        "### Univariate and multivariate analysis of categorical variables"
      ]
    },
    {
      "cell_type": "code",
      "metadata": {
        "id": "9mIO3mlECSyN",
        "colab_type": "code",
        "colab": {
          "base_uri": "https://localhost:8080/",
          "height": 1000
        },
        "outputId": "9892c458-ce97-4d77-9020-8568786abdc3"
      },
      "source": [
        "c_palette = ['tab:blue']\n",
        "for col in categorical_cols:\n",
        "  categorical_summarized(Bankadditional, y = col, palette=c_palette)\n",
        "  countplotTarget(col,dataset = Bankadditional)"
      ],
      "execution_count": 28,
      "outputs": [
        {
          "output_type": "stream",
          "text": [
            "count      41188\n",
            "unique        12\n",
            "top       admin.\n",
            "freq       10422\n",
            "Name: job, dtype: object\n",
            "mode:  0    admin.\n",
            "dtype: object\n",
            "================================================================================\n",
            "admin.           10422\n",
            "blue-collar       9254\n",
            "technician        6743\n",
            "services          3969\n",
            "management        2924\n",
            "retired           1720\n",
            "entrepreneur      1456\n",
            "self-employed     1421\n",
            "housemaid         1060\n",
            "unemployed        1014\n",
            "student            875\n",
            "unknown            330\n",
            "Name: job, dtype: int64\n"
          ],
          "name": "stdout"
        },
        {
          "output_type": "display_data",
          "data": {
            "image/png": "[encoded data removed]",
            "text/plain": [
              "<Figure size 432x288 with 1 Axes>"
            ]
          },
          "metadata": {
            "tags": [],
            "needs_background": "light"
          }
        },
        {
          "output_type": "display_data",
          "data": {
            "image/png": "[encoded data removed]",
            "text/plain": [
              "<Figure size 1440x720 with 1 Axes>"
            ]
          },
          "metadata": {
            "tags": [],
            "needs_background": "light"
          }
        },
        {
          "output_type": "stream",
          "text": [
            "count       41188\n",
            "unique          4\n",
            "top       married\n",
            "freq        24928\n",
            "Name: marital, dtype: object\n",
            "mode:  0    married\n",
            "dtype: object\n",
            "================================================================================\n",
            "married     24928\n",
            "single      11568\n",
            "divorced     4612\n",
            "unknown        80\n",
            "Name: marital, dtype: int64\n"
          ],
          "name": "stdout"
        },
        {
          "output_type": "display_data",
          "data": {
            "image/png": "[encoded data removed]",
            "text/plain": [
              "<Figure size 432x288 with 1 Axes>"
            ]
          },
          "metadata": {
            "tags": [],
            "needs_background": "light"
          }
        },
        {
          "output_type": "display_data",
          "data": {
            "image/png": "[encoded data removed]",
            "text/plain": [
              "<Figure size 1440x720 with 1 Axes>"
            ]
          },
          "metadata": {
            "tags": [],
            "needs_background": "light"
          }
        },
        {
          "output_type": "stream",
          "text": [
            "count                 41188\n",
            "unique                    8\n",
            "top       university.degree\n",
            "freq                  12168\n",
            "Name: education, dtype: object\n",
            "mode:  0    university.degree\n",
            "dtype: object\n",
            "================================================================================\n",
            "university.degree      12168\n",
            "high.school             9515\n",
            "basic.9y                6045\n",
            "professional.course     5243\n",
            "basic.4y                4176\n",
            "basic.6y                2292\n",
            "unknown                 1731\n",
            "illiterate                18\n",
            "Name: education, dtype: int64\n"
          ],
          "name": "stdout"
        },
        {
          "output_type": "display_data",
          "data": {
            "image/png": "[encoded data removed]",
            "text/plain": [
              "<Figure size 432x288 with 1 Axes>"
            ]
          },
          "metadata": {
            "tags": [],
            "needs_background": "light"
          }
        },
        {
          "output_type": "display_data",
          "data": {
            "image/png": "[encoded data removed]",
            "text/plain": [
              "<Figure size 1440x720 with 1 Axes>"
            ]
          },
          "metadata": {
            "tags": [],
            "needs_background": "light"
          }
        },
        {
          "output_type": "stream",
          "text": [
            "count     41188\n",
            "unique        3\n",
            "top          no\n",
            "freq      32588\n",
            "Name: default, dtype: object\n",
            "mode:  0    no\n",
            "dtype: object\n",
            "================================================================================\n",
            "no         32588\n",
            "unknown     8597\n",
            "yes            3\n",
            "Name: default, dtype: int64\n"
          ],
          "name": "stdout"
        },
        {
          "output_type": "display_data",
          "data": {
            "image/png": "[encoded data removed]",
            "text/plain": [
              "<Figure size 432x288 with 1 Axes>"
            ]
          },
          "metadata": {
            "tags": [],
            "needs_background": "light"
          }
        },
        {
          "output_type": "display_data",
          "data": {
            "image/png": "[encoded data removed]",
            "text/plain": [
              "<Figure size 1440x720 with 1 Axes>"
            ]
          },
          "metadata": {
            "tags": [],
            "needs_background": "light"
          }
        },
        {
          "output_type": "stream",
          "text": [
            "count     41188\n",
            "unique        3\n",
            "top         yes\n",
            "freq      21576\n",
            "Name: housing, dtype: object\n",
            "mode:  0    yes\n",
            "dtype: object\n",
            "================================================================================\n",
            "yes        21576\n",
            "no         18622\n",
            "unknown      990\n",
            "Name: housing, dtype: int64\n"
          ],
          "name": "stdout"
        },
        {
          "output_type": "display_data",
          "data": {
            "image/png": "[encoded data removed]",
            "text/plain": [
              "<Figure size 432x288 with 1 Axes>"
            ]
          },
          "metadata": {
            "tags": [],
            "needs_background": "light"
          }
        },
        {
          "output_type": "display_data",
          "data": {
            "image/png": "[encoded data removed]",
            "text/plain": [
              "<Figure size 1440x720 with 1 Axes>"
            ]
          },
          "metadata": {
            "tags": [],
            "needs_background": "light"
          }
        },
        {
          "output_type": "stream",
          "text": [
            "count     41188\n",
            "unique        3\n",
            "top          no\n",
            "freq      33950\n",
            "Name: loan, dtype: object\n",
            "mode:  0    no\n",
            "dtype: object\n",
            "================================================================================\n",
            "no         33950\n",
            "yes         6248\n",
            "unknown      990\n",
            "Name: loan, dtype: int64\n"
          ],
          "name": "stdout"
        },
        {
          "output_type": "display_data",
          "data": {
            "image/png": "[encoded data removed]",
            "text/plain": [
              "<Figure size 432x288 with 1 Axes>"
            ]
          },
          "metadata": {
            "tags": [],
            "needs_background": "light"
          }
        },
        {
          "output_type": "display_data",
          "data": {
            "image/png": "[encoded data removed]",
            "text/plain": [
              "<Figure size 1440x720 with 1 Axes>"
            ]
          },
          "metadata": {
            "tags": [],
            "needs_background": "light"
          }
        },
        {
          "output_type": "stream",
          "text": [
            "count        41188\n",
            "unique           2\n",
            "top       cellular\n",
            "freq         26144\n",
            "Name: contact, dtype: object\n",
            "mode:  0    cellular\n",
            "dtype: object\n",
            "================================================================================\n",
            "cellular     26144\n",
            "telephone    15044\n",
            "Name: contact, dtype: int64\n"
          ],
          "name": "stdout"
        },
        {
          "output_type": "display_data",
          "data": {
            "image/png": "[encoded data removed]",
            "text/plain": [
              "<Figure size 432x288 with 1 Axes>"
            ]
          },
          "metadata": {
            "tags": [],
            "needs_background": "light"
          }
        },
        {
          "output_type": "display_data",
          "data": {
            "image/png": "[encoded data removed]",
            "text/plain": [
              "<Figure size 1440x720 with 1 Axes>"
            ]
          },
          "metadata": {
            "tags": [],
            "needs_background": "light"
          }
        },
        {
          "output_type": "stream",
          "text": [
            "count     41188\n",
            "unique       10\n",
            "top         may\n",
            "freq      13769\n",
            "Name: month, dtype: object\n",
            "mode:  0    may\n",
            "dtype: object\n",
            "================================================================================\n",
            "may    13769\n",
            "jul     7174\n",
            "aug     6178\n",
            "jun     5318\n",
            "nov     4101\n",
            "apr     2632\n",
            "oct      718\n",
            "sep      570\n",
            "mar      546\n",
            "dec      182\n",
            "Name: month, dtype: int64\n"
          ],
          "name": "stdout"
        },
        {
          "output_type": "display_data",
          "data": {
            "image/png": "[encoded data removed]",
            "text/plain": [
              "<Figure size 432x288 with 1 Axes>"
            ]
          },
          "metadata": {
            "tags": [],
            "needs_background": "light"
          }
        },
        {
          "output_type": "display_data",
          "data": {
            "image/png": "[encoded data removed]",
            "text/plain": [
              "<Figure size 1440x720 with 1 Axes>"
            ]
          },
          "metadata": {
            "tags": [],
            "needs_background": "light"
          }
        },
        {
          "output_type": "stream",
          "text": [
            "count     41188\n",
            "unique        5\n",
            "top         thu\n",
            "freq       8623\n",
            "Name: day_of_week, dtype: object\n",
            "mode:  0    thu\n",
            "dtype: object\n",
            "================================================================================\n",
            "thu    8623\n",
            "mon    8514\n",
            "wed    8134\n",
            "tue    8090\n",
            "fri    7827\n",
            "Name: day_of_week, dtype: int64\n"
          ],
          "name": "stdout"
        },
        {
          "output_type": "display_data",
          "data": {
            "image/png": "[encoded data removed]",
            "text/plain": [
              "<Figure size 432x288 with 1 Axes>"
            ]
          },
          "metadata": {
            "tags": [],
            "needs_background": "light"
          }
        },
        {
          "output_type": "display_data",
          "data": {
            "image/png": "[encoded data removed]",
            "text/plain": [
              "<Figure size 1440x720 with 1 Axes>"
            ]
          },
          "metadata": {
            "tags": [],
            "needs_background": "light"
          }
        },
        {
          "output_type": "stream",
          "text": [
            "count    41188.000000\n",
            "mean         0.172963\n",
            "std          0.494901\n",
            "min          0.000000\n",
            "25%          0.000000\n",
            "50%          0.000000\n",
            "75%          0.000000\n",
            "max          7.000000\n",
            "Name: previous, dtype: float64\n",
            "mode:  0    0\n",
            "dtype: int64\n",
            "================================================================================\n",
            "0    35563\n",
            "1     4561\n",
            "2      754\n",
            "3      216\n",
            "4       70\n",
            "5       18\n",
            "6        5\n",
            "7        1\n",
            "Name: previous, dtype: int64\n"
          ],
          "name": "stdout"
        },
        {
          "output_type": "display_data",
          "data": {
            "image/png": "[encoded data removed]",
            "text/plain": [
              "<Figure size 432x288 with 1 Axes>"
            ]
          },
          "metadata": {
            "tags": [],
            "needs_background": "light"
          }
        },
        {
          "output_type": "display_data",
          "data": {
            "image/png": "[encoded data removed]",
            "text/plain": [
              "<Figure size 1440x720 with 1 Axes>"
            ]
          },
          "metadata": {
            "tags": [],
            "needs_background": "light"
          }
        },
        {
          "output_type": "stream",
          "text": [
            "count           41188\n",
            "unique              3\n",
            "top       nonexistent\n",
            "freq            35563\n",
            "Name: poutcome, dtype: object\n",
            "mode:  0    nonexistent\n",
            "dtype: object\n",
            "================================================================================\n",
            "nonexistent    35563\n",
            "failure         4252\n",
            "success         1373\n",
            "Name: poutcome, dtype: int64\n"
          ],
          "name": "stdout"
        },
        {
          "output_type": "display_data",
          "data": {
            "image/png": "[encoded data removed]",
            "text/plain": [
              "<Figure size 432x288 with 1 Axes>"
            ]
          },
          "metadata": {
            "tags": [],
            "needs_background": "light"
          }
        },
        {
          "output_type": "display_data",
          "data": {
            "image/png": "[encoded data removed]",
            "text/plain": [
              "<Figure size 1440x720 with 1 Axes>"
            ]
          },
          "metadata": {
            "tags": [],
            "needs_background": "light"
          }
        }
      ]
    },
    {
      "cell_type": "markdown",
      "metadata": {
        "id": "Bs0kBM0icecC",
        "colab_type": "text"
      },
      "source": [
        "###Univariate and multivariate analysis of Continious variables"
      ]
    },
    {
      "cell_type": "code",
      "metadata": {
        "id": "WLYkv6vicoLS",
        "colab_type": "code",
        "colab": {}
      },
      "source": [
        "c_palette = ['tab:blue', 'tab:orange']\n",
        "for colem in numeric_cols:\n",
        " quantitative_summarized(dataframe= Bankadditional, y = colem, x = 'y', palette=c_palette, verbose=False)\n",
        " "
      ],
      "execution_count": null,
      "outputs": []
    },
    {
      "cell_type": "markdown",
      "metadata": {
        "id": "tjrsBdNlDi-F",
        "colab_type": "text"
      },
      "source": [
        "\n",
        "1.   From the above plots, we can see that the clients who have work of administrator have the most elevated pace of subscribing to a deposit, however they are additionally the most elevated with regards to not subscribing as well. This is basically in light of the fact that we have a bigger number of customers as administrator than some other calling.\n",
        "2.   There is no client with who has credit in default. Dominant part of the clients don't have, and the for the remainder of the clients this field is unknown\n",
        "3.   Greater part of the clients have a lodging credit.\n",
        "\n",
        "4. Majority of the customers have a housing loan\n",
        "5. Age has a median of 40.The boxplot for both the classes overlap quite a lot, which means that age isn’t necessarily a good indicator for which customer will subscribe and which customer will not.\n",
        "6. The duration of a customer can be useful for predicting the target variable. It is expected because it is already mentioned in the data overview that this field highely affects the target variable and should only be used for benchmark purposes.Duration is also a right skewed distribution\n",
        "7.There is a difference in median for both the classes when we use a box plot of the euribor 3 month rate, daily indicator. \n",
        "8. Management and Retirees are the ones who have the highest balance in their accounts."
      ]
    },
    {
      "cell_type": "markdown",
      "metadata": {
        "id": "Jd9lZdkDsw6O",
        "colab_type": "text"
      },
      "source": [
        "#Multivariate analysis"
      ]
    },
    {
      "cell_type": "code",
      "metadata": {
        "id": "LgEnsdqyzQL-",
        "colab_type": "code",
        "colab": {
          "base_uri": "https://localhost:8080/",
          "height": 627
        },
        "outputId": "3d349164-26e0-40dc-a470-4fc4039d39b0"
      },
      "source": [
        "plt.figure(figsize=(20,10)) \n",
        "sns.heatmap(Bankadditional.corr(), annot=True) \n",
        "plt.title(\"Correlation Matrix\")"
      ],
      "execution_count": 29,
      "outputs": [
        {
          "output_type": "execute_result",
          "data": {
            "text/plain": [
              "Text(0.5, 1.0, 'Correlation Matrix')"
            ]
          },
          "metadata": {
            "tags": []
          },
          "execution_count": 29
        },
        {
          "output_type": "display_data",
          "data": {
            "image/png": "[encoded data removed]",
            "text/plain": [
              "<Figure size 1440x720 with 2 Axes>"
            ]
          },
          "metadata": {
            "tags": [],
            "needs_background": "light"
          }
        }
      ]
    },
    {
      "cell_type": "markdown",
      "metadata": {
        "id": "7Gk9ygSRml-l",
        "colab_type": "text"
      },
      "source": [
        "The emp.var.rate, cons.price.idx, euribor3m and nr.employed features have very high correlation. With euribor3m and nr.employed having the highest correlation of 0.95."
      ]
    },
    {
      "cell_type": "markdown",
      "metadata": {
        "id": "7BXPzuw2sqWc",
        "colab_type": "text"
      },
      "source": [
        "#Feature engineering "
      ]
    },
    {
      "cell_type": "code",
      "metadata": {
        "id": "7O6G8lxheArD",
        "colab_type": "code",
        "colab": {
          "base_uri": "https://localhost:8080/",
          "height": 51
        },
        "outputId": "cc3db387-8de7-4410-f51c-482810e359a5"
      },
      "source": [
        "# Import the libraries\n",
        "import os\n",
        "import pandas as pd\n",
        "import matplotlib\n",
        "matplotlib.use(u'nbAgg')\n",
        "import matplotlib.pyplot as plt\n",
        "import seaborn as sns\n",
        "import numpy as np\n",
        "import pickle\n",
        "from sklearn.manifold import TSNE\n",
        "from sklearn import preprocessing\n",
        "import pandas as pd\n",
        "\n",
        "from sklearn.linear_model import SGDClassifier\n",
        "from xgboost import XGBClassifier\n",
        "from sklearn.model_selection import RandomizedSearchCV\n",
        "from sklearn.tree import DecisionTreeClassifier\n",
        "from sklearn.calibration import CalibratedClassifierCV\n",
        "from sklearn.neighbors import KNeighborsClassifier\n",
        "from sklearn.metrics import roc_auc_score\n",
        "from sklearn.metrics import confusion_matrix\n",
        "from sklearn.model_selection import train_test_split\n",
        "from sklearn.linear_model import LogisticRegression\n",
        "from sklearn.ensemble import RandomForestClassifier"
      ],
      "execution_count": 1,
      "outputs": [
        {
          "output_type": "stream",
          "text": [
            "/usr/local/lib/python3.6/dist-packages/statsmodels/tools/_testing.py:19: FutureWarning: pandas.util.testing is deprecated. Use the functions in the public API at pandas.testing instead.\n",
            "  import pandas.util.testing as tm\n"
          ],
          "name": "stderr"
        }
      ]
    },
    {
      "cell_type": "markdown",
      "metadata": {
        "id": "xDWwLWGc6vNE",
        "colab_type": "text"
      },
      "source": [
        "Duplicate data"
      ]
    },
    {
      "cell_type": "code",
      "metadata": {
        "id": "B84LY_HNqLud",
        "colab_type": "code",
        "colab": {
          "base_uri": "https://localhost:8080/",
          "height": 421
        },
        "outputId": "ffdeb2dc-624c-4f36-9e9f-653be7ddb00e"
      },
      "source": [
        "data_dup = Bankadditional[Bankadditional.duplicated(keep=\"last\")]\n",
        "data_dup"
      ],
      "execution_count": 17,
      "outputs": [
        {
          "output_type": "execute_result",
          "data": {
            "text/html": [
              "<div>\n",
              "<style scoped>\n",
              "    .dataframe tbody tr th:only-of-type {\n",
              "        vertical-align: middle;\n",
              "    }\n",
              "\n",
              "    .dataframe tbody tr th {\n",
              "        vertical-align: top;\n",
              "    }\n",
              "\n",
              "    .dataframe thead th {\n",
              "        text-align: right;\n",
              "    }\n",
              "</style>\n",
              "<table border=\"1\" class=\"dataframe\">\n",
              "  <thead>\n",
              "    <tr style=\"text-align: right;\">\n",
              "      <th></th>\n",
              "      <th>age</th>\n",
              "      <th>job</th>\n",
              "      <th>marital</th>\n",
              "      <th>education</th>\n",
              "      <th>default</th>\n",
              "      <th>housing</th>\n",
              "      <th>loan</th>\n",
              "      <th>contact</th>\n",
              "      <th>month</th>\n",
              "      <th>day_of_week</th>\n",
              "      <th>duration</th>\n",
              "      <th>campaign</th>\n",
              "      <th>pdays</th>\n",
              "      <th>previous</th>\n",
              "      <th>poutcome</th>\n",
              "      <th>emp.var.rate</th>\n",
              "      <th>cons.price.idx</th>\n",
              "      <th>cons.conf.idx</th>\n",
              "      <th>euribor3m</th>\n",
              "      <th>nr.employed</th>\n",
              "      <th>y</th>\n",
              "    </tr>\n",
              "  </thead>\n",
              "  <tbody>\n",
              "    <tr>\n",
              "      <th>1265</th>\n",
              "      <td>39</td>\n",
              "      <td>blue-collar</td>\n",
              "      <td>married</td>\n",
              "      <td>basic.6y</td>\n",
              "      <td>no</td>\n",
              "      <td>no</td>\n",
              "      <td>no</td>\n",
              "      <td>telephone</td>\n",
              "      <td>may</td>\n",
              "      <td>thu</td>\n",
              "      <td>124</td>\n",
              "      <td>1</td>\n",
              "      <td>999</td>\n",
              "      <td>0</td>\n",
              "      <td>nonexistent</td>\n",
              "      <td>1.1</td>\n",
              "      <td>93.994</td>\n",
              "      <td>-36.4</td>\n",
              "      <td>4.855</td>\n",
              "      <td>5191.0</td>\n",
              "      <td>no</td>\n",
              "    </tr>\n",
              "    <tr>\n",
              "      <th>12260</th>\n",
              "      <td>36</td>\n",
              "      <td>retired</td>\n",
              "      <td>married</td>\n",
              "      <td>unknown</td>\n",
              "      <td>no</td>\n",
              "      <td>no</td>\n",
              "      <td>no</td>\n",
              "      <td>telephone</td>\n",
              "      <td>jul</td>\n",
              "      <td>thu</td>\n",
              "      <td>88</td>\n",
              "      <td>1</td>\n",
              "      <td>999</td>\n",
              "      <td>0</td>\n",
              "      <td>nonexistent</td>\n",
              "      <td>1.4</td>\n",
              "      <td>93.918</td>\n",
              "      <td>-42.7</td>\n",
              "      <td>4.966</td>\n",
              "      <td>5228.1</td>\n",
              "      <td>no</td>\n",
              "    </tr>\n",
              "    <tr>\n",
              "      <th>14155</th>\n",
              "      <td>27</td>\n",
              "      <td>technician</td>\n",
              "      <td>single</td>\n",
              "      <td>professional.course</td>\n",
              "      <td>no</td>\n",
              "      <td>no</td>\n",
              "      <td>no</td>\n",
              "      <td>cellular</td>\n",
              "      <td>jul</td>\n",
              "      <td>mon</td>\n",
              "      <td>331</td>\n",
              "      <td>2</td>\n",
              "      <td>999</td>\n",
              "      <td>0</td>\n",
              "      <td>nonexistent</td>\n",
              "      <td>1.4</td>\n",
              "      <td>93.918</td>\n",
              "      <td>-42.7</td>\n",
              "      <td>4.962</td>\n",
              "      <td>5228.1</td>\n",
              "      <td>no</td>\n",
              "    </tr>\n",
              "    <tr>\n",
              "      <th>16819</th>\n",
              "      <td>47</td>\n",
              "      <td>technician</td>\n",
              "      <td>divorced</td>\n",
              "      <td>high.school</td>\n",
              "      <td>no</td>\n",
              "      <td>yes</td>\n",
              "      <td>no</td>\n",
              "      <td>cellular</td>\n",
              "      <td>jul</td>\n",
              "      <td>thu</td>\n",
              "      <td>43</td>\n",
              "      <td>3</td>\n",
              "      <td>999</td>\n",
              "      <td>0</td>\n",
              "      <td>nonexistent</td>\n",
              "      <td>1.4</td>\n",
              "      <td>93.918</td>\n",
              "      <td>-42.7</td>\n",
              "      <td>4.962</td>\n",
              "      <td>5228.1</td>\n",
              "      <td>no</td>\n",
              "    </tr>\n",
              "    <tr>\n",
              "      <th>18464</th>\n",
              "      <td>32</td>\n",
              "      <td>technician</td>\n",
              "      <td>single</td>\n",
              "      <td>professional.course</td>\n",
              "      <td>no</td>\n",
              "      <td>yes</td>\n",
              "      <td>no</td>\n",
              "      <td>cellular</td>\n",
              "      <td>jul</td>\n",
              "      <td>thu</td>\n",
              "      <td>128</td>\n",
              "      <td>1</td>\n",
              "      <td>999</td>\n",
              "      <td>0</td>\n",
              "      <td>nonexistent</td>\n",
              "      <td>1.4</td>\n",
              "      <td>93.918</td>\n",
              "      <td>-42.7</td>\n",
              "      <td>4.968</td>\n",
              "      <td>5228.1</td>\n",
              "      <td>no</td>\n",
              "    </tr>\n",
              "    <tr>\n",
              "      <th>20072</th>\n",
              "      <td>55</td>\n",
              "      <td>services</td>\n",
              "      <td>married</td>\n",
              "      <td>high.school</td>\n",
              "      <td>unknown</td>\n",
              "      <td>no</td>\n",
              "      <td>no</td>\n",
              "      <td>cellular</td>\n",
              "      <td>aug</td>\n",
              "      <td>mon</td>\n",
              "      <td>33</td>\n",
              "      <td>1</td>\n",
              "      <td>999</td>\n",
              "      <td>0</td>\n",
              "      <td>nonexistent</td>\n",
              "      <td>1.4</td>\n",
              "      <td>93.444</td>\n",
              "      <td>-36.1</td>\n",
              "      <td>4.965</td>\n",
              "      <td>5228.1</td>\n",
              "      <td>no</td>\n",
              "    </tr>\n",
              "    <tr>\n",
              "      <th>20531</th>\n",
              "      <td>41</td>\n",
              "      <td>technician</td>\n",
              "      <td>married</td>\n",
              "      <td>professional.course</td>\n",
              "      <td>no</td>\n",
              "      <td>yes</td>\n",
              "      <td>no</td>\n",
              "      <td>cellular</td>\n",
              "      <td>aug</td>\n",
              "      <td>tue</td>\n",
              "      <td>127</td>\n",
              "      <td>1</td>\n",
              "      <td>999</td>\n",
              "      <td>0</td>\n",
              "      <td>nonexistent</td>\n",
              "      <td>1.4</td>\n",
              "      <td>93.444</td>\n",
              "      <td>-36.1</td>\n",
              "      <td>4.966</td>\n",
              "      <td>5228.1</td>\n",
              "      <td>no</td>\n",
              "    </tr>\n",
              "    <tr>\n",
              "      <th>25183</th>\n",
              "      <td>39</td>\n",
              "      <td>admin.</td>\n",
              "      <td>married</td>\n",
              "      <td>university.degree</td>\n",
              "      <td>no</td>\n",
              "      <td>no</td>\n",
              "      <td>no</td>\n",
              "      <td>cellular</td>\n",
              "      <td>nov</td>\n",
              "      <td>tue</td>\n",
              "      <td>123</td>\n",
              "      <td>2</td>\n",
              "      <td>999</td>\n",
              "      <td>0</td>\n",
              "      <td>nonexistent</td>\n",
              "      <td>-0.1</td>\n",
              "      <td>93.200</td>\n",
              "      <td>-42.0</td>\n",
              "      <td>4.153</td>\n",
              "      <td>5195.8</td>\n",
              "      <td>no</td>\n",
              "    </tr>\n",
              "    <tr>\n",
              "      <th>28476</th>\n",
              "      <td>24</td>\n",
              "      <td>services</td>\n",
              "      <td>single</td>\n",
              "      <td>high.school</td>\n",
              "      <td>no</td>\n",
              "      <td>yes</td>\n",
              "      <td>no</td>\n",
              "      <td>cellular</td>\n",
              "      <td>apr</td>\n",
              "      <td>tue</td>\n",
              "      <td>114</td>\n",
              "      <td>1</td>\n",
              "      <td>999</td>\n",
              "      <td>0</td>\n",
              "      <td>nonexistent</td>\n",
              "      <td>-1.8</td>\n",
              "      <td>93.075</td>\n",
              "      <td>-47.1</td>\n",
              "      <td>1.423</td>\n",
              "      <td>5099.1</td>\n",
              "      <td>no</td>\n",
              "    </tr>\n",
              "    <tr>\n",
              "      <th>32505</th>\n",
              "      <td>35</td>\n",
              "      <td>admin.</td>\n",
              "      <td>married</td>\n",
              "      <td>university.degree</td>\n",
              "      <td>no</td>\n",
              "      <td>yes</td>\n",
              "      <td>no</td>\n",
              "      <td>cellular</td>\n",
              "      <td>may</td>\n",
              "      <td>fri</td>\n",
              "      <td>348</td>\n",
              "      <td>4</td>\n",
              "      <td>999</td>\n",
              "      <td>0</td>\n",
              "      <td>nonexistent</td>\n",
              "      <td>-1.8</td>\n",
              "      <td>92.893</td>\n",
              "      <td>-46.2</td>\n",
              "      <td>1.313</td>\n",
              "      <td>5099.1</td>\n",
              "      <td>no</td>\n",
              "    </tr>\n",
              "    <tr>\n",
              "      <th>36950</th>\n",
              "      <td>45</td>\n",
              "      <td>admin.</td>\n",
              "      <td>married</td>\n",
              "      <td>university.degree</td>\n",
              "      <td>no</td>\n",
              "      <td>no</td>\n",
              "      <td>no</td>\n",
              "      <td>cellular</td>\n",
              "      <td>jul</td>\n",
              "      <td>thu</td>\n",
              "      <td>252</td>\n",
              "      <td>1</td>\n",
              "      <td>999</td>\n",
              "      <td>0</td>\n",
              "      <td>nonexistent</td>\n",
              "      <td>-2.9</td>\n",
              "      <td>92.469</td>\n",
              "      <td>-33.6</td>\n",
              "      <td>1.072</td>\n",
              "      <td>5076.2</td>\n",
              "      <td>yes</td>\n",
              "    </tr>\n",
              "    <tr>\n",
              "      <th>38255</th>\n",
              "      <td>71</td>\n",
              "      <td>retired</td>\n",
              "      <td>single</td>\n",
              "      <td>university.degree</td>\n",
              "      <td>no</td>\n",
              "      <td>no</td>\n",
              "      <td>no</td>\n",
              "      <td>telephone</td>\n",
              "      <td>oct</td>\n",
              "      <td>tue</td>\n",
              "      <td>120</td>\n",
              "      <td>1</td>\n",
              "      <td>999</td>\n",
              "      <td>0</td>\n",
              "      <td>nonexistent</td>\n",
              "      <td>-3.4</td>\n",
              "      <td>92.431</td>\n",
              "      <td>-26.9</td>\n",
              "      <td>0.742</td>\n",
              "      <td>5017.5</td>\n",
              "      <td>no</td>\n",
              "    </tr>\n",
              "  </tbody>\n",
              "</table>\n",
              "</div>"
            ],
            "text/plain": [
              "       age          job   marital  ... euribor3m nr.employed    y\n",
              "1265    39  blue-collar   married  ...     4.855      5191.0   no\n",
              "12260   36      retired   married  ...     4.966      5228.1   no\n",
              "14155   27   technician    single  ...     4.962      5228.1   no\n",
              "16819   47   technician  divorced  ...     4.962      5228.1   no\n",
              "18464   32   technician    single  ...     4.968      5228.1   no\n",
              "20072   55     services   married  ...     4.965      5228.1   no\n",
              "20531   41   technician   married  ...     4.966      5228.1   no\n",
              "25183   39       admin.   married  ...     4.153      5195.8   no\n",
              "28476   24     services    single  ...     1.423      5099.1   no\n",
              "32505   35       admin.   married  ...     1.313      5099.1   no\n",
              "36950   45       admin.   married  ...     1.072      5076.2  yes\n",
              "38255   71      retired    single  ...     0.742      5017.5   no\n",
              "\n",
              "[12 rows x 21 columns]"
            ]
          },
          "metadata": {
            "tags": []
          },
          "execution_count": 17
        }
      ]
    },
    {
      "cell_type": "code",
      "metadata": {
        "id": "1LKW7ryI6451",
        "colab_type": "code",
        "colab": {
          "base_uri": "https://localhost:8080/",
          "height": 34
        },
        "outputId": "0ebe600e-282a-4a3f-a8a8-3ea00a01303a"
      },
      "source": [
        "data_dup.shape"
      ],
      "execution_count": 18,
      "outputs": [
        {
          "output_type": "execute_result",
          "data": {
            "text/plain": [
              "(12, 21)"
            ]
          },
          "metadata": {
            "tags": []
          },
          "execution_count": 18
        }
      ]
    },
    {
      "cell_type": "markdown",
      "metadata": {
        "id": "HcZr3QFG7C1I",
        "colab_type": "text"
      },
      "source": [
        "There were about 12 duplicates which we will remove in the following code"
      ]
    },
    {
      "cell_type": "code",
      "metadata": {
        "id": "UUnOzhfK684u",
        "colab_type": "code",
        "colab": {
          "base_uri": "https://localhost:8080/",
          "height": 34
        },
        "outputId": "b0a03d46-9cb3-43e2-ad49-7892fc0c282a"
      },
      "source": [
        "Bankadditional = Bankadditional.drop_duplicates()\n",
        "Bankadditional.shape"
      ],
      "execution_count": 19,
      "outputs": [
        {
          "output_type": "execute_result",
          "data": {
            "text/plain": [
              "(41176, 21)"
            ]
          },
          "metadata": {
            "tags": []
          },
          "execution_count": 19
        }
      ]
    },
    {
      "cell_type": "code",
      "metadata": {
        "id": "Al6tS1_i7XUQ",
        "colab_type": "code",
        "colab": {}
      },
      "source": [
        "data_x = Bankadditional.iloc[:, :-1]\n",
        "data_y = Bankadditional[\"y\"]\n",
        "from sklearn.model_selection import train_test_split\n",
        "X_rest, X_test, y_rest, y_test = train_test_split(data_x, data_y, test_size=0.2)\n",
        "X_train, X_cv, y_train, y_cv = train_test_split(X_rest, y_rest, test_size=0.2)\n",
        "y_train.replace({\"no\":0, \"yes\":1}, inplace=True)\n",
        "y_cv.replace({\"no\":0, \"yes\":1}, inplace=True)\n",
        "y_test.replace({\"no\":0, \"yes\":1}, inplace=True)"
      ],
      "execution_count": 20,
      "outputs": []
    },
    {
      "cell_type": "markdown",
      "metadata": {
        "id": "FCdFI4QZ9rXi",
        "colab_type": "text"
      },
      "source": [
        "Converting categorical to boolean features for the model"
      ]
    },
    {
      "cell_type": "code",
      "metadata": {
        "id": "e2TaGIDT78U5",
        "colab_type": "code",
        "colab": {
          "base_uri": "https://localhost:8080/",
          "height": 187
        },
        "outputId": "ad957eef-1531-4f9b-fd88-187f127062e1"
      },
      "source": [
        "categorical_feature_mask = data_x.dtypes==object\n",
        "categorical_cols = data_x.columns[categorical_feature_mask].tolist()\n",
        "categorical_cols"
      ],
      "execution_count": 21,
      "outputs": [
        {
          "output_type": "execute_result",
          "data": {
            "text/plain": [
              "['job',\n",
              " 'marital',\n",
              " 'education',\n",
              " 'default',\n",
              " 'housing',\n",
              " 'loan',\n",
              " 'contact',\n",
              " 'month',\n",
              " 'day_of_week',\n",
              " 'poutcome']"
            ]
          },
          "metadata": {
            "tags": []
          },
          "execution_count": 21
        }
      ]
    },
    {
      "cell_type": "code",
      "metadata": {
        "id": "M1gd__4e9poZ",
        "colab_type": "code",
        "colab": {}
      },
      "source": [
        "from sklearn.feature_extraction.text import CountVectorizer\n",
        "\n",
        "def add_onehot_to_dataframe(Cols_to_encode, df, vectorizer, name):\n",
        "  '''\n",
        "    Parameters:\n",
        "    Cols_to_encode: List of coloumns to encode\n",
        "    df : The dataset under consideration\n",
        "    vectorizer :\n",
        "    name (string): String of the name\n",
        "\n",
        "    Returns:\n",
        "    dataframe:Returning df \n",
        "    \n",
        "    Description:\n",
        "    This function will add the one hot encoded to the dataframe.\n",
        "\n",
        "\n",
        "  '''\n",
        "  for i, col in enumerate(vectorizer.get_feature_names()):\n",
        "    colname = name+\"_\"+col\n",
        "    df[colname] = Cols_to_encode[:, i].toarray().ravel().tolist()\n",
        "\n",
        "  return df\n",
        "\n",
        "def OneHotEncoder(categorical_cols, X_train, X_test, X_cv=None, include_cv=False):\n",
        "  '''\n",
        "    Parameters:\n",
        "    sparse:\n",
        "    df\n",
        "    vectorizer\n",
        "    name (string): String of the name\n",
        "\n",
        "    Returns:\n",
        "    dataframe:Returning df \n",
        "    \n",
        "    Description:\n",
        "    This function takes categorical column names as inputs. The objective\n",
        "    of this function is to take the column names iteratively and encode the \n",
        "    features using One hot Encoding mechanism and also adding the encoded feature\n",
        "    to the respective dataframe.\n",
        "\n",
        "    The include_cv parameter indicates whether we should include CV dataset or not.\n",
        "    This is added specifically because when using GridSearchCV or RandomizedSearchCV,\n",
        "    we only split the dataset into train and test to give more data to training purposes.\n",
        "    This is done because GridSearchCV splits the data internally anyway.\n",
        "  '''\n",
        "\n",
        "  for i in categorical_cols:\n",
        "    Vectorizer = CountVectorizer(token_pattern=\"[A-Za-z0-9-.]+\")\n",
        "    print(\"Encoding for feature: \", i)\n",
        "    # Encoding training dataset \n",
        "    temp_cols = Vectorizer.fit_transform(X_train[i])\n",
        "    X_train = add_onehot_to_dataframe(temp_cols, X_train, Vectorizer, i)\n",
        "\n",
        "    # Encoding Cross validation dataset\n",
        "    if include_cv:\n",
        "      temp_cols = Vectorizer.transform(X_cv[i])\n",
        "      X_cv = add_onehot_to_dataframe(temp_cols, X_cv, Vectorizer, i)\n",
        "\n",
        "    # Encoding Test dataset\n",
        "    temp_cols = Vectorizer.transform(X_test[i])\n",
        "    X_test = add_onehot_to_dataframe(temp_cols, X_test, Vectorizer, i)"
      ],
      "execution_count": 22,
      "outputs": []
    },
    {
      "cell_type": "code",
      "metadata": {
        "id": "r-qQOz6a_f7t",
        "colab_type": "code",
        "colab": {
          "base_uri": "https://localhost:8080/",
          "height": 323
        },
        "outputId": "dbb130bd-5a1d-4949-c872-d398fc3a5bcd"
      },
      "source": [
        "OneHotEncoder(categorical_cols, X_train, X_test, X_cv, True)\n",
        "\n",
        "# Drop the categorical features as the one hot encoded representation is present\n",
        "X_train = X_train.drop(categorical_cols, axis=1)\n",
        "X_cv = X_cv.drop(categorical_cols, axis=1)\n",
        "X_test = X_test.drop(categorical_cols, axis=1)\n",
        "\n",
        "print(\"Shape of train: \", X_train.shape)\n",
        "print(\"Shape of CV: \", X_cv.shape)\n",
        "print(\"Shape of test: \", X_test.shape)"
      ],
      "execution_count": 23,
      "outputs": [
        {
          "output_type": "stream",
          "text": [
            "Encoding for feature:  job\n"
          ],
          "name": "stdout"
        },
        {
          "output_type": "stream",
          "text": [
            "/usr/local/lib/python3.6/dist-packages/ipykernel_launcher.py:21: SettingWithCopyWarning: \n",
            "A value is trying to be set on a copy of a slice from a DataFrame.\n",
            "Try using .loc[row_indexer,col_indexer] = value instead\n",
            "\n",
            "See the caveats in the documentation: https://pandas.pydata.org/pandas-docs/stable/user_guide/indexing.html#returning-a-view-versus-a-copy\n"
          ],
          "name": "stderr"
        },
        {
          "output_type": "stream",
          "text": [
            "Encoding for feature:  marital\n",
            "Encoding for feature:  education\n",
            "Encoding for feature:  default\n",
            "Encoding for feature:  housing\n",
            "Encoding for feature:  loan\n",
            "Encoding for feature:  contact\n",
            "Encoding for feature:  month\n",
            "Encoding for feature:  day_of_week\n",
            "Encoding for feature:  poutcome\n",
            "Shape of train:  (26352, 63)\n",
            "Shape of CV:  (6588, 63)\n",
            "Shape of test:  (8236, 63)\n"
          ],
          "name": "stdout"
        }
      ]
    },
    {
      "cell_type": "code",
      "metadata": {
        "id": "yumDa5XtwhHI",
        "colab_type": "code",
        "colab": {
          "base_uri": "https://localhost:8080/",
          "height": 1000
        },
        "outputId": "2df55d44-eeb2-4cbd-d41e-9025a9656882"
      },
      "source": [
        "X_train.info()"
      ],
      "execution_count": 24,
      "outputs": [
        {
          "output_type": "stream",
          "text": [
            "<class 'pandas.core.frame.DataFrame'>\n",
            "Int64Index: 26352 entries, 33745 to 4475\n",
            "Data columns (total 63 columns):\n",
            " #   Column                         Non-Null Count  Dtype  \n",
            "---  ------                         --------------  -----  \n",
            " 0   age                            26352 non-null  int64  \n",
            " 1   duration                       26352 non-null  int64  \n",
            " 2   campaign                       26352 non-null  int64  \n",
            " 3   pdays                          26352 non-null  int64  \n",
            " 4   previous                       26352 non-null  int64  \n",
            " 5   emp.var.rate                   26352 non-null  float64\n",
            " 6   cons.price.idx                 26352 non-null  float64\n",
            " 7   cons.conf.idx                  26352 non-null  float64\n",
            " 8   euribor3m                      26352 non-null  float64\n",
            " 9   nr.employed                    26352 non-null  float64\n",
            " 10  job_admin.                     26352 non-null  int64  \n",
            " 11  job_blue-collar                26352 non-null  int64  \n",
            " 12  job_entrepreneur               26352 non-null  int64  \n",
            " 13  job_housemaid                  26352 non-null  int64  \n",
            " 14  job_management                 26352 non-null  int64  \n",
            " 15  job_retired                    26352 non-null  int64  \n",
            " 16  job_self-employed              26352 non-null  int64  \n",
            " 17  job_services                   26352 non-null  int64  \n",
            " 18  job_student                    26352 non-null  int64  \n",
            " 19  job_technician                 26352 non-null  int64  \n",
            " 20  job_unemployed                 26352 non-null  int64  \n",
            " 21  job_unknown                    26352 non-null  int64  \n",
            " 22  marital_divorced               26352 non-null  int64  \n",
            " 23  marital_married                26352 non-null  int64  \n",
            " 24  marital_single                 26352 non-null  int64  \n",
            " 25  marital_unknown                26352 non-null  int64  \n",
            " 26  education_basic.4y             26352 non-null  int64  \n",
            " 27  education_basic.6y             26352 non-null  int64  \n",
            " 28  education_basic.9y             26352 non-null  int64  \n",
            " 29  education_high.school          26352 non-null  int64  \n",
            " 30  education_illiterate           26352 non-null  int64  \n",
            " 31  education_professional.course  26352 non-null  int64  \n",
            " 32  education_university.degree    26352 non-null  int64  \n",
            " 33  education_unknown              26352 non-null  int64  \n",
            " 34  default_no                     26352 non-null  int64  \n",
            " 35  default_unknown                26352 non-null  int64  \n",
            " 36  default_yes                    26352 non-null  int64  \n",
            " 37  housing_no                     26352 non-null  int64  \n",
            " 38  housing_unknown                26352 non-null  int64  \n",
            " 39  housing_yes                    26352 non-null  int64  \n",
            " 40  loan_no                        26352 non-null  int64  \n",
            " 41  loan_unknown                   26352 non-null  int64  \n",
            " 42  loan_yes                       26352 non-null  int64  \n",
            " 43  contact_cellular               26352 non-null  int64  \n",
            " 44  contact_telephone              26352 non-null  int64  \n",
            " 45  month_apr                      26352 non-null  int64  \n",
            " 46  month_aug                      26352 non-null  int64  \n",
            " 47  month_dec                      26352 non-null  int64  \n",
            " 48  month_jul                      26352 non-null  int64  \n",
            " 49  month_jun                      26352 non-null  int64  \n",
            " 50  month_mar                      26352 non-null  int64  \n",
            " 51  month_may                      26352 non-null  int64  \n",
            " 52  month_nov                      26352 non-null  int64  \n",
            " 53  month_oct                      26352 non-null  int64  \n",
            " 54  month_sep                      26352 non-null  int64  \n",
            " 55  day_of_week_fri                26352 non-null  int64  \n",
            " 56  day_of_week_mon                26352 non-null  int64  \n",
            " 57  day_of_week_thu                26352 non-null  int64  \n",
            " 58  day_of_week_tue                26352 non-null  int64  \n",
            " 59  day_of_week_wed                26352 non-null  int64  \n",
            " 60  poutcome_failure               26352 non-null  int64  \n",
            " 61  poutcome_nonexistent           26352 non-null  int64  \n",
            " 62  poutcome_success               26352 non-null  int64  \n",
            "dtypes: float64(5), int64(58)\n",
            "memory usage: 12.9 MB\n"
          ],
          "name": "stdout"
        }
      ]
    },
    {
      "cell_type": "code",
      "metadata": {
        "id": "h2Gbgcje1Qm-",
        "colab_type": "code",
        "colab": {
          "base_uri": "https://localhost:8080/",
          "height": 275
        },
        "outputId": "dd64e0cd-82ab-4aaa-d4d7-dfb74d4f3791"
      },
      "source": [
        "\n",
        "print(\"Before OverSampling, counts of label '1': {}\".format(sum(y_train == 1))) \n",
        "print(\"Before OverSampling, counts of label '0': {} \\n\".format(sum(y_train == 0))) \n",
        "# import SMOTE module from imblearn library \n",
        "# pip install imblearn (if you don't have imblearn in your system) \n",
        "from imblearn.over_sampling import SMOTE \n",
        "sm = SMOTE(random_state = 2) \n",
        "X_train_res, y_train_res = sm.fit_sample(X_train, y_train.ravel()) \n",
        "\n",
        "print('After OverSampling, the shape of train_X: {}'.format(X_train_res.shape)) \n",
        "print('After OverSampling, the shape of train_y: {} \\n'.format(y_train_res.shape)) \n",
        "\n",
        "print(\"After OverSampling, counts of label '1': {}\".format(sum(y_train_res == 1))) \n",
        "print(\"After OverSampling, counts of label '0': {}\".format(sum(y_train_res == 0))) \n"
      ],
      "execution_count": 25,
      "outputs": [
        {
          "output_type": "stream",
          "text": [
            "Before OverSampling, counts of label '1': 2992\n",
            "Before OverSampling, counts of label '0': 23360 \n",
            "\n"
          ],
          "name": "stdout"
        },
        {
          "output_type": "stream",
          "text": [
            "/usr/local/lib/python3.6/dist-packages/sklearn/externals/six.py:31: FutureWarning: The module is deprecated in version 0.21 and will be removed in version 0.23 since we've dropped support for Python 2.7. Please rely on the official version of six (https://pypi.org/project/six/).\n",
            "  \"(https://pypi.org/project/six/).\", FutureWarning)\n",
            "/usr/local/lib/python3.6/dist-packages/sklearn/utils/deprecation.py:144: FutureWarning: The sklearn.neighbors.base module is  deprecated in version 0.22 and will be removed in version 0.24. The corresponding classes / functions should instead be imported from sklearn.neighbors. Anything that cannot be imported from sklearn.neighbors is now part of the private API.\n",
            "  warnings.warn(message, FutureWarning)\n",
            "/usr/local/lib/python3.6/dist-packages/sklearn/utils/deprecation.py:87: FutureWarning: Function safe_indexing is deprecated; safe_indexing is deprecated in version 0.22 and will be removed in version 0.24.\n",
            "  warnings.warn(msg, category=FutureWarning)\n"
          ],
          "name": "stderr"
        },
        {
          "output_type": "stream",
          "text": [
            "After OverSampling, the shape of train_X: (46720, 63)\n",
            "After OverSampling, the shape of train_y: (46720,) \n",
            "\n",
            "After OverSampling, counts of label '1': 23360\n",
            "After OverSampling, counts of label '0': 23360\n"
          ],
          "name": "stdout"
        }
      ]
    },
    {
      "cell_type": "code",
      "metadata": {
        "id": "he1eLOhmIfYV",
        "colab_type": "code",
        "colab": {
          "base_uri": "https://localhost:8080/",
          "height": 68
        },
        "outputId": "8fd06b0d-4045-4b5d-be0c-a509c27e3cac"
      },
      "source": [
        "\n",
        "\n",
        "# From Train\n",
        "X_train = X_train.drop(\"duration\", axis=1)\n",
        "print(\"The shape of the train dataset: \", X_train.shape)\n",
        "\n",
        "# From CV\n",
        "X_cv = X_cv.drop(\"duration\", axis=1)\n",
        "print(\"The shape of the cv dataset: \", X_cv.shape)\n",
        "\n",
        "# From Test\n",
        "X_test = X_test.drop(\"duration\", axis=1)\n",
        "print(\"The shape of the test dataset: \", X_test.shape)\n"
      ],
      "execution_count": 26,
      "outputs": [
        {
          "output_type": "stream",
          "text": [
            "The shape of the train dataset:  (26352, 62)\n",
            "The shape of the cv dataset:  (6588, 62)\n",
            "The shape of the test dataset:  (8236, 62)\n"
          ],
          "name": "stdout"
        }
      ]
    },
    {
      "cell_type": "markdown",
      "metadata": {
        "id": "3bxlnS5etYr4",
        "colab_type": "text"
      },
      "source": [
        "#Model creation and evaluation "
      ]
    },
    {
      "cell_type": "markdown",
      "metadata": {
        "id": "i1EnD9DfoJK-",
        "colab_type": "text"
      },
      "source": [
        "###KNN Classifier"
      ]
    },
    {
      "cell_type": "code",
      "metadata": {
        "id": "1JfycjZWJEwO",
        "colab_type": "code",
        "colab": {
          "base_uri": "https://localhost:8080/",
          "height": 488
        },
        "outputId": "a9c0dba0-9394-4666-d79d-93af17f63906"
      },
      "source": [
        "%matplotlib inline\n",
        "\n",
        "alpha = [x for x in range(1, 17, 2)]\n",
        "cv_auc_array=[]\n",
        "for i in alpha:\n",
        "    k_cfl=KNeighborsClassifier(n_neighbors=i)\n",
        "    k_cfl.fit(X_train,y_train)\n",
        "    sig_clf = CalibratedClassifierCV(k_cfl, method=\"sigmoid\")\n",
        "    sig_clf.fit(X_train, y_train)\n",
        "    predict_y = sig_clf.predict_proba(X_cv)\n",
        "    cv_auc_array.append(roc_auc_score(y_cv, predict_y[:,1]))\n",
        "    \n",
        "for i in range(len(cv_auc_array)):\n",
        "    print ('AUC for k = ',alpha[i],'is',cv_auc_array[i])\n",
        "\n",
        "best_alpha = np.argmax(cv_auc_array)\n",
        "    \n",
        "fig, ax = plt.subplots()\n",
        "ax.plot(alpha, cv_auc_array,c='g')\n",
        "for i, txt in enumerate(np.round(cv_auc_array,3)):\n",
        "    ax.annotate((alpha[i],np.round(txt,3)), (alpha[i],cv_auc_array[i]))\n",
        "plt.grid()\n",
        "plt.title(\"Cross Validation Error for each alpha\")\n",
        "plt.xlabel(\"Alpha i's\")\n",
        "plt.ylabel(\"Error measure\")\n",
        "plt.show()\n",
        "\n",
        "k_cfl=KNeighborsClassifier(n_neighbors=alpha[best_alpha])\n",
        "k_cfl.fit(X_train,y_train)\n",
        "sig_clf = CalibratedClassifierCV(k_cfl, method=\"sigmoid\")\n",
        "sig_clf.fit(X_train, y_train)\n",
        "    \n",
        "predict_y = sig_clf.predict_proba(X_train)\n",
        "print ('For values of best alpha = ', alpha[best_alpha], \"The train AUC is:\",roc_auc_score(y_train, predict_y[:,1]))\n",
        "predict_y = sig_clf.predict_proba(X_cv)\n",
        "print('For values of best alpha = ', alpha[best_alpha], \"The cross validation AUC is:\",roc_auc_score(y_cv, predict_y[:,1]))\n",
        "predict_y = sig_clf.predict_proba(X_test)\n",
        "print('For values of best alpha = ', alpha[best_alpha], \"The test AUC is:\",roc_auc_score(y_test, predict_y[:,1]))"
      ],
      "execution_count": 82,
      "outputs": [
        {
          "output_type": "stream",
          "text": [
            "AUC for k =  1 is 0.667245031488178\n",
            "AUC for k =  3 is 0.7238180175009733\n",
            "AUC for k =  5 is 0.7432312621823944\n",
            "AUC for k =  7 is 0.7547031038091826\n",
            "AUC for k =  9 is 0.760815823032748\n",
            "AUC for k =  11 is 0.763579328895181\n",
            "AUC for k =  13 is 0.7691981439299675\n",
            "AUC for k =  15 is 0.768737103182872\n"
          ],
          "name": "stdout"
        },
        {
          "output_type": "display_data",
          "data": {
            "image/png": "[encoded data removed]",
            "text/plain": [
              "<Figure size 432x288 with 1 Axes>"
            ]
          },
          "metadata": {
            "tags": [],
            "needs_background": "light"
          }
        },
        {
          "output_type": "stream",
          "text": [
            "For values of best alpha =  13 The train AUC is: 0.8737560781759677\n",
            "For values of best alpha =  13 The cross validation AUC is: 0.7691981439299675\n",
            "For values of best alpha =  13 The test AUC is: 0.7784401780287259\n"
          ],
          "name": "stdout"
        }
      ]
    },
    {
      "cell_type": "markdown",
      "metadata": {
        "id": "RVI3Px9foP6K",
        "colab_type": "text"
      },
      "source": [
        "###Logistic Regression"
      ]
    },
    {
      "cell_type": "code",
      "metadata": {
        "id": "rHWbYS8EFA-e",
        "colab_type": "code",
        "colab": {
          "base_uri": "https://localhost:8080/",
          "height": 1000
        },
        "outputId": "9bc64493-ca61-48d9-b6ca-4e3a7adb5aca"
      },
      "source": [
        "alpha = [10 ** x for x in range(-5, 4)]\n",
        "cv_auc_array=[]\n",
        "for i in alpha:\n",
        "    logisticR=LogisticRegression(penalty='l2',C=i,class_weight='balanced')\n",
        "    logisticR.fit(X_train,y_train)\n",
        "    sig_clf = CalibratedClassifierCV(logisticR, method=\"sigmoid\")\n",
        "    sig_clf.fit(X_train, y_train)\n",
        "    predict_y = sig_clf.predict_proba(X_cv)\n",
        "    cv_auc_array.append(roc_auc_score(y_cv, predict_y[:,1]))\n",
        "    \n",
        "for i in range(len(cv_auc_array)):\n",
        "    print ('AUC for k = ',alpha[i],'is',cv_auc_array[i])\n",
        "\n",
        "best_alpha = np.argmax(cv_auc_array)\n",
        "    \n",
        "fig, ax = plt.subplots()\n",
        "ax.plot(alpha, cv_auc_array,c='g')\n",
        "for i, txt in enumerate(np.round(cv_auc_array,3)):\n",
        "    ax.annotate((alpha[i],np.round(txt,3)), (alpha[i],cv_auc_array[i]))\n",
        "plt.grid()\n",
        "plt.title(\"Cross Validation Error for each alpha\")\n",
        "plt.xlabel(\"Alpha i's\")\n",
        "plt.ylabel(\"Error measure\")\n",
        "plt.show()\n",
        "\n",
        "logisticR=LogisticRegression(penalty='l2',C=alpha[best_alpha],class_weight='balanced')\n",
        "logisticR.fit(X_train,y_train)\n",
        "sig_clf = CalibratedClassifierCV(logisticR, method=\"sigmoid\")\n",
        "sig_clf.fit(X_train, y_train)\n",
        "    \n",
        "predict_y = sig_clf.predict_proba(X_train)\n",
        "print ('For values of best alpha = ', alpha[best_alpha], \"The train AUC is:\",roc_auc_score(y_train, predict_y[:,1]))\n",
        "predict_y = sig_clf.predict_proba(X_cv)\n",
        "print('For values of best alpha = ', alpha[best_alpha], \"The cross validation AUC is:\",roc_auc_score(y_cv, predict_y[:,1]))\n",
        "predict_y = sig_clf.predict_proba(X_test)\n",
        "print('For values of best alpha = ', alpha[best_alpha], \"The test AUC is:\",roc_auc_score(y_test, predict_y[:,1]))"
      ],
      "execution_count": 83,
      "outputs": [
        {
          "output_type": "stream",
          "text": [
            "/usr/local/lib/python3.6/dist-packages/sklearn/linear_model/_logistic.py:940: ConvergenceWarning: lbfgs failed to converge (status=1):\n",
            "STOP: TOTAL NO. of ITERATIONS REACHED LIMIT.\n",
            "\n",
            "Increase the number of iterations (max_iter) or scale the data as shown in:\n",
            "    https://scikit-learn.org/stable/modules/preprocessing.html\n",
            "Please also refer to the documentation for alternative solver options:\n",
            "    https://scikit-learn.org/stable/modules/linear_model.html#logistic-regression\n",
            "  extra_warning_msg=_LOGISTIC_SOLVER_CONVERGENCE_MSG)\n",
            "/usr/local/lib/python3.6/dist-packages/sklearn/linear_model/_logistic.py:940: ConvergenceWarning: lbfgs failed to converge (status=1):\n",
            "STOP: TOTAL NO. of ITERATIONS REACHED LIMIT.\n",
            "\n",
            "Increase the number of iterations (max_iter) or scale the data as shown in:\n",
            "    https://scikit-learn.org/stable/modules/preprocessing.html\n",
            "Please also refer to the documentation for alternative solver options:\n",
            "    https://scikit-learn.org/stable/modules/linear_model.html#logistic-regression\n",
            "  extra_warning_msg=_LOGISTIC_SOLVER_CONVERGENCE_MSG)\n",
            "/usr/local/lib/python3.6/dist-packages/sklearn/linear_model/_logistic.py:940: ConvergenceWarning: lbfgs failed to converge (status=1):\n",
            "STOP: TOTAL NO. of ITERATIONS REACHED LIMIT.\n",
            "\n",
            "Increase the number of iterations (max_iter) or scale the data as shown in:\n",
            "    https://scikit-learn.org/stable/modules/preprocessing.html\n",
            "Please also refer to the documentation for alternative solver options:\n",
            "    https://scikit-learn.org/stable/modules/linear_model.html#logistic-regression\n",
            "  extra_warning_msg=_LOGISTIC_SOLVER_CONVERGENCE_MSG)\n",
            "/usr/local/lib/python3.6/dist-packages/sklearn/linear_model/_logistic.py:940: ConvergenceWarning: lbfgs failed to converge (status=1):\n",
            "STOP: TOTAL NO. of ITERATIONS REACHED LIMIT.\n",
            "\n",
            "Increase the number of iterations (max_iter) or scale the data as shown in:\n",
            "    https://scikit-learn.org/stable/modules/preprocessing.html\n",
            "Please also refer to the documentation for alternative solver options:\n",
            "    https://scikit-learn.org/stable/modules/linear_model.html#logistic-regression\n",
            "  extra_warning_msg=_LOGISTIC_SOLVER_CONVERGENCE_MSG)\n",
            "/usr/local/lib/python3.6/dist-packages/sklearn/linear_model/_logistic.py:940: ConvergenceWarning: lbfgs failed to converge (status=1):\n",
            "STOP: TOTAL NO. of ITERATIONS REACHED LIMIT.\n",
            "\n",
            "Increase the number of iterations (max_iter) or scale the data as shown in:\n",
            "    https://scikit-learn.org/stable/modules/preprocessing.html\n",
            "Please also refer to the documentation for alternative solver options:\n",
            "    https://scikit-learn.org/stable/modules/linear_model.html#logistic-regression\n",
            "  extra_warning_msg=_LOGISTIC_SOLVER_CONVERGENCE_MSG)\n",
            "/usr/local/lib/python3.6/dist-packages/sklearn/linear_model/_logistic.py:940: ConvergenceWarning: lbfgs failed to converge (status=1):\n",
            "STOP: TOTAL NO. of ITERATIONS REACHED LIMIT.\n",
            "\n",
            "Increase the number of iterations (max_iter) or scale the data as shown in:\n",
            "    https://scikit-learn.org/stable/modules/preprocessing.html\n",
            "Please also refer to the documentation for alternative solver options:\n",
            "    https://scikit-learn.org/stable/modules/linear_model.html#logistic-regression\n",
            "  extra_warning_msg=_LOGISTIC_SOLVER_CONVERGENCE_MSG)\n",
            "/usr/local/lib/python3.6/dist-packages/sklearn/linear_model/_logistic.py:940: ConvergenceWarning: lbfgs failed to converge (status=1):\n",
            "STOP: TOTAL NO. of ITERATIONS REACHED LIMIT.\n",
            "\n",
            "Increase the number of iterations (max_iter) or scale the data as shown in:\n",
            "    https://scikit-learn.org/stable/modules/preprocessing.html\n",
            "Please also refer to the documentation for alternative solver options:\n",
            "    https://scikit-learn.org/stable/modules/linear_model.html#logistic-regression\n",
            "  extra_warning_msg=_LOGISTIC_SOLVER_CONVERGENCE_MSG)\n",
            "/usr/local/lib/python3.6/dist-packages/sklearn/linear_model/_logistic.py:940: ConvergenceWarning: lbfgs failed to converge (status=1):\n",
            "STOP: TOTAL NO. of ITERATIONS REACHED LIMIT.\n",
            "\n",
            "Increase the number of iterations (max_iter) or scale the data as shown in:\n",
            "    https://scikit-learn.org/stable/modules/preprocessing.html\n",
            "Please also refer to the documentation for alternative solver options:\n",
            "    https://scikit-learn.org/stable/modules/linear_model.html#logistic-regression\n",
            "  extra_warning_msg=_LOGISTIC_SOLVER_CONVERGENCE_MSG)\n",
            "/usr/local/lib/python3.6/dist-packages/sklearn/linear_model/_logistic.py:940: ConvergenceWarning: lbfgs failed to converge (status=1):\n",
            "STOP: TOTAL NO. of ITERATIONS REACHED LIMIT.\n",
            "\n",
            "Increase the number of iterations (max_iter) or scale the data as shown in:\n",
            "    https://scikit-learn.org/stable/modules/preprocessing.html\n",
            "Please also refer to the documentation for alternative solver options:\n",
            "    https://scikit-learn.org/stable/modules/linear_model.html#logistic-regression\n",
            "  extra_warning_msg=_LOGISTIC_SOLVER_CONVERGENCE_MSG)\n",
            "/usr/local/lib/python3.6/dist-packages/sklearn/linear_model/_logistic.py:940: ConvergenceWarning: lbfgs failed to converge (status=1):\n",
            "STOP: TOTAL NO. of ITERATIONS REACHED LIMIT.\n",
            "\n",
            "Increase the number of iterations (max_iter) or scale the data as shown in:\n",
            "    https://scikit-learn.org/stable/modules/preprocessing.html\n",
            "Please also refer to the documentation for alternative solver options:\n",
            "    https://scikit-learn.org/stable/modules/linear_model.html#logistic-regression\n",
            "  extra_warning_msg=_LOGISTIC_SOLVER_CONVERGENCE_MSG)\n",
            "/usr/local/lib/python3.6/dist-packages/sklearn/linear_model/_logistic.py:940: ConvergenceWarning: lbfgs failed to converge (status=1):\n",
            "STOP: TOTAL NO. of ITERATIONS REACHED LIMIT.\n",
            "\n",
            "Increase the number of iterations (max_iter) or scale the data as shown in:\n",
            "    https://scikit-learn.org/stable/modules/preprocessing.html\n",
            "Please also refer to the documentation for alternative solver options:\n",
            "    https://scikit-learn.org/stable/modules/linear_model.html#logistic-regression\n",
            "  extra_warning_msg=_LOGISTIC_SOLVER_CONVERGENCE_MSG)\n",
            "/usr/local/lib/python3.6/dist-packages/sklearn/linear_model/_logistic.py:940: ConvergenceWarning: lbfgs failed to converge (status=1):\n",
            "STOP: TOTAL NO. of ITERATIONS REACHED LIMIT.\n",
            "\n",
            "Increase the number of iterations (max_iter) or scale the data as shown in:\n",
            "    https://scikit-learn.org/stable/modules/preprocessing.html\n",
            "Please also refer to the documentation for alternative solver options:\n",
            "    https://scikit-learn.org/stable/modules/linear_model.html#logistic-regression\n",
            "  extra_warning_msg=_LOGISTIC_SOLVER_CONVERGENCE_MSG)\n",
            "/usr/local/lib/python3.6/dist-packages/sklearn/linear_model/_logistic.py:940: ConvergenceWarning: lbfgs failed to converge (status=1):\n",
            "STOP: TOTAL NO. of ITERATIONS REACHED LIMIT.\n",
            "\n",
            "Increase the number of iterations (max_iter) or scale the data as shown in:\n",
            "    https://scikit-learn.org/stable/modules/preprocessing.html\n",
            "Please also refer to the documentation for alternative solver options:\n",
            "    https://scikit-learn.org/stable/modules/linear_model.html#logistic-regression\n",
            "  extra_warning_msg=_LOGISTIC_SOLVER_CONVERGENCE_MSG)\n",
            "/usr/local/lib/python3.6/dist-packages/sklearn/linear_model/_logistic.py:940: ConvergenceWarning: lbfgs failed to converge (status=1):\n",
            "STOP: TOTAL NO. of ITERATIONS REACHED LIMIT.\n",
            "\n",
            "Increase the number of iterations (max_iter) or scale the data as shown in:\n",
            "    https://scikit-learn.org/stable/modules/preprocessing.html\n",
            "Please also refer to the documentation for alternative solver options:\n",
            "    https://scikit-learn.org/stable/modules/linear_model.html#logistic-regression\n",
            "  extra_warning_msg=_LOGISTIC_SOLVER_CONVERGENCE_MSG)\n",
            "/usr/local/lib/python3.6/dist-packages/sklearn/linear_model/_logistic.py:940: ConvergenceWarning: lbfgs failed to converge (status=1):\n",
            "STOP: TOTAL NO. of ITERATIONS REACHED LIMIT.\n",
            "\n",
            "Increase the number of iterations (max_iter) or scale the data as shown in:\n",
            "    https://scikit-learn.org/stable/modules/preprocessing.html\n",
            "Please also refer to the documentation for alternative solver options:\n",
            "    https://scikit-learn.org/stable/modules/linear_model.html#logistic-regression\n",
            "  extra_warning_msg=_LOGISTIC_SOLVER_CONVERGENCE_MSG)\n",
            "/usr/local/lib/python3.6/dist-packages/sklearn/linear_model/_logistic.py:940: ConvergenceWarning: lbfgs failed to converge (status=1):\n",
            "STOP: TOTAL NO. of ITERATIONS REACHED LIMIT.\n",
            "\n",
            "Increase the number of iterations (max_iter) or scale the data as shown in:\n",
            "    https://scikit-learn.org/stable/modules/preprocessing.html\n",
            "Please also refer to the documentation for alternative solver options:\n",
            "    https://scikit-learn.org/stable/modules/linear_model.html#logistic-regression\n",
            "  extra_warning_msg=_LOGISTIC_SOLVER_CONVERGENCE_MSG)\n",
            "/usr/local/lib/python3.6/dist-packages/sklearn/linear_model/_logistic.py:940: ConvergenceWarning: lbfgs failed to converge (status=1):\n",
            "STOP: TOTAL NO. of ITERATIONS REACHED LIMIT.\n",
            "\n",
            "Increase the number of iterations (max_iter) or scale the data as shown in:\n",
            "    https://scikit-learn.org/stable/modules/preprocessing.html\n",
            "Please also refer to the documentation for alternative solver options:\n",
            "    https://scikit-learn.org/stable/modules/linear_model.html#logistic-regression\n",
            "  extra_warning_msg=_LOGISTIC_SOLVER_CONVERGENCE_MSG)\n",
            "/usr/local/lib/python3.6/dist-packages/sklearn/linear_model/_logistic.py:940: ConvergenceWarning: lbfgs failed to converge (status=1):\n",
            "STOP: TOTAL NO. of ITERATIONS REACHED LIMIT.\n",
            "\n",
            "Increase the number of iterations (max_iter) or scale the data as shown in:\n",
            "    https://scikit-learn.org/stable/modules/preprocessing.html\n",
            "Please also refer to the documentation for alternative solver options:\n",
            "    https://scikit-learn.org/stable/modules/linear_model.html#logistic-regression\n",
            "  extra_warning_msg=_LOGISTIC_SOLVER_CONVERGENCE_MSG)\n",
            "/usr/local/lib/python3.6/dist-packages/sklearn/linear_model/_logistic.py:940: ConvergenceWarning: lbfgs failed to converge (status=1):\n",
            "STOP: TOTAL NO. of ITERATIONS REACHED LIMIT.\n",
            "\n",
            "Increase the number of iterations (max_iter) or scale the data as shown in:\n",
            "    https://scikit-learn.org/stable/modules/preprocessing.html\n",
            "Please also refer to the documentation for alternative solver options:\n",
            "    https://scikit-learn.org/stable/modules/linear_model.html#logistic-regression\n",
            "  extra_warning_msg=_LOGISTIC_SOLVER_CONVERGENCE_MSG)\n",
            "/usr/local/lib/python3.6/dist-packages/sklearn/linear_model/_logistic.py:940: ConvergenceWarning: lbfgs failed to converge (status=1):\n",
            "STOP: TOTAL NO. of ITERATIONS REACHED LIMIT.\n",
            "\n",
            "Increase the number of iterations (max_iter) or scale the data as shown in:\n",
            "    https://scikit-learn.org/stable/modules/preprocessing.html\n",
            "Please also refer to the documentation for alternative solver options:\n",
            "    https://scikit-learn.org/stable/modules/linear_model.html#logistic-regression\n",
            "  extra_warning_msg=_LOGISTIC_SOLVER_CONVERGENCE_MSG)\n",
            "/usr/local/lib/python3.6/dist-packages/sklearn/linear_model/_logistic.py:940: ConvergenceWarning: lbfgs failed to converge (status=1):\n",
            "STOP: TOTAL NO. of ITERATIONS REACHED LIMIT.\n",
            "\n",
            "Increase the number of iterations (max_iter) or scale the data as shown in:\n",
            "    https://scikit-learn.org/stable/modules/preprocessing.html\n",
            "Please also refer to the documentation for alternative solver options:\n",
            "    https://scikit-learn.org/stable/modules/linear_model.html#logistic-regression\n",
            "  extra_warning_msg=_LOGISTIC_SOLVER_CONVERGENCE_MSG)\n",
            "/usr/local/lib/python3.6/dist-packages/sklearn/linear_model/_logistic.py:940: ConvergenceWarning: lbfgs failed to converge (status=1):\n",
            "STOP: TOTAL NO. of ITERATIONS REACHED LIMIT.\n",
            "\n",
            "Increase the number of iterations (max_iter) or scale the data as shown in:\n",
            "    https://scikit-learn.org/stable/modules/preprocessing.html\n",
            "Please also refer to the documentation for alternative solver options:\n",
            "    https://scikit-learn.org/stable/modules/linear_model.html#logistic-regression\n",
            "  extra_warning_msg=_LOGISTIC_SOLVER_CONVERGENCE_MSG)\n",
            "/usr/local/lib/python3.6/dist-packages/sklearn/linear_model/_logistic.py:940: ConvergenceWarning: lbfgs failed to converge (status=1):\n",
            "STOP: TOTAL NO. of ITERATIONS REACHED LIMIT.\n",
            "\n",
            "Increase the number of iterations (max_iter) or scale the data as shown in:\n",
            "    https://scikit-learn.org/stable/modules/preprocessing.html\n",
            "Please also refer to the documentation for alternative solver options:\n",
            "    https://scikit-learn.org/stable/modules/linear_model.html#logistic-regression\n",
            "  extra_warning_msg=_LOGISTIC_SOLVER_CONVERGENCE_MSG)\n",
            "/usr/local/lib/python3.6/dist-packages/sklearn/linear_model/_logistic.py:940: ConvergenceWarning: lbfgs failed to converge (status=1):\n",
            "STOP: TOTAL NO. of ITERATIONS REACHED LIMIT.\n",
            "\n",
            "Increase the number of iterations (max_iter) or scale the data as shown in:\n",
            "    https://scikit-learn.org/stable/modules/preprocessing.html\n",
            "Please also refer to the documentation for alternative solver options:\n",
            "    https://scikit-learn.org/stable/modules/linear_model.html#logistic-regression\n",
            "  extra_warning_msg=_LOGISTIC_SOLVER_CONVERGENCE_MSG)\n",
            "/usr/local/lib/python3.6/dist-packages/sklearn/linear_model/_logistic.py:940: ConvergenceWarning: lbfgs failed to converge (status=1):\n",
            "STOP: TOTAL NO. of ITERATIONS REACHED LIMIT.\n",
            "\n",
            "Increase the number of iterations (max_iter) or scale the data as shown in:\n",
            "    https://scikit-learn.org/stable/modules/preprocessing.html\n",
            "Please also refer to the documentation for alternative solver options:\n",
            "    https://scikit-learn.org/stable/modules/linear_model.html#logistic-regression\n",
            "  extra_warning_msg=_LOGISTIC_SOLVER_CONVERGENCE_MSG)\n",
            "/usr/local/lib/python3.6/dist-packages/sklearn/linear_model/_logistic.py:940: ConvergenceWarning: lbfgs failed to converge (status=1):\n",
            "STOP: TOTAL NO. of ITERATIONS REACHED LIMIT.\n",
            "\n",
            "Increase the number of iterations (max_iter) or scale the data as shown in:\n",
            "    https://scikit-learn.org/stable/modules/preprocessing.html\n",
            "Please also refer to the documentation for alternative solver options:\n",
            "    https://scikit-learn.org/stable/modules/linear_model.html#logistic-regression\n",
            "  extra_warning_msg=_LOGISTIC_SOLVER_CONVERGENCE_MSG)\n",
            "/usr/local/lib/python3.6/dist-packages/sklearn/linear_model/_logistic.py:940: ConvergenceWarning: lbfgs failed to converge (status=1):\n",
            "STOP: TOTAL NO. of ITERATIONS REACHED LIMIT.\n",
            "\n",
            "Increase the number of iterations (max_iter) or scale the data as shown in:\n",
            "    https://scikit-learn.org/stable/modules/preprocessing.html\n",
            "Please also refer to the documentation for alternative solver options:\n",
            "    https://scikit-learn.org/stable/modules/linear_model.html#logistic-regression\n",
            "  extra_warning_msg=_LOGISTIC_SOLVER_CONVERGENCE_MSG)\n",
            "/usr/local/lib/python3.6/dist-packages/sklearn/linear_model/_logistic.py:940: ConvergenceWarning: lbfgs failed to converge (status=1):\n",
            "STOP: TOTAL NO. of ITERATIONS REACHED LIMIT.\n",
            "\n",
            "Increase the number of iterations (max_iter) or scale the data as shown in:\n",
            "    https://scikit-learn.org/stable/modules/preprocessing.html\n",
            "Please also refer to the documentation for alternative solver options:\n",
            "    https://scikit-learn.org/stable/modules/linear_model.html#logistic-regression\n",
            "  extra_warning_msg=_LOGISTIC_SOLVER_CONVERGENCE_MSG)\n",
            "/usr/local/lib/python3.6/dist-packages/sklearn/linear_model/_logistic.py:940: ConvergenceWarning: lbfgs failed to converge (status=1):\n",
            "STOP: TOTAL NO. of ITERATIONS REACHED LIMIT.\n",
            "\n",
            "Increase the number of iterations (max_iter) or scale the data as shown in:\n",
            "    https://scikit-learn.org/stable/modules/preprocessing.html\n",
            "Please also refer to the documentation for alternative solver options:\n",
            "    https://scikit-learn.org/stable/modules/linear_model.html#logistic-regression\n",
            "  extra_warning_msg=_LOGISTIC_SOLVER_CONVERGENCE_MSG)\n",
            "/usr/local/lib/python3.6/dist-packages/sklearn/linear_model/_logistic.py:940: ConvergenceWarning: lbfgs failed to converge (status=1):\n",
            "STOP: TOTAL NO. of ITERATIONS REACHED LIMIT.\n",
            "\n",
            "Increase the number of iterations (max_iter) or scale the data as shown in:\n",
            "    https://scikit-learn.org/stable/modules/preprocessing.html\n",
            "Please also refer to the documentation for alternative solver options:\n",
            "    https://scikit-learn.org/stable/modules/linear_model.html#logistic-regression\n",
            "  extra_warning_msg=_LOGISTIC_SOLVER_CONVERGENCE_MSG)\n",
            "/usr/local/lib/python3.6/dist-packages/sklearn/linear_model/_logistic.py:940: ConvergenceWarning: lbfgs failed to converge (status=1):\n",
            "STOP: TOTAL NO. of ITERATIONS REACHED LIMIT.\n",
            "\n",
            "Increase the number of iterations (max_iter) or scale the data as shown in:\n",
            "    https://scikit-learn.org/stable/modules/preprocessing.html\n",
            "Please also refer to the documentation for alternative solver options:\n",
            "    https://scikit-learn.org/stable/modules/linear_model.html#logistic-regression\n",
            "  extra_warning_msg=_LOGISTIC_SOLVER_CONVERGENCE_MSG)\n",
            "/usr/local/lib/python3.6/dist-packages/sklearn/linear_model/_logistic.py:940: ConvergenceWarning: lbfgs failed to converge (status=1):\n",
            "STOP: TOTAL NO. of ITERATIONS REACHED LIMIT.\n",
            "\n",
            "Increase the number of iterations (max_iter) or scale the data as shown in:\n",
            "    https://scikit-learn.org/stable/modules/preprocessing.html\n",
            "Please also refer to the documentation for alternative solver options:\n",
            "    https://scikit-learn.org/stable/modules/linear_model.html#logistic-regression\n",
            "  extra_warning_msg=_LOGISTIC_SOLVER_CONVERGENCE_MSG)\n",
            "/usr/local/lib/python3.6/dist-packages/sklearn/linear_model/_logistic.py:940: ConvergenceWarning: lbfgs failed to converge (status=1):\n",
            "STOP: TOTAL NO. of ITERATIONS REACHED LIMIT.\n",
            "\n",
            "Increase the number of iterations (max_iter) or scale the data as shown in:\n",
            "    https://scikit-learn.org/stable/modules/preprocessing.html\n",
            "Please also refer to the documentation for alternative solver options:\n",
            "    https://scikit-learn.org/stable/modules/linear_model.html#logistic-regression\n",
            "  extra_warning_msg=_LOGISTIC_SOLVER_CONVERGENCE_MSG)\n",
            "/usr/local/lib/python3.6/dist-packages/sklearn/linear_model/_logistic.py:940: ConvergenceWarning: lbfgs failed to converge (status=1):\n",
            "STOP: TOTAL NO. of ITERATIONS REACHED LIMIT.\n",
            "\n",
            "Increase the number of iterations (max_iter) or scale the data as shown in:\n",
            "    https://scikit-learn.org/stable/modules/preprocessing.html\n",
            "Please also refer to the documentation for alternative solver options:\n",
            "    https://scikit-learn.org/stable/modules/linear_model.html#logistic-regression\n",
            "  extra_warning_msg=_LOGISTIC_SOLVER_CONVERGENCE_MSG)\n",
            "/usr/local/lib/python3.6/dist-packages/sklearn/linear_model/_logistic.py:940: ConvergenceWarning: lbfgs failed to converge (status=1):\n",
            "STOP: TOTAL NO. of ITERATIONS REACHED LIMIT.\n",
            "\n",
            "Increase the number of iterations (max_iter) or scale the data as shown in:\n",
            "    https://scikit-learn.org/stable/modules/preprocessing.html\n",
            "Please also refer to the documentation for alternative solver options:\n",
            "    https://scikit-learn.org/stable/modules/linear_model.html#logistic-regression\n",
            "  extra_warning_msg=_LOGISTIC_SOLVER_CONVERGENCE_MSG)\n",
            "/usr/local/lib/python3.6/dist-packages/sklearn/linear_model/_logistic.py:940: ConvergenceWarning: lbfgs failed to converge (status=1):\n",
            "STOP: TOTAL NO. of ITERATIONS REACHED LIMIT.\n",
            "\n",
            "Increase the number of iterations (max_iter) or scale the data as shown in:\n",
            "    https://scikit-learn.org/stable/modules/preprocessing.html\n",
            "Please also refer to the documentation for alternative solver options:\n",
            "    https://scikit-learn.org/stable/modules/linear_model.html#logistic-regression\n",
            "  extra_warning_msg=_LOGISTIC_SOLVER_CONVERGENCE_MSG)\n",
            "/usr/local/lib/python3.6/dist-packages/sklearn/linear_model/_logistic.py:940: ConvergenceWarning: lbfgs failed to converge (status=1):\n",
            "STOP: TOTAL NO. of ITERATIONS REACHED LIMIT.\n",
            "\n",
            "Increase the number of iterations (max_iter) or scale the data as shown in:\n",
            "    https://scikit-learn.org/stable/modules/preprocessing.html\n",
            "Please also refer to the documentation for alternative solver options:\n",
            "    https://scikit-learn.org/stable/modules/linear_model.html#logistic-regression\n",
            "  extra_warning_msg=_LOGISTIC_SOLVER_CONVERGENCE_MSG)\n",
            "/usr/local/lib/python3.6/dist-packages/sklearn/linear_model/_logistic.py:940: ConvergenceWarning: lbfgs failed to converge (status=1):\n",
            "STOP: TOTAL NO. of ITERATIONS REACHED LIMIT.\n",
            "\n",
            "Increase the number of iterations (max_iter) or scale the data as shown in:\n",
            "    https://scikit-learn.org/stable/modules/preprocessing.html\n",
            "Please also refer to the documentation for alternative solver options:\n",
            "    https://scikit-learn.org/stable/modules/linear_model.html#logistic-regression\n",
            "  extra_warning_msg=_LOGISTIC_SOLVER_CONVERGENCE_MSG)\n",
            "/usr/local/lib/python3.6/dist-packages/sklearn/linear_model/_logistic.py:940: ConvergenceWarning: lbfgs failed to converge (status=1):\n",
            "STOP: TOTAL NO. of ITERATIONS REACHED LIMIT.\n",
            "\n",
            "Increase the number of iterations (max_iter) or scale the data as shown in:\n",
            "    https://scikit-learn.org/stable/modules/preprocessing.html\n",
            "Please also refer to the documentation for alternative solver options:\n",
            "    https://scikit-learn.org/stable/modules/linear_model.html#logistic-regression\n",
            "  extra_warning_msg=_LOGISTIC_SOLVER_CONVERGENCE_MSG)\n",
            "/usr/local/lib/python3.6/dist-packages/sklearn/linear_model/_logistic.py:940: ConvergenceWarning: lbfgs failed to converge (status=1):\n",
            "STOP: TOTAL NO. of ITERATIONS REACHED LIMIT.\n",
            "\n",
            "Increase the number of iterations (max_iter) or scale the data as shown in:\n",
            "    https://scikit-learn.org/stable/modules/preprocessing.html\n",
            "Please also refer to the documentation for alternative solver options:\n",
            "    https://scikit-learn.org/stable/modules/linear_model.html#logistic-regression\n",
            "  extra_warning_msg=_LOGISTIC_SOLVER_CONVERGENCE_MSG)\n",
            "/usr/local/lib/python3.6/dist-packages/sklearn/linear_model/_logistic.py:940: ConvergenceWarning: lbfgs failed to converge (status=1):\n",
            "STOP: TOTAL NO. of ITERATIONS REACHED LIMIT.\n",
            "\n",
            "Increase the number of iterations (max_iter) or scale the data as shown in:\n",
            "    https://scikit-learn.org/stable/modules/preprocessing.html\n",
            "Please also refer to the documentation for alternative solver options:\n",
            "    https://scikit-learn.org/stable/modules/linear_model.html#logistic-regression\n",
            "  extra_warning_msg=_LOGISTIC_SOLVER_CONVERGENCE_MSG)\n",
            "/usr/local/lib/python3.6/dist-packages/sklearn/linear_model/_logistic.py:940: ConvergenceWarning: lbfgs failed to converge (status=1):\n",
            "STOP: TOTAL NO. of ITERATIONS REACHED LIMIT.\n",
            "\n",
            "Increase the number of iterations (max_iter) or scale the data as shown in:\n",
            "    https://scikit-learn.org/stable/modules/preprocessing.html\n",
            "Please also refer to the documentation for alternative solver options:\n",
            "    https://scikit-learn.org/stable/modules/linear_model.html#logistic-regression\n",
            "  extra_warning_msg=_LOGISTIC_SOLVER_CONVERGENCE_MSG)\n",
            "/usr/local/lib/python3.6/dist-packages/sklearn/linear_model/_logistic.py:940: ConvergenceWarning: lbfgs failed to converge (status=1):\n",
            "STOP: TOTAL NO. of ITERATIONS REACHED LIMIT.\n",
            "\n",
            "Increase the number of iterations (max_iter) or scale the data as shown in:\n",
            "    https://scikit-learn.org/stable/modules/preprocessing.html\n",
            "Please also refer to the documentation for alternative solver options:\n",
            "    https://scikit-learn.org/stable/modules/linear_model.html#logistic-regression\n",
            "  extra_warning_msg=_LOGISTIC_SOLVER_CONVERGENCE_MSG)\n",
            "/usr/local/lib/python3.6/dist-packages/sklearn/linear_model/_logistic.py:940: ConvergenceWarning: lbfgs failed to converge (status=1):\n",
            "STOP: TOTAL NO. of ITERATIONS REACHED LIMIT.\n",
            "\n",
            "Increase the number of iterations (max_iter) or scale the data as shown in:\n",
            "    https://scikit-learn.org/stable/modules/preprocessing.html\n",
            "Please also refer to the documentation for alternative solver options:\n",
            "    https://scikit-learn.org/stable/modules/linear_model.html#logistic-regression\n",
            "  extra_warning_msg=_LOGISTIC_SOLVER_CONVERGENCE_MSG)\n"
          ],
          "name": "stderr"
        },
        {
          "output_type": "stream",
          "text": [
            "AUC for k =  1e-05 is 0.7609354888258345\n",
            "AUC for k =  0.0001 is 0.7623731453290452\n",
            "AUC for k =  0.001 is 0.7773753064575472\n",
            "AUC for k =  0.01 is 0.7741730260204636\n",
            "AUC for k =  0.1 is 0.7727306066996174\n",
            "AUC for k =  1 is 0.781781627192831\n",
            "AUC for k =  10 is 0.7714441696563269\n",
            "AUC for k =  100 is 0.776468465979789\n",
            "AUC for k =  1000 is 0.7769266490363034\n"
          ],
          "name": "stdout"
        },
        {
          "output_type": "display_data",
          "data": {
            "image/png": "[encoded data removed]",
            "text/plain": [
              "<Figure size 432x288 with 1 Axes>"
            ]
          },
          "metadata": {
            "tags": [],
            "needs_background": "light"
          }
        },
        {
          "output_type": "stream",
          "text": [
            "/usr/local/lib/python3.6/dist-packages/sklearn/linear_model/_logistic.py:940: ConvergenceWarning: lbfgs failed to converge (status=1):\n",
            "STOP: TOTAL NO. of ITERATIONS REACHED LIMIT.\n",
            "\n",
            "Increase the number of iterations (max_iter) or scale the data as shown in:\n",
            "    https://scikit-learn.org/stable/modules/preprocessing.html\n",
            "Please also refer to the documentation for alternative solver options:\n",
            "    https://scikit-learn.org/stable/modules/linear_model.html#logistic-regression\n",
            "  extra_warning_msg=_LOGISTIC_SOLVER_CONVERGENCE_MSG)\n",
            "/usr/local/lib/python3.6/dist-packages/sklearn/linear_model/_logistic.py:940: ConvergenceWarning: lbfgs failed to converge (status=1):\n",
            "STOP: TOTAL NO. of ITERATIONS REACHED LIMIT.\n",
            "\n",
            "Increase the number of iterations (max_iter) or scale the data as shown in:\n",
            "    https://scikit-learn.org/stable/modules/preprocessing.html\n",
            "Please also refer to the documentation for alternative solver options:\n",
            "    https://scikit-learn.org/stable/modules/linear_model.html#logistic-regression\n",
            "  extra_warning_msg=_LOGISTIC_SOLVER_CONVERGENCE_MSG)\n",
            "/usr/local/lib/python3.6/dist-packages/sklearn/linear_model/_logistic.py:940: ConvergenceWarning: lbfgs failed to converge (status=1):\n",
            "STOP: TOTAL NO. of ITERATIONS REACHED LIMIT.\n",
            "\n",
            "Increase the number of iterations (max_iter) or scale the data as shown in:\n",
            "    https://scikit-learn.org/stable/modules/preprocessing.html\n",
            "Please also refer to the documentation for alternative solver options:\n",
            "    https://scikit-learn.org/stable/modules/linear_model.html#logistic-regression\n",
            "  extra_warning_msg=_LOGISTIC_SOLVER_CONVERGENCE_MSG)\n",
            "/usr/local/lib/python3.6/dist-packages/sklearn/linear_model/_logistic.py:940: ConvergenceWarning: lbfgs failed to converge (status=1):\n",
            "STOP: TOTAL NO. of ITERATIONS REACHED LIMIT.\n",
            "\n",
            "Increase the number of iterations (max_iter) or scale the data as shown in:\n",
            "    https://scikit-learn.org/stable/modules/preprocessing.html\n",
            "Please also refer to the documentation for alternative solver options:\n",
            "    https://scikit-learn.org/stable/modules/linear_model.html#logistic-regression\n",
            "  extra_warning_msg=_LOGISTIC_SOLVER_CONVERGENCE_MSG)\n",
            "/usr/local/lib/python3.6/dist-packages/sklearn/linear_model/_logistic.py:940: ConvergenceWarning: lbfgs failed to converge (status=1):\n",
            "STOP: TOTAL NO. of ITERATIONS REACHED LIMIT.\n",
            "\n",
            "Increase the number of iterations (max_iter) or scale the data as shown in:\n",
            "    https://scikit-learn.org/stable/modules/preprocessing.html\n",
            "Please also refer to the documentation for alternative solver options:\n",
            "    https://scikit-learn.org/stable/modules/linear_model.html#logistic-regression\n",
            "  extra_warning_msg=_LOGISTIC_SOLVER_CONVERGENCE_MSG)\n"
          ],
          "name": "stderr"
        },
        {
          "output_type": "stream",
          "text": [
            "For values of best alpha =  1 The train AUC is: 0.7857148704508335\n",
            "For values of best alpha =  1 The cross validation AUC is: 0.781781627192831\n",
            "For values of best alpha =  1 The test AUC is: 0.7824949551848233\n"
          ],
          "name": "stdout"
        }
      ]
    },
    {
      "cell_type": "markdown",
      "metadata": {
        "id": "87ylNH0voVej",
        "colab_type": "text"
      },
      "source": [
        "###Random Forest"
      ]
    },
    {
      "cell_type": "code",
      "metadata": {
        "id": "y9lG2BUBQqS4",
        "colab_type": "code",
        "colab": {
          "base_uri": "https://localhost:8080/",
          "height": 471
        },
        "outputId": "a36e60d1-0a88-42c5-8025-d03cb0cada8d"
      },
      "source": [
        "%matplotlib inline\n",
        "\n",
        "alpha=[10,50,100,500,1000,2000,3000]\n",
        "cv_auc_array=[]\n",
        "for i in alpha:\n",
        "    r_cfl=RandomForestClassifier(n_estimators=i,random_state=42,n_jobs=-1)\n",
        "    r_cfl.fit(X_train,y_train)\n",
        "    sig_clf = CalibratedClassifierCV(r_cfl, method=\"sigmoid\")\n",
        "    sig_clf.fit(X_train, y_train)\n",
        "    predict_y = sig_clf.predict_proba(X_cv)\n",
        "    cv_auc_array.append(roc_auc_score(y_cv, predict_y[:,1]))\n",
        "    \n",
        "for i in range(len(cv_auc_array)):\n",
        "    print ('AUC for number of estimators = ',alpha[i],'is',cv_auc_array[i])\n",
        "\n",
        "best_alpha = np.argmax(cv_auc_array)\n",
        "    \n",
        "fig, ax = plt.subplots()\n",
        "ax.plot(alpha, cv_auc_array,c='g')\n",
        "for i, txt in enumerate(np.round(cv_auc_array,3)):\n",
        "    ax.annotate((alpha[i],np.round(txt,3)), (alpha[i],cv_auc_array[i]))\n",
        "plt.grid()\n",
        "plt.title(\"Cross Validation Error for each alpha\")\n",
        "plt.xlabel(\"Alpha i's\")\n",
        "plt.ylabel(\"Error measure\")\n",
        "plt.show()\n",
        "\n",
        "r_cfl=RandomForestClassifier(n_estimators=alpha[best_alpha],random_state=42,n_jobs=-1)\n",
        "r_cfl.fit(X_train,y_train)\n",
        "sig_clf = CalibratedClassifierCV(r_cfl, method=\"sigmoid\")\n",
        "sig_clf.fit(X_train, y_train)\n",
        "    \n",
        "predict_y = sig_clf.predict_proba(X_train)\n",
        "print ('For values of best alpha = ', alpha[best_alpha], \"The train AUC is:\",roc_auc_score(y_train, predict_y[:,1]))\n",
        "predict_y = sig_clf.predict_proba(X_cv)\n",
        "print('For values of best alpha = ', alpha[best_alpha], \"The cross validation AUC is:\",roc_auc_score(y_cv, predict_y[:,1]))\n",
        "predict_y = sig_clf.predict_proba(X_test)\n",
        "print('For values of best alpha = ', alpha[best_alpha], \"The test AUC is:\",roc_auc_score(y_test, predict_y[:,1]))"
      ],
      "execution_count": 84,
      "outputs": [
        {
          "output_type": "stream",
          "text": [
            "AUC for number of estimators =  10 is 0.7675050813310647\n",
            "AUC for number of estimators =  50 is 0.7796596728658707\n",
            "AUC for number of estimators =  100 is 0.7805898511500418\n",
            "AUC for number of estimators =  500 is 0.7793346105622625\n",
            "AUC for number of estimators =  1000 is 0.7787831953505375\n",
            "AUC for number of estimators =  2000 is 0.779045150320478\n",
            "AUC for number of estimators =  3000 is 0.7790437214751875\n"
          ],
          "name": "stdout"
        },
        {
          "output_type": "display_data",
          "data": {
            "image/png": "[encoded data removed]",
            "text/plain": [
              "<Figure size 432x288 with 1 Axes>"
            ]
          },
          "metadata": {
            "tags": [],
            "needs_background": "light"
          }
        },
        {
          "output_type": "stream",
          "text": [
            "For values of best alpha =  100 The train AUC is: 0.9997240114804036\n",
            "For values of best alpha =  100 The cross validation AUC is: 0.7805898511500418\n",
            "For values of best alpha =  100 The test AUC is: 0.780604012251535\n"
          ],
          "name": "stdout"
        }
      ]
    },
    {
      "cell_type": "markdown",
      "metadata": {
        "id": "2xjkr5Wny3St",
        "colab_type": "text"
      },
      "source": [
        "###SGD Classifier"
      ]
    },
    {
      "cell_type": "code",
      "metadata": {
        "id": "3o8aWVbPtaHh",
        "colab_type": "code",
        "colab": {
          "base_uri": "https://localhost:8080/",
          "height": 499
        },
        "outputId": "6107591c-dad2-41be-fde1-f454089c7ac5"
      },
      "source": [
        "%matplotlib inline\n",
        "from sklearn.linear_model import SGDClassifier\n",
        "from sklearn.calibration import CalibratedClassifierCV\n",
        "\n",
        "alpha = [10 ** x for x in range(-5, 4)]\n",
        "cv_auc_array=[]\n",
        "for i in alpha:\n",
        "    linearSVM = SGDClassifier(penalty='l2',alpha=i,class_weight='balanced')\n",
        "    linearSVM.fit(X_train,y_train)\n",
        "    sig_clf = CalibratedClassifierCV(linearSVM, method=\"sigmoid\")\n",
        "    sig_clf.fit(X_train, y_train)\n",
        "    predict_y = sig_clf.predict_proba(X_cv)\n",
        "    cv_auc_array.append(roc_auc_score(y_cv, predict_y[:,1]))\n",
        "    \n",
        "for i in range(len(cv_auc_array)):\n",
        "    print ('AUC for alpha = ',alpha[i],'is',cv_auc_array[i])\n",
        "\n",
        "best_alpha = np.argmax(cv_auc_array)\n",
        "    \n",
        "fig, ax = plt.subplots()\n",
        "ax.plot(alpha, cv_auc_array,c='g')\n",
        "for i, txt in enumerate(np.round(cv_auc_array,3)):\n",
        "    ax.annotate((alpha[i],np.round(txt,3)), (alpha[i],cv_auc_array[i]))\n",
        "plt.grid()\n",
        "plt.title(\"Cross Validation Error for each alpha\")\n",
        "plt.xlabel(\"Alpha i's\")\n",
        "plt.ylabel(\"Error measure\")\n",
        "plt.show()\n",
        "\n",
        "linearSVM = SGDClassifier(penalty='l2', alpha=alpha[best_alpha], class_weight='balanced')\n",
        "linearSVM.fit(X_train,y_train)\n",
        "sig_clf = CalibratedClassifierCV(linearSVM, method=\"sigmoid\")\n",
        "sig_clf.fit(X_train, y_train)\n",
        "    \n",
        "predict_y = sig_clf.predict_proba(X_train)\n",
        "print ('For values of best alpha = ', alpha[best_alpha], \"The train AUC is:\",roc_auc_score(y_train, predict_y[:,1]))\n",
        "predict_y = sig_clf.predict_proba(X_cv)\n",
        "print('For values of best alpha = ', alpha[best_alpha], \"The cross validation AUC is:\",roc_auc_score(y_cv, predict_y[:,1]))\n",
        "predict_y = sig_clf.predict_proba(X_test)\n",
        "print('For values of best alpha = ', alpha[best_alpha], \"The test AUC is:\",roc_auc_score(y_test, predict_y[:,1]))"
      ],
      "execution_count": 27,
      "outputs": [
        {
          "output_type": "stream",
          "text": [
            "AUC for alpha =  1e-05 is 0.5\n",
            "AUC for alpha =  0.0001 is 0.5\n",
            "AUC for alpha =  0.001 is 0.7723537834847968\n",
            "AUC for alpha =  0.01 is 0.768748126092036\n",
            "AUC for alpha =  0.1 is 0.7659895455908297\n",
            "AUC for alpha =  1 is 0.7607160513669307\n",
            "AUC for alpha =  10 is 0.7332235305506918\n",
            "AUC for alpha =  100 is 0.565245245795632\n",
            "AUC for alpha =  1000 is 0.43207253985843364\n"
          ],
          "name": "stdout"
        },
        {
          "output_type": "display_data",
          "data": {
            "image/png": "[encoded data removed]",
            "text/plain": [
              "<Figure size 432x288 with 1 Axes>"
            ]
          },
          "metadata": {
            "tags": [],
            "needs_background": "light"
          }
        },
        {
          "output_type": "stream",
          "text": [
            "For values of best alpha =  0.001 The train AUC is: 0.7607630550760933\n",
            "For values of best alpha =  0.001 The cross validation AUC is: 0.7726258819703502\n",
            "For values of best alpha =  0.001 The test AUC is: 0.7584674597361036\n"
          ],
          "name": "stdout"
        }
      ]
    },
    {
      "cell_type": "markdown",
      "metadata": {
        "id": "WFu3nZKa0PSQ",
        "colab_type": "text"
      },
      "source": [
        "###Xgboost\n",
        "\n"
      ]
    },
    {
      "cell_type": "markdown",
      "metadata": {
        "id": "jaEOUbEs0UwO",
        "colab_type": "text"
      },
      "source": [
        ""
      ]
    },
    {
      "cell_type": "code",
      "metadata": {
        "id": "o-u4D5-D0VhV",
        "colab_type": "code",
        "colab": {
          "base_uri": "https://localhost:8080/",
          "height": 1000
        },
        "outputId": "14d16aba-da4a-464e-e4a8-f67e19de18a4"
      },
      "source": [
        "\n",
        "x_cfl=XGBClassifier( max_bin=16)\n",
        "\n",
        "prams={\n",
        "    'learning_rate':[0.01,0.03,0.05,0.1,0.15,0.2],\n",
        "     'n_estimators':[100,200,500,1000,2000],\n",
        "     'max_depth':[3,5,10],\n",
        "    'colsample_bytree':[0.1,0.3,0.5,1],\n",
        "    'subsample':[0.1,0.3,0.5,1]\n",
        "}\n",
        "random_cfl=RandomizedSearchCV(x_cfl,param_distributions=prams,verbose=10,n_iter=20, cv=10, scoring='roc_auc')\n",
        "random_cfl.fit(X_train, y_train)\n",
        "print (random_cfl.best_params_)"
      ],
      "execution_count": null,
      "outputs": [
        {
          "output_type": "stream",
          "text": [
            "Fitting 10 folds for each of 20 candidates, totalling 200 fits\n",
            "[CV] subsample=0.5, n_estimators=200, max_depth=10, learning_rate=0.01, colsample_bytree=0.5 \n"
          ],
          "name": "stdout"
        },
        {
          "output_type": "stream",
          "text": [
            "[Parallel(n_jobs=1)]: Using backend SequentialBackend with 1 concurrent workers.\n"
          ],
          "name": "stderr"
        },
        {
          "output_type": "stream",
          "text": [
            "[CV]  subsample=0.5, n_estimators=200, max_depth=10, learning_rate=0.01, colsample_bytree=0.5, score=0.795, total=  12.2s\n",
            "[CV] subsample=0.5, n_estimators=200, max_depth=10, learning_rate=0.01, colsample_bytree=0.5 \n"
          ],
          "name": "stdout"
        },
        {
          "output_type": "stream",
          "text": [
            "[Parallel(n_jobs=1)]: Done   1 out of   1 | elapsed:   12.2s remaining:    0.0s\n"
          ],
          "name": "stderr"
        },
        {
          "output_type": "stream",
          "text": [
            "[CV]  subsample=0.5, n_estimators=200, max_depth=10, learning_rate=0.01, colsample_bytree=0.5, score=0.785, total=  12.1s\n",
            "[CV] subsample=0.5, n_estimators=200, max_depth=10, learning_rate=0.01, colsample_bytree=0.5 \n"
          ],
          "name": "stdout"
        },
        {
          "output_type": "stream",
          "text": [
            "[Parallel(n_jobs=1)]: Done   2 out of   2 | elapsed:   24.3s remaining:    0.0s\n"
          ],
          "name": "stderr"
        },
        {
          "output_type": "stream",
          "text": [
            "[CV]  subsample=0.5, n_estimators=200, max_depth=10, learning_rate=0.01, colsample_bytree=0.5, score=0.813, total=  12.2s\n",
            "[CV] subsample=0.5, n_estimators=200, max_depth=10, learning_rate=0.01, colsample_bytree=0.5 \n"
          ],
          "name": "stdout"
        },
        {
          "output_type": "stream",
          "text": [
            "[Parallel(n_jobs=1)]: Done   3 out of   3 | elapsed:   36.5s remaining:    0.0s\n"
          ],
          "name": "stderr"
        },
        {
          "output_type": "stream",
          "text": [
            "[CV]  subsample=0.5, n_estimators=200, max_depth=10, learning_rate=0.01, colsample_bytree=0.5, score=0.816, total=  12.1s\n",
            "[CV] subsample=0.5, n_estimators=200, max_depth=10, learning_rate=0.01, colsample_bytree=0.5 \n"
          ],
          "name": "stdout"
        },
        {
          "output_type": "stream",
          "text": [
            "[Parallel(n_jobs=1)]: Done   4 out of   4 | elapsed:   48.6s remaining:    0.0s\n"
          ],
          "name": "stderr"
        },
        {
          "output_type": "stream",
          "text": [
            "[CV]  subsample=0.5, n_estimators=200, max_depth=10, learning_rate=0.01, colsample_bytree=0.5, score=0.803, total=  12.1s\n",
            "[CV] subsample=0.5, n_estimators=200, max_depth=10, learning_rate=0.01, colsample_bytree=0.5 \n"
          ],
          "name": "stdout"
        },
        {
          "output_type": "stream",
          "text": [
            "[Parallel(n_jobs=1)]: Done   5 out of   5 | elapsed:  1.0min remaining:    0.0s\n"
          ],
          "name": "stderr"
        },
        {
          "output_type": "stream",
          "text": [
            "[CV]  subsample=0.5, n_estimators=200, max_depth=10, learning_rate=0.01, colsample_bytree=0.5, score=0.800, total=  12.1s\n",
            "[CV] subsample=0.5, n_estimators=200, max_depth=10, learning_rate=0.01, colsample_bytree=0.5 \n"
          ],
          "name": "stdout"
        },
        {
          "output_type": "stream",
          "text": [
            "[Parallel(n_jobs=1)]: Done   6 out of   6 | elapsed:  1.2min remaining:    0.0s\n"
          ],
          "name": "stderr"
        },
        {
          "output_type": "stream",
          "text": [
            "[CV]  subsample=0.5, n_estimators=200, max_depth=10, learning_rate=0.01, colsample_bytree=0.5, score=0.796, total=  12.1s\n",
            "[CV] subsample=0.5, n_estimators=200, max_depth=10, learning_rate=0.01, colsample_bytree=0.5 \n"
          ],
          "name": "stdout"
        },
        {
          "output_type": "stream",
          "text": [
            "[Parallel(n_jobs=1)]: Done   7 out of   7 | elapsed:  1.4min remaining:    0.0s\n"
          ],
          "name": "stderr"
        },
        {
          "output_type": "stream",
          "text": [
            "[CV]  subsample=0.5, n_estimators=200, max_depth=10, learning_rate=0.01, colsample_bytree=0.5, score=0.767, total=  12.1s\n",
            "[CV] subsample=0.5, n_estimators=200, max_depth=10, learning_rate=0.01, colsample_bytree=0.5 \n"
          ],
          "name": "stdout"
        },
        {
          "output_type": "stream",
          "text": [
            "[Parallel(n_jobs=1)]: Done   8 out of   8 | elapsed:  1.6min remaining:    0.0s\n"
          ],
          "name": "stderr"
        },
        {
          "output_type": "stream",
          "text": [
            "[CV]  subsample=0.5, n_estimators=200, max_depth=10, learning_rate=0.01, colsample_bytree=0.5, score=0.797, total=  12.1s\n",
            "[CV] subsample=0.5, n_estimators=200, max_depth=10, learning_rate=0.01, colsample_bytree=0.5 \n"
          ],
          "name": "stdout"
        },
        {
          "output_type": "stream",
          "text": [
            "[Parallel(n_jobs=1)]: Done   9 out of   9 | elapsed:  1.8min remaining:    0.0s\n"
          ],
          "name": "stderr"
        },
        {
          "output_type": "stream",
          "text": [
            "[CV]  subsample=0.5, n_estimators=200, max_depth=10, learning_rate=0.01, colsample_bytree=0.5, score=0.802, total=  12.2s\n",
            "[CV] subsample=1, n_estimators=2000, max_depth=3, learning_rate=0.03, colsample_bytree=0.3 \n",
            "[CV]  subsample=1, n_estimators=2000, max_depth=3, learning_rate=0.03, colsample_bytree=0.3, score=0.796, total=  26.1s\n",
            "[CV] subsample=1, n_estimators=2000, max_depth=3, learning_rate=0.03, colsample_bytree=0.3 \n",
            "[CV]  subsample=1, n_estimators=2000, max_depth=3, learning_rate=0.03, colsample_bytree=0.3, score=0.786, total=  26.1s\n",
            "[CV] subsample=1, n_estimators=2000, max_depth=3, learning_rate=0.03, colsample_bytree=0.3 \n",
            "[CV]  subsample=1, n_estimators=2000, max_depth=3, learning_rate=0.03, colsample_bytree=0.3, score=0.815, total=  26.0s\n",
            "[CV] subsample=1, n_estimators=2000, max_depth=3, learning_rate=0.03, colsample_bytree=0.3 \n",
            "[CV]  subsample=1, n_estimators=2000, max_depth=3, learning_rate=0.03, colsample_bytree=0.3, score=0.813, total=  26.0s\n",
            "[CV] subsample=1, n_estimators=2000, max_depth=3, learning_rate=0.03, colsample_bytree=0.3 \n",
            "[CV]  subsample=1, n_estimators=2000, max_depth=3, learning_rate=0.03, colsample_bytree=0.3, score=0.798, total=  26.0s\n",
            "[CV] subsample=1, n_estimators=2000, max_depth=3, learning_rate=0.03, colsample_bytree=0.3 \n",
            "[CV]  subsample=1, n_estimators=2000, max_depth=3, learning_rate=0.03, colsample_bytree=0.3, score=0.797, total=  26.0s\n",
            "[CV] subsample=1, n_estimators=2000, max_depth=3, learning_rate=0.03, colsample_bytree=0.3 \n",
            "[CV]  subsample=1, n_estimators=2000, max_depth=3, learning_rate=0.03, colsample_bytree=0.3, score=0.801, total=  26.0s\n",
            "[CV] subsample=1, n_estimators=2000, max_depth=3, learning_rate=0.03, colsample_bytree=0.3 \n",
            "[CV]  subsample=1, n_estimators=2000, max_depth=3, learning_rate=0.03, colsample_bytree=0.3, score=0.775, total=  26.0s\n",
            "[CV] subsample=1, n_estimators=2000, max_depth=3, learning_rate=0.03, colsample_bytree=0.3 \n",
            "[CV]  subsample=1, n_estimators=2000, max_depth=3, learning_rate=0.03, colsample_bytree=0.3, score=0.794, total=  26.1s\n",
            "[CV] subsample=1, n_estimators=2000, max_depth=3, learning_rate=0.03, colsample_bytree=0.3 \n",
            "[CV]  subsample=1, n_estimators=2000, max_depth=3, learning_rate=0.03, colsample_bytree=0.3, score=0.796, total=  26.0s\n",
            "[CV] subsample=0.3, n_estimators=100, max_depth=5, learning_rate=0.03, colsample_bytree=1 \n",
            "[CV]  subsample=0.3, n_estimators=100, max_depth=5, learning_rate=0.03, colsample_bytree=1, score=0.795, total=   4.6s\n",
            "[CV] subsample=0.3, n_estimators=100, max_depth=5, learning_rate=0.03, colsample_bytree=1 \n",
            "[CV]  subsample=0.3, n_estimators=100, max_depth=5, learning_rate=0.03, colsample_bytree=1, score=0.778, total=   4.5s\n",
            "[CV] subsample=0.3, n_estimators=100, max_depth=5, learning_rate=0.03, colsample_bytree=1 \n",
            "[CV]  subsample=0.3, n_estimators=100, max_depth=5, learning_rate=0.03, colsample_bytree=1, score=0.812, total=   4.5s\n",
            "[CV] subsample=0.3, n_estimators=100, max_depth=5, learning_rate=0.03, colsample_bytree=1 \n",
            "[CV]  subsample=0.3, n_estimators=100, max_depth=5, learning_rate=0.03, colsample_bytree=1, score=0.809, total=   4.5s\n",
            "[CV] subsample=0.3, n_estimators=100, max_depth=5, learning_rate=0.03, colsample_bytree=1 \n",
            "[CV]  subsample=0.3, n_estimators=100, max_depth=5, learning_rate=0.03, colsample_bytree=1, score=0.796, total=   4.5s\n",
            "[CV] subsample=0.3, n_estimators=100, max_depth=5, learning_rate=0.03, colsample_bytree=1 \n",
            "[CV]  subsample=0.3, n_estimators=100, max_depth=5, learning_rate=0.03, colsample_bytree=1, score=0.803, total=   4.5s\n",
            "[CV] subsample=0.3, n_estimators=100, max_depth=5, learning_rate=0.03, colsample_bytree=1 \n",
            "[CV]  subsample=0.3, n_estimators=100, max_depth=5, learning_rate=0.03, colsample_bytree=1, score=0.792, total=   4.5s\n",
            "[CV] subsample=0.3, n_estimators=100, max_depth=5, learning_rate=0.03, colsample_bytree=1 \n",
            "[CV]  subsample=0.3, n_estimators=100, max_depth=5, learning_rate=0.03, colsample_bytree=1, score=0.772, total=   4.5s\n",
            "[CV] subsample=0.3, n_estimators=100, max_depth=5, learning_rate=0.03, colsample_bytree=1 \n",
            "[CV]  subsample=0.3, n_estimators=100, max_depth=5, learning_rate=0.03, colsample_bytree=1, score=0.800, total=   4.5s\n",
            "[CV] subsample=0.3, n_estimators=100, max_depth=5, learning_rate=0.03, colsample_bytree=1 \n",
            "[CV]  subsample=0.3, n_estimators=100, max_depth=5, learning_rate=0.03, colsample_bytree=1, score=0.805, total=   4.5s\n",
            "[CV] subsample=1, n_estimators=2000, max_depth=5, learning_rate=0.1, colsample_bytree=0.1 \n",
            "[CV]  subsample=1, n_estimators=2000, max_depth=5, learning_rate=0.1, colsample_bytree=0.1, score=0.774, total=  22.7s\n",
            "[CV] subsample=1, n_estimators=2000, max_depth=5, learning_rate=0.1, colsample_bytree=0.1 \n",
            "[CV]  subsample=1, n_estimators=2000, max_depth=5, learning_rate=0.1, colsample_bytree=0.1, score=0.767, total=  22.6s\n",
            "[CV] subsample=1, n_estimators=2000, max_depth=5, learning_rate=0.1, colsample_bytree=0.1 \n",
            "[CV]  subsample=1, n_estimators=2000, max_depth=5, learning_rate=0.1, colsample_bytree=0.1, score=0.791, total=  22.6s\n",
            "[CV] subsample=1, n_estimators=2000, max_depth=5, learning_rate=0.1, colsample_bytree=0.1 \n",
            "[CV]  subsample=1, n_estimators=2000, max_depth=5, learning_rate=0.1, colsample_bytree=0.1, score=0.799, total=  22.8s\n",
            "[CV] subsample=1, n_estimators=2000, max_depth=5, learning_rate=0.1, colsample_bytree=0.1 \n",
            "[CV]  subsample=1, n_estimators=2000, max_depth=5, learning_rate=0.1, colsample_bytree=0.1, score=0.775, total=  22.7s\n",
            "[CV] subsample=1, n_estimators=2000, max_depth=5, learning_rate=0.1, colsample_bytree=0.1 \n",
            "[CV]  subsample=1, n_estimators=2000, max_depth=5, learning_rate=0.1, colsample_bytree=0.1, score=0.780, total=  22.8s\n",
            "[CV] subsample=1, n_estimators=2000, max_depth=5, learning_rate=0.1, colsample_bytree=0.1 \n",
            "[CV]  subsample=1, n_estimators=2000, max_depth=5, learning_rate=0.1, colsample_bytree=0.1, score=0.774, total=  22.7s\n",
            "[CV] subsample=1, n_estimators=2000, max_depth=5, learning_rate=0.1, colsample_bytree=0.1 \n",
            "[CV]  subsample=1, n_estimators=2000, max_depth=5, learning_rate=0.1, colsample_bytree=0.1, score=0.770, total=  29.2s\n",
            "[CV] subsample=1, n_estimators=2000, max_depth=5, learning_rate=0.1, colsample_bytree=0.1 \n",
            "[CV]  subsample=1, n_estimators=2000, max_depth=5, learning_rate=0.1, colsample_bytree=0.1, score=0.766, total=  22.7s\n",
            "[CV] subsample=1, n_estimators=2000, max_depth=5, learning_rate=0.1, colsample_bytree=0.1 \n",
            "[CV]  subsample=1, n_estimators=2000, max_depth=5, learning_rate=0.1, colsample_bytree=0.1, score=0.780, total=  22.7s\n",
            "[CV] subsample=0.5, n_estimators=1000, max_depth=10, learning_rate=0.03, colsample_bytree=0.1 \n",
            "[CV]  subsample=0.5, n_estimators=1000, max_depth=10, learning_rate=0.03, colsample_bytree=0.1, score=0.789, total=  18.9s\n",
            "[CV] subsample=0.5, n_estimators=1000, max_depth=10, learning_rate=0.03, colsample_bytree=0.1 \n",
            "[CV]  subsample=0.5, n_estimators=1000, max_depth=10, learning_rate=0.03, colsample_bytree=0.1, score=0.773, total=  18.9s\n",
            "[CV] subsample=0.5, n_estimators=1000, max_depth=10, learning_rate=0.03, colsample_bytree=0.1 \n",
            "[CV]  subsample=0.5, n_estimators=1000, max_depth=10, learning_rate=0.03, colsample_bytree=0.1, score=0.804, total=  18.8s\n",
            "[CV] subsample=0.5, n_estimators=1000, max_depth=10, learning_rate=0.03, colsample_bytree=0.1 \n",
            "[CV]  subsample=0.5, n_estimators=1000, max_depth=10, learning_rate=0.03, colsample_bytree=0.1, score=0.811, total=  18.8s\n",
            "[CV] subsample=0.5, n_estimators=1000, max_depth=10, learning_rate=0.03, colsample_bytree=0.1 \n",
            "[CV]  subsample=0.5, n_estimators=1000, max_depth=10, learning_rate=0.03, colsample_bytree=0.1, score=0.796, total=  18.8s\n",
            "[CV] subsample=0.5, n_estimators=1000, max_depth=10, learning_rate=0.03, colsample_bytree=0.1 \n",
            "[CV]  subsample=0.5, n_estimators=1000, max_depth=10, learning_rate=0.03, colsample_bytree=0.1, score=0.792, total=  18.8s\n",
            "[CV] subsample=0.5, n_estimators=1000, max_depth=10, learning_rate=0.03, colsample_bytree=0.1 \n",
            "[CV]  subsample=0.5, n_estimators=1000, max_depth=10, learning_rate=0.03, colsample_bytree=0.1, score=0.796, total=  18.8s\n",
            "[CV] subsample=0.5, n_estimators=1000, max_depth=10, learning_rate=0.03, colsample_bytree=0.1 \n",
            "[CV]  subsample=0.5, n_estimators=1000, max_depth=10, learning_rate=0.03, colsample_bytree=0.1, score=0.778, total=  18.9s\n",
            "[CV] subsample=0.5, n_estimators=1000, max_depth=10, learning_rate=0.03, colsample_bytree=0.1 \n",
            "[CV]  subsample=0.5, n_estimators=1000, max_depth=10, learning_rate=0.03, colsample_bytree=0.1, score=0.783, total=  18.8s\n",
            "[CV] subsample=0.5, n_estimators=1000, max_depth=10, learning_rate=0.03, colsample_bytree=0.1 \n",
            "[CV]  subsample=0.5, n_estimators=1000, max_depth=10, learning_rate=0.03, colsample_bytree=0.1, score=0.796, total=  18.8s\n",
            "[CV] subsample=0.3, n_estimators=1000, max_depth=10, learning_rate=0.15, colsample_bytree=0.5 \n",
            "[CV]  subsample=0.3, n_estimators=1000, max_depth=10, learning_rate=0.15, colsample_bytree=0.5, score=0.728, total=  50.1s\n",
            "[CV] subsample=0.3, n_estimators=1000, max_depth=10, learning_rate=0.15, colsample_bytree=0.5 \n",
            "[CV]  subsample=0.3, n_estimators=1000, max_depth=10, learning_rate=0.15, colsample_bytree=0.5, score=0.729, total=  50.1s\n",
            "[CV] subsample=0.3, n_estimators=1000, max_depth=10, learning_rate=0.15, colsample_bytree=0.5 \n",
            "[CV]  subsample=0.3, n_estimators=1000, max_depth=10, learning_rate=0.15, colsample_bytree=0.5, score=0.734, total=  50.3s\n",
            "[CV] subsample=0.3, n_estimators=1000, max_depth=10, learning_rate=0.15, colsample_bytree=0.5 \n",
            "[CV]  subsample=0.3, n_estimators=1000, max_depth=10, learning_rate=0.15, colsample_bytree=0.5, score=0.765, total=  51.1s\n",
            "[CV] subsample=0.3, n_estimators=1000, max_depth=10, learning_rate=0.15, colsample_bytree=0.5 \n",
            "[CV]  subsample=0.3, n_estimators=1000, max_depth=10, learning_rate=0.15, colsample_bytree=0.5, score=0.730, total=  50.3s\n",
            "[CV] subsample=0.3, n_estimators=1000, max_depth=10, learning_rate=0.15, colsample_bytree=0.5 \n",
            "[CV]  subsample=0.3, n_estimators=1000, max_depth=10, learning_rate=0.15, colsample_bytree=0.5, score=0.740, total=  50.3s\n",
            "[CV] subsample=0.3, n_estimators=1000, max_depth=10, learning_rate=0.15, colsample_bytree=0.5 \n",
            "[CV]  subsample=0.3, n_estimators=1000, max_depth=10, learning_rate=0.15, colsample_bytree=0.5, score=0.733, total=  50.3s\n",
            "[CV] subsample=0.3, n_estimators=1000, max_depth=10, learning_rate=0.15, colsample_bytree=0.5 \n",
            "[CV]  subsample=0.3, n_estimators=1000, max_depth=10, learning_rate=0.15, colsample_bytree=0.5, score=0.714, total=  56.8s\n",
            "[CV] subsample=0.3, n_estimators=1000, max_depth=10, learning_rate=0.15, colsample_bytree=0.5 \n",
            "[CV]  subsample=0.3, n_estimators=1000, max_depth=10, learning_rate=0.15, colsample_bytree=0.5, score=0.715, total=  50.5s\n",
            "[CV] subsample=0.3, n_estimators=1000, max_depth=10, learning_rate=0.15, colsample_bytree=0.5 \n",
            "[CV]  subsample=0.3, n_estimators=1000, max_depth=10, learning_rate=0.15, colsample_bytree=0.5, score=0.719, total=  50.4s\n",
            "[CV] subsample=0.1, n_estimators=2000, max_depth=5, learning_rate=0.01, colsample_bytree=0.1 \n",
            "[CV]  subsample=0.1, n_estimators=2000, max_depth=5, learning_rate=0.01, colsample_bytree=0.1, score=0.792, total=  20.9s\n",
            "[CV] subsample=0.1, n_estimators=2000, max_depth=5, learning_rate=0.01, colsample_bytree=0.1 \n",
            "[CV]  subsample=0.1, n_estimators=2000, max_depth=5, learning_rate=0.01, colsample_bytree=0.1, score=0.782, total=  20.9s\n",
            "[CV] subsample=0.1, n_estimators=2000, max_depth=5, learning_rate=0.01, colsample_bytree=0.1 \n",
            "[CV]  subsample=0.1, n_estimators=2000, max_depth=5, learning_rate=0.01, colsample_bytree=0.1, score=0.814, total=  20.9s\n",
            "[CV] subsample=0.1, n_estimators=2000, max_depth=5, learning_rate=0.01, colsample_bytree=0.1 \n",
            "[CV]  subsample=0.1, n_estimators=2000, max_depth=5, learning_rate=0.01, colsample_bytree=0.1, score=0.809, total=  21.0s\n",
            "[CV] subsample=0.1, n_estimators=2000, max_depth=5, learning_rate=0.01, colsample_bytree=0.1 \n",
            "[CV]  subsample=0.1, n_estimators=2000, max_depth=5, learning_rate=0.01, colsample_bytree=0.1, score=0.795, total=  20.8s\n",
            "[CV] subsample=0.1, n_estimators=2000, max_depth=5, learning_rate=0.01, colsample_bytree=0.1 \n",
            "[CV]  subsample=0.1, n_estimators=2000, max_depth=5, learning_rate=0.01, colsample_bytree=0.1, score=0.800, total=  20.8s\n",
            "[CV] subsample=0.1, n_estimators=2000, max_depth=5, learning_rate=0.01, colsample_bytree=0.1 \n",
            "[CV]  subsample=0.1, n_estimators=2000, max_depth=5, learning_rate=0.01, colsample_bytree=0.1, score=0.799, total=  20.7s\n",
            "[CV] subsample=0.1, n_estimators=2000, max_depth=5, learning_rate=0.01, colsample_bytree=0.1 \n",
            "[CV]  subsample=0.1, n_estimators=2000, max_depth=5, learning_rate=0.01, colsample_bytree=0.1, score=0.774, total=  20.8s\n",
            "[CV] subsample=0.1, n_estimators=2000, max_depth=5, learning_rate=0.01, colsample_bytree=0.1 \n",
            "[CV]  subsample=0.1, n_estimators=2000, max_depth=5, learning_rate=0.01, colsample_bytree=0.1, score=0.799, total=  20.8s\n",
            "[CV] subsample=0.1, n_estimators=2000, max_depth=5, learning_rate=0.01, colsample_bytree=0.1 \n",
            "[CV]  subsample=0.1, n_estimators=2000, max_depth=5, learning_rate=0.01, colsample_bytree=0.1, score=0.806, total=  20.9s\n",
            "[CV] subsample=0.5, n_estimators=200, max_depth=3, learning_rate=0.2, colsample_bytree=0.1 \n",
            "[CV]  subsample=0.5, n_estimators=200, max_depth=3, learning_rate=0.2, colsample_bytree=0.1, score=0.794, total=   2.2s\n",
            "[CV] subsample=0.5, n_estimators=200, max_depth=3, learning_rate=0.2, colsample_bytree=0.1 \n",
            "[CV]  subsample=0.5, n_estimators=200, max_depth=3, learning_rate=0.2, colsample_bytree=0.1, score=0.776, total=   2.2s\n",
            "[CV] subsample=0.5, n_estimators=200, max_depth=3, learning_rate=0.2, colsample_bytree=0.1 \n",
            "[CV]  subsample=0.5, n_estimators=200, max_depth=3, learning_rate=0.2, colsample_bytree=0.1, score=0.810, total=   2.2s\n",
            "[CV] subsample=0.5, n_estimators=200, max_depth=3, learning_rate=0.2, colsample_bytree=0.1 \n",
            "[CV]  subsample=0.5, n_estimators=200, max_depth=3, learning_rate=0.2, colsample_bytree=0.1, score=0.807, total=   2.2s\n",
            "[CV] subsample=0.5, n_estimators=200, max_depth=3, learning_rate=0.2, colsample_bytree=0.1 \n",
            "[CV]  subsample=0.5, n_estimators=200, max_depth=3, learning_rate=0.2, colsample_bytree=0.1, score=0.792, total=   2.2s\n",
            "[CV] subsample=0.5, n_estimators=200, max_depth=3, learning_rate=0.2, colsample_bytree=0.1 \n",
            "[CV]  subsample=0.5, n_estimators=200, max_depth=3, learning_rate=0.2, colsample_bytree=0.1, score=0.802, total=   2.2s\n",
            "[CV] subsample=0.5, n_estimators=200, max_depth=3, learning_rate=0.2, colsample_bytree=0.1 \n",
            "[CV]  subsample=0.5, n_estimators=200, max_depth=3, learning_rate=0.2, colsample_bytree=0.1, score=0.798, total=   2.2s\n",
            "[CV] subsample=0.5, n_estimators=200, max_depth=3, learning_rate=0.2, colsample_bytree=0.1 \n",
            "[CV]  subsample=0.5, n_estimators=200, max_depth=3, learning_rate=0.2, colsample_bytree=0.1, score=0.774, total=   2.2s\n",
            "[CV] subsample=0.5, n_estimators=200, max_depth=3, learning_rate=0.2, colsample_bytree=0.1 \n",
            "[CV]  subsample=0.5, n_estimators=200, max_depth=3, learning_rate=0.2, colsample_bytree=0.1, score=0.797, total=   2.2s\n",
            "[CV] subsample=0.5, n_estimators=200, max_depth=3, learning_rate=0.2, colsample_bytree=0.1 \n",
            "[CV]  subsample=0.5, n_estimators=200, max_depth=3, learning_rate=0.2, colsample_bytree=0.1, score=0.802, total=   2.2s\n",
            "[CV] subsample=0.3, n_estimators=100, max_depth=3, learning_rate=0.1, colsample_bytree=1 \n",
            "[CV]  subsample=0.3, n_estimators=100, max_depth=3, learning_rate=0.1, colsample_bytree=1, score=0.791, total=   3.0s\n",
            "[CV] subsample=0.3, n_estimators=100, max_depth=3, learning_rate=0.1, colsample_bytree=1 \n",
            "[CV]  subsample=0.3, n_estimators=100, max_depth=3, learning_rate=0.1, colsample_bytree=1, score=0.783, total=   2.9s\n",
            "[CV] subsample=0.3, n_estimators=100, max_depth=3, learning_rate=0.1, colsample_bytree=1 \n",
            "[CV]  subsample=0.3, n_estimators=100, max_depth=3, learning_rate=0.1, colsample_bytree=1, score=0.814, total=   2.9s\n",
            "[CV] subsample=0.3, n_estimators=100, max_depth=3, learning_rate=0.1, colsample_bytree=1 \n",
            "[CV]  subsample=0.3, n_estimators=100, max_depth=3, learning_rate=0.1, colsample_bytree=1, score=0.818, total=   2.9s\n",
            "[CV] subsample=0.3, n_estimators=100, max_depth=3, learning_rate=0.1, colsample_bytree=1 \n",
            "[CV]  subsample=0.3, n_estimators=100, max_depth=3, learning_rate=0.1, colsample_bytree=1, score=0.794, total=   2.9s\n",
            "[CV] subsample=0.3, n_estimators=100, max_depth=3, learning_rate=0.1, colsample_bytree=1 \n",
            "[CV]  subsample=0.3, n_estimators=100, max_depth=3, learning_rate=0.1, colsample_bytree=1, score=0.798, total=   2.9s\n",
            "[CV] subsample=0.3, n_estimators=100, max_depth=3, learning_rate=0.1, colsample_bytree=1 \n",
            "[CV]  subsample=0.3, n_estimators=100, max_depth=3, learning_rate=0.1, colsample_bytree=1, score=0.795, total=   2.9s\n",
            "[CV] subsample=0.3, n_estimators=100, max_depth=3, learning_rate=0.1, colsample_bytree=1 \n",
            "[CV]  subsample=0.3, n_estimators=100, max_depth=3, learning_rate=0.1, colsample_bytree=1, score=0.771, total=   2.9s\n",
            "[CV] subsample=0.3, n_estimators=100, max_depth=3, learning_rate=0.1, colsample_bytree=1 \n",
            "[CV]  subsample=0.3, n_estimators=100, max_depth=3, learning_rate=0.1, colsample_bytree=1, score=0.798, total=   2.9s\n",
            "[CV] subsample=0.3, n_estimators=100, max_depth=3, learning_rate=0.1, colsample_bytree=1 \n",
            "[CV]  subsample=0.3, n_estimators=100, max_depth=3, learning_rate=0.1, colsample_bytree=1, score=0.804, total=   2.9s\n",
            "[CV] subsample=0.1, n_estimators=2000, max_depth=3, learning_rate=0.15, colsample_bytree=1 \n",
            "[CV]  subsample=0.1, n_estimators=2000, max_depth=3, learning_rate=0.15, colsample_bytree=1, score=0.753, total=  39.4s\n",
            "[CV] subsample=0.1, n_estimators=2000, max_depth=3, learning_rate=0.15, colsample_bytree=1 \n",
            "[CV]  subsample=0.1, n_estimators=2000, max_depth=3, learning_rate=0.15, colsample_bytree=1, score=0.733, total=  39.5s\n",
            "[CV] subsample=0.1, n_estimators=2000, max_depth=3, learning_rate=0.15, colsample_bytree=1 \n",
            "[CV]  subsample=0.1, n_estimators=2000, max_depth=3, learning_rate=0.15, colsample_bytree=1, score=0.763, total=  39.4s\n",
            "[CV] subsample=0.1, n_estimators=2000, max_depth=3, learning_rate=0.15, colsample_bytree=1 \n",
            "[CV]  subsample=0.1, n_estimators=2000, max_depth=3, learning_rate=0.15, colsample_bytree=1, score=0.779, total=  39.4s\n",
            "[CV] subsample=0.1, n_estimators=2000, max_depth=3, learning_rate=0.15, colsample_bytree=1 \n",
            "[CV]  subsample=0.1, n_estimators=2000, max_depth=3, learning_rate=0.15, colsample_bytree=1, score=0.746, total=  39.4s\n",
            "[CV] subsample=0.1, n_estimators=2000, max_depth=3, learning_rate=0.15, colsample_bytree=1 \n",
            "[CV]  subsample=0.1, n_estimators=2000, max_depth=3, learning_rate=0.15, colsample_bytree=1, score=0.758, total=  45.9s\n",
            "[CV] subsample=0.1, n_estimators=2000, max_depth=3, learning_rate=0.15, colsample_bytree=1 \n",
            "[CV]  subsample=0.1, n_estimators=2000, max_depth=3, learning_rate=0.15, colsample_bytree=1, score=0.758, total=  39.8s\n",
            "[CV] subsample=0.1, n_estimators=2000, max_depth=3, learning_rate=0.15, colsample_bytree=1 \n",
            "[CV]  subsample=0.1, n_estimators=2000, max_depth=3, learning_rate=0.15, colsample_bytree=1, score=0.741, total=  39.5s\n",
            "[CV] subsample=0.1, n_estimators=2000, max_depth=3, learning_rate=0.15, colsample_bytree=1 \n",
            "[CV]  subsample=0.1, n_estimators=2000, max_depth=3, learning_rate=0.15, colsample_bytree=1, score=0.745, total=  39.3s\n",
            "[CV] subsample=0.1, n_estimators=2000, max_depth=3, learning_rate=0.15, colsample_bytree=1 \n",
            "[CV]  subsample=0.1, n_estimators=2000, max_depth=3, learning_rate=0.15, colsample_bytree=1, score=0.751, total=  39.4s\n",
            "[CV] subsample=0.1, n_estimators=500, max_depth=3, learning_rate=0.15, colsample_bytree=0.3 \n",
            "[CV]  subsample=0.1, n_estimators=500, max_depth=3, learning_rate=0.15, colsample_bytree=0.3, score=0.777, total=   5.6s\n",
            "[CV] subsample=0.1, n_estimators=500, max_depth=3, learning_rate=0.15, colsample_bytree=0.3 \n",
            "[CV]  subsample=0.1, n_estimators=500, max_depth=3, learning_rate=0.15, colsample_bytree=0.3, score=0.761, total=   5.6s\n",
            "[CV] subsample=0.1, n_estimators=500, max_depth=3, learning_rate=0.15, colsample_bytree=0.3 \n",
            "[CV]  subsample=0.1, n_estimators=500, max_depth=3, learning_rate=0.15, colsample_bytree=0.3, score=0.795, total=   5.6s\n",
            "[CV] subsample=0.1, n_estimators=500, max_depth=3, learning_rate=0.15, colsample_bytree=0.3 \n",
            "[CV]  subsample=0.1, n_estimators=500, max_depth=3, learning_rate=0.15, colsample_bytree=0.3, score=0.794, total=   5.6s\n",
            "[CV] subsample=0.1, n_estimators=500, max_depth=3, learning_rate=0.15, colsample_bytree=0.3 \n",
            "[CV]  subsample=0.1, n_estimators=500, max_depth=3, learning_rate=0.15, colsample_bytree=0.3, score=0.792, total=   5.6s\n",
            "[CV] subsample=0.1, n_estimators=500, max_depth=3, learning_rate=0.15, colsample_bytree=0.3 \n",
            "[CV]  subsample=0.1, n_estimators=500, max_depth=3, learning_rate=0.15, colsample_bytree=0.3, score=0.779, total=   5.6s\n",
            "[CV] subsample=0.1, n_estimators=500, max_depth=3, learning_rate=0.15, colsample_bytree=0.3 \n",
            "[CV]  subsample=0.1, n_estimators=500, max_depth=3, learning_rate=0.15, colsample_bytree=0.3, score=0.775, total=   5.6s\n",
            "[CV] subsample=0.1, n_estimators=500, max_depth=3, learning_rate=0.15, colsample_bytree=0.3 \n",
            "[CV]  subsample=0.1, n_estimators=500, max_depth=3, learning_rate=0.15, colsample_bytree=0.3, score=0.755, total=   5.6s\n",
            "[CV] subsample=0.1, n_estimators=500, max_depth=3, learning_rate=0.15, colsample_bytree=0.3 \n",
            "[CV]  subsample=0.1, n_estimators=500, max_depth=3, learning_rate=0.15, colsample_bytree=0.3, score=0.774, total=   5.6s\n",
            "[CV] subsample=0.1, n_estimators=500, max_depth=3, learning_rate=0.15, colsample_bytree=0.3 \n",
            "[CV]  subsample=0.1, n_estimators=500, max_depth=3, learning_rate=0.15, colsample_bytree=0.3, score=0.776, total=   5.6s\n",
            "[CV] subsample=0.3, n_estimators=2000, max_depth=5, learning_rate=0.1, colsample_bytree=1 \n",
            "[CV]  subsample=0.3, n_estimators=2000, max_depth=5, learning_rate=0.1, colsample_bytree=1, score=0.732, total= 1.5min\n",
            "[CV] subsample=0.3, n_estimators=2000, max_depth=5, learning_rate=0.1, colsample_bytree=1 \n",
            "[CV]  subsample=0.3, n_estimators=2000, max_depth=5, learning_rate=0.1, colsample_bytree=1, score=0.736, total= 1.5min\n",
            "[CV] subsample=0.3, n_estimators=2000, max_depth=5, learning_rate=0.1, colsample_bytree=1 \n",
            "[CV]  subsample=0.3, n_estimators=2000, max_depth=5, learning_rate=0.1, colsample_bytree=1, score=0.746, total= 1.5min\n",
            "[CV] subsample=0.3, n_estimators=2000, max_depth=5, learning_rate=0.1, colsample_bytree=1 \n",
            "[CV]  subsample=0.3, n_estimators=2000, max_depth=5, learning_rate=0.1, colsample_bytree=1, score=0.769, total= 1.6min\n",
            "[CV] subsample=0.3, n_estimators=2000, max_depth=5, learning_rate=0.1, colsample_bytree=1 \n",
            "[CV]  subsample=0.3, n_estimators=2000, max_depth=5, learning_rate=0.1, colsample_bytree=1, score=0.746, total= 1.5min\n",
            "[CV] subsample=0.3, n_estimators=2000, max_depth=5, learning_rate=0.1, colsample_bytree=1 \n",
            "[CV]  subsample=0.3, n_estimators=2000, max_depth=5, learning_rate=0.1, colsample_bytree=1, score=0.745, total= 1.5min\n",
            "[CV] subsample=0.3, n_estimators=2000, max_depth=5, learning_rate=0.1, colsample_bytree=1 \n",
            "[CV]  subsample=0.3, n_estimators=2000, max_depth=5, learning_rate=0.1, colsample_bytree=1, score=0.753, total= 1.5min\n",
            "[CV] subsample=0.3, n_estimators=2000, max_depth=5, learning_rate=0.1, colsample_bytree=1 \n",
            "[CV]  subsample=0.3, n_estimators=2000, max_depth=5, learning_rate=0.1, colsample_bytree=1, score=0.734, total= 1.5min\n",
            "[CV] subsample=0.3, n_estimators=2000, max_depth=5, learning_rate=0.1, colsample_bytree=1 \n",
            "[CV]  subsample=0.3, n_estimators=2000, max_depth=5, learning_rate=0.1, colsample_bytree=1, score=0.730, total= 1.5min\n",
            "[CV] subsample=0.3, n_estimators=2000, max_depth=5, learning_rate=0.1, colsample_bytree=1 \n",
            "[CV]  subsample=0.3, n_estimators=2000, max_depth=5, learning_rate=0.1, colsample_bytree=1, score=0.731, total= 1.5min\n",
            "[CV] subsample=0.5, n_estimators=100, max_depth=10, learning_rate=0.2, colsample_bytree=0.1 \n",
            "[CV]  subsample=0.5, n_estimators=100, max_depth=10, learning_rate=0.2, colsample_bytree=0.1, score=0.797, total=   2.0s\n",
            "[CV] subsample=0.5, n_estimators=100, max_depth=10, learning_rate=0.2, colsample_bytree=0.1 \n",
            "[CV]  subsample=0.5, n_estimators=100, max_depth=10, learning_rate=0.2, colsample_bytree=0.1, score=0.780, total=   2.0s\n",
            "[CV] subsample=0.5, n_estimators=100, max_depth=10, learning_rate=0.2, colsample_bytree=0.1 \n",
            "[CV]  subsample=0.5, n_estimators=100, max_depth=10, learning_rate=0.2, colsample_bytree=0.1, score=0.797, total=   2.0s\n",
            "[CV] subsample=0.5, n_estimators=100, max_depth=10, learning_rate=0.2, colsample_bytree=0.1 \n",
            "[CV]  subsample=0.5, n_estimators=100, max_depth=10, learning_rate=0.2, colsample_bytree=0.1, score=0.812, total=   2.0s\n",
            "[CV] subsample=0.5, n_estimators=100, max_depth=10, learning_rate=0.2, colsample_bytree=0.1 \n",
            "[CV]  subsample=0.5, n_estimators=100, max_depth=10, learning_rate=0.2, colsample_bytree=0.1, score=0.793, total=   2.0s\n",
            "[CV] subsample=0.5, n_estimators=100, max_depth=10, learning_rate=0.2, colsample_bytree=0.1 \n",
            "[CV]  subsample=0.5, n_estimators=100, max_depth=10, learning_rate=0.2, colsample_bytree=0.1, score=0.787, total=   2.0s\n",
            "[CV] subsample=0.5, n_estimators=100, max_depth=10, learning_rate=0.2, colsample_bytree=0.1 \n",
            "[CV]  subsample=0.5, n_estimators=100, max_depth=10, learning_rate=0.2, colsample_bytree=0.1, score=0.795, total=   2.0s\n",
            "[CV] subsample=0.5, n_estimators=100, max_depth=10, learning_rate=0.2, colsample_bytree=0.1 \n",
            "[CV]  subsample=0.5, n_estimators=100, max_depth=10, learning_rate=0.2, colsample_bytree=0.1, score=0.772, total=   2.0s\n",
            "[CV] subsample=0.5, n_estimators=100, max_depth=10, learning_rate=0.2, colsample_bytree=0.1 \n",
            "[CV]  subsample=0.5, n_estimators=100, max_depth=10, learning_rate=0.2, colsample_bytree=0.1, score=0.771, total=   2.0s\n",
            "[CV] subsample=0.5, n_estimators=100, max_depth=10, learning_rate=0.2, colsample_bytree=0.1 \n",
            "[CV]  subsample=0.5, n_estimators=100, max_depth=10, learning_rate=0.2, colsample_bytree=0.1, score=0.788, total=   2.0s\n",
            "[CV] subsample=0.3, n_estimators=2000, max_depth=3, learning_rate=0.15, colsample_bytree=1 \n",
            "[CV]  subsample=0.3, n_estimators=2000, max_depth=3, learning_rate=0.15, colsample_bytree=1, score=0.754, total= 1.0min\n",
            "[CV] subsample=0.3, n_estimators=2000, max_depth=3, learning_rate=0.15, colsample_bytree=1 \n",
            "[CV]  subsample=0.3, n_estimators=2000, max_depth=3, learning_rate=0.15, colsample_bytree=1, score=0.757, total=  56.9s\n",
            "[CV] subsample=0.3, n_estimators=2000, max_depth=3, learning_rate=0.15, colsample_bytree=1 \n",
            "[CV]  subsample=0.3, n_estimators=2000, max_depth=3, learning_rate=0.15, colsample_bytree=1, score=0.776, total=  56.9s\n",
            "[CV] subsample=0.3, n_estimators=2000, max_depth=3, learning_rate=0.15, colsample_bytree=1 \n",
            "[CV]  subsample=0.3, n_estimators=2000, max_depth=3, learning_rate=0.15, colsample_bytree=1, score=0.790, total=  56.8s\n",
            "[CV] subsample=0.3, n_estimators=2000, max_depth=3, learning_rate=0.15, colsample_bytree=1 \n",
            "[CV]  subsample=0.3, n_estimators=2000, max_depth=3, learning_rate=0.15, colsample_bytree=1, score=0.756, total=  56.8s\n",
            "[CV] subsample=0.3, n_estimators=2000, max_depth=3, learning_rate=0.15, colsample_bytree=1 \n",
            "[CV]  subsample=0.3, n_estimators=2000, max_depth=3, learning_rate=0.15, colsample_bytree=1, score=0.758, total=  56.8s\n",
            "[CV] subsample=0.3, n_estimators=2000, max_depth=3, learning_rate=0.15, colsample_bytree=1 \n",
            "[CV]  subsample=0.3, n_estimators=2000, max_depth=3, learning_rate=0.15, colsample_bytree=1, score=0.767, total=  56.8s\n",
            "[CV] subsample=0.3, n_estimators=2000, max_depth=3, learning_rate=0.15, colsample_bytree=1 \n",
            "[CV]  subsample=0.3, n_estimators=2000, max_depth=3, learning_rate=0.15, colsample_bytree=1, score=0.758, total=  56.9s\n",
            "[CV] subsample=0.3, n_estimators=2000, max_depth=3, learning_rate=0.15, colsample_bytree=1 \n",
            "[CV]  subsample=0.3, n_estimators=2000, max_depth=3, learning_rate=0.15, colsample_bytree=1, score=0.748, total=  56.8s\n",
            "[CV] subsample=0.3, n_estimators=2000, max_depth=3, learning_rate=0.15, colsample_bytree=1 \n",
            "[CV]  subsample=0.3, n_estimators=2000, max_depth=3, learning_rate=0.15, colsample_bytree=1, score=0.769, total=  56.7s\n",
            "[CV] subsample=0.3, n_estimators=100, max_depth=5, learning_rate=0.05, colsample_bytree=0.1 \n",
            "[CV]  subsample=0.3, n_estimators=100, max_depth=5, learning_rate=0.05, colsample_bytree=0.1, score=0.791, total=   1.3s\n",
            "[CV] subsample=0.3, n_estimators=100, max_depth=5, learning_rate=0.05, colsample_bytree=0.1 \n",
            "[CV]  subsample=0.3, n_estimators=100, max_depth=5, learning_rate=0.05, colsample_bytree=0.1, score=0.779, total=   1.3s\n",
            "[CV] subsample=0.3, n_estimators=100, max_depth=5, learning_rate=0.05, colsample_bytree=0.1 \n",
            "[CV]  subsample=0.3, n_estimators=100, max_depth=5, learning_rate=0.05, colsample_bytree=0.1, score=0.809, total=   1.3s\n",
            "[CV] subsample=0.3, n_estimators=100, max_depth=5, learning_rate=0.05, colsample_bytree=0.1 \n",
            "[CV]  subsample=0.3, n_estimators=100, max_depth=5, learning_rate=0.05, colsample_bytree=0.1, score=0.804, total=   1.3s\n",
            "[CV] subsample=0.3, n_estimators=100, max_depth=5, learning_rate=0.05, colsample_bytree=0.1 \n",
            "[CV]  subsample=0.3, n_estimators=100, max_depth=5, learning_rate=0.05, colsample_bytree=0.1, score=0.785, total=   1.3s\n",
            "[CV] subsample=0.3, n_estimators=100, max_depth=5, learning_rate=0.05, colsample_bytree=0.1 \n",
            "[CV]  subsample=0.3, n_estimators=100, max_depth=5, learning_rate=0.05, colsample_bytree=0.1, score=0.800, total=   1.3s\n",
            "[CV] subsample=0.3, n_estimators=100, max_depth=5, learning_rate=0.05, colsample_bytree=0.1 \n",
            "[CV]  subsample=0.3, n_estimators=100, max_depth=5, learning_rate=0.05, colsample_bytree=0.1, score=0.791, total=   1.3s\n",
            "[CV] subsample=0.3, n_estimators=100, max_depth=5, learning_rate=0.05, colsample_bytree=0.1 \n",
            "[CV]  subsample=0.3, n_estimators=100, max_depth=5, learning_rate=0.05, colsample_bytree=0.1, score=0.775, total=   1.3s\n",
            "[CV] subsample=0.3, n_estimators=100, max_depth=5, learning_rate=0.05, colsample_bytree=0.1 \n",
            "[CV]  subsample=0.3, n_estimators=100, max_depth=5, learning_rate=0.05, colsample_bytree=0.1, score=0.798, total=   1.3s\n",
            "[CV] subsample=0.3, n_estimators=100, max_depth=5, learning_rate=0.05, colsample_bytree=0.1 \n",
            "[CV]  subsample=0.3, n_estimators=100, max_depth=5, learning_rate=0.05, colsample_bytree=0.1, score=0.807, total=   1.3s\n",
            "[CV] subsample=0.5, n_estimators=1000, max_depth=5, learning_rate=0.03, colsample_bytree=0.3 \n",
            "[CV]  subsample=0.5, n_estimators=1000, max_depth=5, learning_rate=0.03, colsample_bytree=0.3, score=0.791, total=  23.3s\n",
            "[CV] subsample=0.5, n_estimators=1000, max_depth=5, learning_rate=0.03, colsample_bytree=0.3 \n",
            "[CV]  subsample=0.5, n_estimators=1000, max_depth=5, learning_rate=0.03, colsample_bytree=0.3, score=0.780, total=  23.4s\n",
            "[CV] subsample=0.5, n_estimators=1000, max_depth=5, learning_rate=0.03, colsample_bytree=0.3 \n",
            "[CV]  subsample=0.5, n_estimators=1000, max_depth=5, learning_rate=0.03, colsample_bytree=0.3, score=0.806, total=  29.0s\n",
            "[CV] subsample=0.5, n_estimators=1000, max_depth=5, learning_rate=0.03, colsample_bytree=0.3 \n",
            "[CV]  subsample=0.5, n_estimators=1000, max_depth=5, learning_rate=0.03, colsample_bytree=0.3, score=0.813, total=  23.3s\n",
            "[CV] subsample=0.5, n_estimators=1000, max_depth=5, learning_rate=0.03, colsample_bytree=0.3 \n",
            "[CV]  subsample=0.5, n_estimators=1000, max_depth=5, learning_rate=0.03, colsample_bytree=0.3, score=0.796, total=  23.3s\n",
            "[CV] subsample=0.5, n_estimators=1000, max_depth=5, learning_rate=0.03, colsample_bytree=0.3 \n",
            "[CV]  subsample=0.5, n_estimators=1000, max_depth=5, learning_rate=0.03, colsample_bytree=0.3, score=0.790, total=  23.3s\n",
            "[CV] subsample=0.5, n_estimators=1000, max_depth=5, learning_rate=0.03, colsample_bytree=0.3 \n",
            "[CV]  subsample=0.5, n_estimators=1000, max_depth=5, learning_rate=0.03, colsample_bytree=0.3, score=0.795, total=  23.3s\n",
            "[CV] subsample=0.5, n_estimators=1000, max_depth=5, learning_rate=0.03, colsample_bytree=0.3 \n",
            "[CV]  subsample=0.5, n_estimators=1000, max_depth=5, learning_rate=0.03, colsample_bytree=0.3, score=0.776, total=  23.3s\n",
            "[CV] subsample=0.5, n_estimators=1000, max_depth=5, learning_rate=0.03, colsample_bytree=0.3 \n",
            "[CV]  subsample=0.5, n_estimators=1000, max_depth=5, learning_rate=0.03, colsample_bytree=0.3, score=0.781, total=  23.3s\n",
            "[CV] subsample=0.5, n_estimators=1000, max_depth=5, learning_rate=0.03, colsample_bytree=0.3 \n",
            "[CV]  subsample=0.5, n_estimators=1000, max_depth=5, learning_rate=0.03, colsample_bytree=0.3, score=0.793, total=  23.3s\n",
            "[CV] subsample=0.5, n_estimators=1000, max_depth=5, learning_rate=0.15, colsample_bytree=1 \n",
            "[CV]  subsample=0.5, n_estimators=1000, max_depth=5, learning_rate=0.15, colsample_bytree=1, score=0.739, total=  56.6s\n",
            "[CV] subsample=0.5, n_estimators=1000, max_depth=5, learning_rate=0.15, colsample_bytree=1 \n",
            "[CV]  subsample=0.5, n_estimators=1000, max_depth=5, learning_rate=0.15, colsample_bytree=1, score=0.740, total=  56.6s\n",
            "[CV] subsample=0.5, n_estimators=1000, max_depth=5, learning_rate=0.15, colsample_bytree=1 \n",
            "[CV]  subsample=0.5, n_estimators=1000, max_depth=5, learning_rate=0.15, colsample_bytree=1, score=0.760, total=  57.0s\n",
            "[CV] subsample=0.5, n_estimators=1000, max_depth=5, learning_rate=0.15, colsample_bytree=1 \n",
            "[CV]  subsample=0.5, n_estimators=1000, max_depth=5, learning_rate=0.15, colsample_bytree=1, score=0.768, total=  56.7s\n",
            "[CV] subsample=0.5, n_estimators=1000, max_depth=5, learning_rate=0.15, colsample_bytree=1 \n",
            "[CV]  subsample=0.5, n_estimators=1000, max_depth=5, learning_rate=0.15, colsample_bytree=1, score=0.746, total=  56.7s\n",
            "[CV] subsample=0.5, n_estimators=1000, max_depth=5, learning_rate=0.15, colsample_bytree=1 \n",
            "[CV]  subsample=0.5, n_estimators=1000, max_depth=5, learning_rate=0.15, colsample_bytree=1, score=0.747, total=  56.7s\n",
            "[CV] subsample=0.5, n_estimators=1000, max_depth=5, learning_rate=0.15, colsample_bytree=1 \n",
            "[CV]  subsample=0.5, n_estimators=1000, max_depth=5, learning_rate=0.15, colsample_bytree=1, score=0.758, total=  56.8s\n",
            "[CV] subsample=0.5, n_estimators=1000, max_depth=5, learning_rate=0.15, colsample_bytree=1 \n",
            "[CV]  subsample=0.5, n_estimators=1000, max_depth=5, learning_rate=0.15, colsample_bytree=1, score=0.745, total= 1.0min\n",
            "[CV] subsample=0.5, n_estimators=1000, max_depth=5, learning_rate=0.15, colsample_bytree=1 \n",
            "[CV]  subsample=0.5, n_estimators=1000, max_depth=5, learning_rate=0.15, colsample_bytree=1, score=0.734, total=  56.8s\n",
            "[CV] subsample=0.5, n_estimators=1000, max_depth=5, learning_rate=0.15, colsample_bytree=1 \n",
            "[CV]  subsample=0.5, n_estimators=1000, max_depth=5, learning_rate=0.15, colsample_bytree=1, score=0.738, total=  56.8s\n",
            "[CV] subsample=0.3, n_estimators=1000, max_depth=5, learning_rate=0.15, colsample_bytree=1 \n",
            "[CV]  subsample=0.3, n_estimators=1000, max_depth=5, learning_rate=0.15, colsample_bytree=1, score=0.732, total=  44.5s\n",
            "[CV] subsample=0.3, n_estimators=1000, max_depth=5, learning_rate=0.15, colsample_bytree=1 \n",
            "[CV]  subsample=0.3, n_estimators=1000, max_depth=5, learning_rate=0.15, colsample_bytree=1, score=0.742, total=  44.6s\n",
            "[CV] subsample=0.3, n_estimators=1000, max_depth=5, learning_rate=0.15, colsample_bytree=1 \n",
            "[CV]  subsample=0.3, n_estimators=1000, max_depth=5, learning_rate=0.15, colsample_bytree=1, score=0.747, total=  44.5s\n",
            "[CV] subsample=0.3, n_estimators=1000, max_depth=5, learning_rate=0.15, colsample_bytree=1 \n"
          ],
          "name": "stdout"
        }
      ]
    },
    {
      "cell_type": "code",
      "metadata": {
        "id": "HihoJZrN4mPV",
        "colab_type": "code",
        "colab": {}
      },
      "source": [
        "x_cfl=XGBClassifier(n_estimators=200,max_depth=5,learning_rate=0.1, \\\n",
        "                    colsample_bytree=0.5,subsample=1, max_bin=16)\n",
        "x_cfl.fit(X_train,y_train,verbose=True)\n",
        "sig_clf = CalibratedClassifierCV(x_cfl, method=\"sigmoid\")\n",
        "sig_clf.fit(X_train, y_train)\n",
        "    \n",
        "predict_y = sig_clf.predict_proba(X_train)\n",
        "print (\"For values of best alpha = 200 The train AUC is:\",roc_auc_score(y_train, predict_y[:, 1]))\n",
        "predict_y = sig_clf.predict_proba(X_test)\n",
        "print(\"For values of best alpha = 200 The test AUC is:\",roc_auc_score(y_test, predict_y[:, 1]))\n",
        "\n",
        "import matplotlib.pyplot as plt; plt.rcdefaults()\n",
        "feature_importance = x_cfl.get_booster().get_score(importance_type='gain')\n",
        "\n",
        "objects = feature_importance.keys()\n",
        "y_pos = np.arange(len(objects))\n",
        "performance = feature_importance.values()\n",
        "plt.figure(figsize=(8,20))\n",
        "plt.barh(y_pos, performance, align='center', alpha=0.5)\n",
        "plt.yticks(y_pos, objects)\n",
        "plt.xlabel('Importance')\n",
        "plt.ylabel('Feature')\n",
        "plt.title('Feature Importance Graph')\n",
        "plt.show()"
      ],
      "execution_count": null,
      "outputs": []
    }
  ]
}